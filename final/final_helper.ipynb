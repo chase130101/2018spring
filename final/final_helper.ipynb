{
 "cells": [
  {
   "cell_type": "markdown",
   "metadata": {},
   "source": [
    "## AMPTH 207: Stochastic Methods for Data Analysis, Inference and Optimization\n",
    "\n",
    "### ANNs in PyMC3\n",
    "\n",
    "**Harvard University**  \n",
    "**Spring 2018**  \n",
    "**Instructor: Rahul Dave**  "
   ]
  },
  {
   "cell_type": "markdown",
   "metadata": {},
   "source": [
    "## Variational Inference for Hierarchical Feed Forward Neural Networks\n",
    "Earlier in the course we've built models to predict a label from a discrete finite set for a given input - that is, we've built classifiers. When building these classifiers, we learn a function that maps certain input data to a set of outputs, usually the classes into which the dataset naturally separate. In the case of a Artificial Neural Network (ANN) like the Multi-Layer Perceptron, the learning is achieved by iteratively updating the weights that regulate the flow of information between the different layers of the ANN. We have also seen that it is possible to regularize our model we learn by penalizing the magnitude of some of the weights - this is done in order to avoid overfitting. This type of regularization can be accomplished by  imposing priors on the weights when they are initialized.\n",
    "\n",
    "This approach is inherently Bayesian. We can specify priors to inform and constrain our models and get uncertainty estimations in the form of a posterior distribution. Using MCMC sampling algorithms we can draw samples from this posterior to very flexibly estimate these models. This also means that we can obtain uncertainties on both the weights and the classes that we obtain from the output layer.\n",
    "\n",
    "In this problem you are asked to build a hierarchical Bayesian ANN to classify the MNIST dataset (properly split into training and test sets) and to infer uncertainties for the weighths and the resulting classes. Variational inference can become very handy here: instead of drawing samples from the posterior, these algorithms fit a distribution (e.g. normal) to the posterior turning a sampling problem into and optimization problem. ADVI -- Automatic Differentation Variational Inference is implemented in PyMC3 and Stan.\n",
    "\n",
    "### Bayesian ANN\n",
    "\n",
    "In HW3 you built a multi-layer perceptron to classify the MNIST dataset.\n",
    "\n",
    "Here we will build a Bayesian Artificial Neural Network. \n",
    "\n",
    "Build an artificial neural network in pymc3 (or Stan, your choice) with two hidden layers and 25 neurons in each, and use it to classify the MNIST dataset. The architecture will look like the one below:\n",
    "<img src=\"ANN2.png\">\n",
    "Recall that for each node in a fixed layer, you will be applying an activation function to a linear combination of the outputs from the previous layer with a constant term (called the bias):\n",
    "<img src=\"ANN.jpg\">\n",
    "\n",
    "Use the $\\tanh$ function as the activation function, and initialize ALL the weights using using normal priors with $\\mu=0$ and two different values for $\\sigma = 0.03, 0.1$.\n",
    "\n",
    "1. You could use a MCMC sampler such as NUTS to train your model. But this will be extremely slow as you add more layer or more units. Instead, use the PyMC3/Stan ADVI implementation to approximate the posteriors of the weights, and obtain the posterior means, standard deviations, and the evidence lower bound (ELBO), which is your objective function. Use mini-batch gradient descent for the optimization (a minibatch size of 500 is appropriate), and a todal of 50000 ADVI iterations.\n",
    "\n",
    "  **Hint:** You should organize the weights between two consecutive layers as a matrix. It would be extremely beneficial for you to first work out the dimensions of these matrices before doing any coding.\n",
    "  \n",
    "  $\\square$\n",
    "  \n",
    "2. Plot the objective function (ELBO) as a function of the iteration. Using the best fit from your training, predict on the test set by estimating posterior predictives for the classes in each case, and provide the accuracy of your classification. How does your accuracy compare for the two values of $\\sigma$? \n",
    "\n",
    "**Hint:** if you need traces to perform inference, you can sample directly from the normal distribution that ADVI outputs."
   ]
  },
  {
   "cell_type": "markdown",
   "metadata": {},
   "source": [
    "### Solution:\n",
    "\n"
   ]
  },
  {
   "cell_type": "markdown",
   "metadata": {},
   "source": [
    "First and as usual, we load the required libraries."
   ]
  },
  {
   "cell_type": "code",
   "execution_count": 1,
   "metadata": {
    "collapsed": true
   },
   "outputs": [
    {
     "name": "stderr",
     "output_type": "stream",
     "text": [
      "WARNING (theano.tensor.blas): Using NumPy C-API based implementation for BLAS functions.\n",
      "/home/igodo/.virtualenvs/AM207-SakPYaa-/lib/python3.6/site-packages/h5py/__init__.py:36: FutureWarning: Conversion of the second argument of issubdtype from `float` to `np.floating` is deprecated. In future, it will be treated as `np.float64 == np.dtype(float).type`.\n",
      "  from ._conv import register_converters as _register_converters\n"
     ]
    }
   ],
   "source": [
    "%matplotlib inline\n",
    "import matplotlib.pyplot as plt\n",
    "import numpy as np\n",
    "import pandas as pd\n",
    "import seaborn as sns\n",
    "sns.set_style('white')\n",
    "sns.set_context('talk')\n",
    "\n",
    "import pymc3 as pm\n",
    "import theano.tensor as T\n",
    "import theano\n",
    "\n",
    "floatX = theano.config.floatX\n",
    "\n",
    "\n",
    "from scipy.stats import mode, chisquare\n",
    "from sklearn.metrics import confusion_matrix, accuracy_score"
   ]
  },
  {
   "cell_type": "markdown",
   "metadata": {},
   "source": [
    "Next, we load in the MNIST dataset from Long Homework 1. "
   ]
  },
  {
   "cell_type": "code",
   "execution_count": 2,
   "metadata": {
    "collapsed": true
   },
   "outputs": [],
   "source": [
    "import gzip\n",
    "import pickle\n",
    "\n",
    "# To read the dataset\n",
    "dataset='mnist.pkl.gz'\n",
    "with gzip.open(dataset, 'rb') as f:\n",
    "        try:\n",
    "            train_set, valid_set, test_set = pickle.load(f, encoding='latin1')\n",
    "        except:\n",
    "            train_set, valid_set, test_set = pickle.load(f)"
   ]
  },
  {
   "cell_type": "markdown",
   "metadata": {},
   "source": [
    "We combine the preloaded validation and test sets into a single test set. "
   ]
  },
  {
   "cell_type": "code",
   "execution_count": 3,
   "metadata": {},
   "outputs": [
    {
     "name": "stdout",
     "output_type": "stream",
     "text": [
      "Dimensions of training data (50000, 784)\n",
      "Dimensions of test data (20000, 784)\n"
     ]
    }
   ],
   "source": [
    "# Obtain training and test data\n",
    "train_x = np.array(train_set[0])\n",
    "train_y = np.array(train_set[1])\n",
    "\n",
    "test_x = np.concatenate((np.array(test_set[0]), np.array(valid_set[0])))\n",
    "test_y = np.concatenate((np.array(test_set[1]), np.array(valid_set[1])))\n",
    "\n",
    "print(\"Dimensions of training data\", train_x.shape)\n",
    "print(\"Dimensions of test data\", test_x.shape)"
   ]
  },
  {
   "cell_type": "code",
   "execution_count": 4,
   "metadata": {
    "collapsed": true
   },
   "outputs": [],
   "source": [
    "data_train_x = pm.Minibatch(train_x, batch_size=500)\n",
    "data_train_y = pm.Minibatch(train_y, batch_size=500)"
   ]
  },
  {
   "cell_type": "markdown",
   "metadata": {},
   "source": [
    "We have 50000 handwritten digits for training, and 20000 for testing. The pixel values are already standardized so we don't need to do any further preprocessing.\n",
    "\n",
    "We now implement our Bayesian ANN with the specified architecture using pymc3. By matrix multiplication, we find that the weight matrices should have the following dimensions:\n",
    "\n",
    "- Weights from input to first hidden layer - $784 \\times 25$\n",
    "- Weights from first to second hidden layers - $25 \\times 25$\n",
    "- Weights from second hidden layer to output layer - $25 \\times 10$\n",
    "\n",
    "We first handle the case when $\\sigma = 0.03$."
   ]
  },
  {
   "cell_type": "code",
   "execution_count": 5,
   "metadata": {
    "collapsed": true
   },
   "outputs": [],
   "source": [
    "# Code below adapted from http://twiecki.github.io/blog/2016/07/05/bayesian-deep-learning/\n",
    "total_size = len(train_y)"
   ]
  },
  {
   "cell_type": "code",
   "execution_count": 6,
   "metadata": {},
   "outputs": [],
   "source": [
    "\n",
    "ann_input = theano.shared(train_x)\n",
    "ann_output = theano.shared(train_y)\n",
    "\n",
    "n_hidden = 25 # Number of neurons in each hidden unit\n",
    "\n",
    "# initialize\n",
    "init_1 = np.random.randn(train_x.shape[1], n_hidden).astype(floatX)\n",
    "init_2 = np.random.randn(n_hidden, n_hidden).astype(floatX)\n",
    "init_out = np.random.randn(len(np.unique(train_y))).astype(floatX)\n",
    "    \n",
    "with pm.Model() as neural_network:\n",
    "    \n",
    "    # Weights from input to hidden layer\n",
    "    weights_in_1 = pm.Normal('w_in_1', 0, sd = 0.03, \n",
    "                             shape=(train_x.shape[1], n_hidden), testval=init_1)\n",
    "    \n",
    "    # Weights from 1st to 2nd layer\n",
    "    weights_1_2 = pm.Normal('w_1_2', 0, sd = 0.03, \n",
    "                            shape=(n_hidden, n_hidden), testval=init_2)\n",
    "\n",
    "    # Weights from hidden layer to output\n",
    "    weights_2_out = pm.Normal('w_2_out', 0, sd= 0.03, \n",
    "                              shape=(n_hidden, len(np.unique(train_y))), testval=init_out)\n",
    "    \n",
    "    # Bias terms for hidden layer 1\n",
    "    bias_1 = pm.Normal('b1', 0, sd = 0.03)\n",
    "    \n",
    "    # Bias terms for hidden layer 2\n",
    "    bias_2 = pm.Normal('b2', 0, sd = 0.03)\n",
    "    \n",
    "    # Bias term for output layer\n",
    "    bias_3 = pm.Normal('b3', 0, sd = 0.03)\n",
    "    \n",
    "    # Build neural-network using tanh activation function\n",
    "    act_1 = T.tanh(T.dot(ann_input, \n",
    "                         weights_in_1) + bias_1)\n",
    "    act_2 = T.tanh(T.dot(act_1, \n",
    "                         weights_1_2) + bias_2)\n",
    "    \n",
    "    act_out = T.nnet.softmax(T.dot(act_2, weights_2_out) + bias_3)\n",
    "    \n",
    "    out = pm.Categorical('out', \n",
    "                         act_out,\n",
    "                         observed=ann_output, total_size=total_size)"
   ]
  },
  {
   "cell_type": "markdown",
   "metadata": {},
   "source": [
    "The code below coerces our data into mini-batches of size 500, which will speed up training. (Taken from http://twiecki.github.io/blog/2016/06/01/bayesian-deep-learning/)."
   ]
  },
  {
   "cell_type": "markdown",
   "metadata": {},
   "source": [
    "Now, we use mini-batch gradient descent for the optimization (50000 ADVI iterations)."
   ]
  },
  {
   "cell_type": "code",
   "execution_count": null,
   "metadata": {},
   "outputs": [
    {
     "name": "stderr",
     "output_type": "stream",
     "text": [
      "Average Loss = 61,952:  29%|██▉       | 14728/50000 [02:38<06:20, 92.70it/s]"
     ]
    }
   ],
   "source": [
    "advi_params = {\n",
    "    ann_input: pm.Minibatch(train_x, batch_size=500, dtype='float32'), \n",
    "    ann_output: pm.Minibatch(train_y, batch_size=500)\n",
    "}\n",
    "\n",
    "with neural_network:\n",
    "    inference=pm.ADVI()\n",
    "    approx = pm.fit(n=50000, \n",
    "                    method=inference,\n",
    "                    more_replacements=advi_params, \n",
    "                    obj_optimizer=pm.adagrad(learning_rate=.1))"
   ]
  },
  {
   "cell_type": "markdown",
   "metadata": {},
   "source": [
    "We plot the ELBO as a function of iteration below."
   ]
  },
  {
   "cell_type": "code",
   "execution_count": 7,
   "metadata": {},
   "outputs": [
    {
     "data": {
      "image/png": "[encoded data removed]",
      "text/plain": [
       "<Figure size 432x288 with 1 Axes>"
      ]
     },
     "metadata": {},
     "output_type": "display_data"
    }
   ],
   "source": [
    "plt.plot(-inference.hist[4000:])\n",
    "plt.ylabel('ELBO')\n",
    "plt.xlabel('iteration')\n",
    "plt.title(\"ELBO vs iteration, $\\sigma = 0.03$\")\n",
    "plt.show()"
   ]
  },
  {
   "cell_type": "markdown",
   "metadata": {},
   "source": [
    "We zoom-in on the plot below, showing only iterations 2000 through 50000."
   ]
  },
  {
   "cell_type": "markdown",
   "metadata": {},
   "source": [
    "We now compute the accuracy of our predictions on the test set. We do this by estimating 500 sets of posterior predictives, and then for each digit in the test set, we take the mode of the 500 posterior predictives as its predicted digit. We then determine the percentage of digits that the model classifies correctly."
   ]
  },
  {
   "cell_type": "code",
   "execution_count": 8,
   "metadata": {
    "collapsed": true
   },
   "outputs": [],
   "source": [
    "with neural_network:\n",
    "    trace1 = approx.sample(draws=5000)"
   ]
  },
  {
   "cell_type": "code",
   "execution_count": 10,
   "metadata": {},
   "outputs": [
    {
     "name": "stderr",
     "output_type": "stream",
     "text": [
      "100%|██████████| 1000/1000 [24:05<00:00,  1.45s/it]\n"
     ]
    }
   ],
   "source": [
    "with neural_network:\n",
    "    ppc1 = pm.sample_ppc(trace1, samples=1000)"
   ]
  },
  {
   "cell_type": "code",
   "execution_count": 11,
   "metadata": {},
   "outputs": [
    {
     "name": "stderr",
     "output_type": "stream",
     "text": [
      "100%|██████████| 500/500 [04:44<00:00,  1.76it/s]\n"
     ]
    }
   ],
   "source": [
    "# Replace shared variables with testing set\n",
    "ann_input.set_value(test_x)\n",
    "ann_output.set_value(test_y)\n",
    "\n",
    "with neural_network:\n",
    "    ppc2= pm.sample_ppc(trace1, samples=500)"
   ]
  },
  {
   "cell_type": "code",
   "execution_count": 13,
   "metadata": {},
   "outputs": [
    {
     "name": "stdout",
     "output_type": "stream",
     "text": [
      "Accuracy on test set: 0.8981\n"
     ]
    }
   ],
   "source": [
    "print(\"Accuracy on test set:\", accuracy_score(mode(ppc2['out'], axis=0).mode[0, :], test_y))"
   ]
  },
  {
   "cell_type": "markdown",
   "metadata": {},
   "source": [
    "With $\\sigma = 0.03$, we obtain an accuracy of 89.81 on the test set. We now rerun our model, but with $\\sigma = 0.1$."
   ]
  },
  {
   "cell_type": "code",
   "execution_count": 4,
   "metadata": {},
   "outputs": [],
   "source": [
    "# Code below adapted from http://twiecki.github.io/blog/2016/07/05/bayesian-deep-learning/\n",
    "total_size = len(train_y)\n",
    "\n",
    "ann_input = theano.shared(train_x)\n",
    "ann_output = theano.shared(train_y)\n",
    "\n",
    "n_hidden = 25 # Number of neurons in each hidden unit\n",
    "\n",
    "# initialize\n",
    "init_1 = np.random.randn(train_x.shape[1], n_hidden).astype(floatX)\n",
    "init_2 = np.random.randn(n_hidden, n_hidden).astype(floatX)\n",
    "init_out = np.random.randn(len(np.unique(train_y))).astype(floatX)\n",
    "    \n",
    "with pm.Model() as neural_network2:\n",
    "    \n",
    "    # Weights from input to hidden layer\n",
    "    weights_in_1 = pm.Normal('w_in_1', 0, sd = 0.1, \n",
    "                             shape=(train_x.shape[1], n_hidden), testval=init_1)\n",
    "    \n",
    "    # Weights from 1st to 2nd layer\n",
    "    weights_1_2 = pm.Normal('w_1_2', 0, sd = 0.1, \n",
    "                            shape=(n_hidden, n_hidden), testval=init_2)\n",
    "\n",
    "    # Weights from hidden layer to output\n",
    "    weights_2_out = pm.Normal('w_2_out', 0, sd= 0.1, \n",
    "                              shape=(n_hidden, len(np.unique(train_y))), testval=init_out)\n",
    "    \n",
    "    # Bias terms for hidden layer 1\n",
    "    bias_1 = pm.Normal('b1', 0, sd = 0.1)\n",
    "    \n",
    "    # Bias terms for hidden layer 2\n",
    "    bias_2 = pm.Normal('b2', 0, sd = 0.1)\n",
    "    \n",
    "    # Bias term for output layer\n",
    "    bias_3 = pm.Normal('b3', 0, sd = 0.1)\n",
    "    \n",
    "    # Build neural-network using tanh activation function\n",
    "    act_1 = T.tanh(T.dot(ann_input, \n",
    "                         weights_in_1) + bias_1)\n",
    "    act_2 = T.tanh(T.dot(act_1, \n",
    "                         weights_1_2) + bias_2)\n",
    "    \n",
    "    act_out = T.nnet.softmax(T.dot(act_2, weights_2_out) + bias_3)\n",
    "    \n",
    "    out = pm.Categorical('out', \n",
    "                         act_out,\n",
    "                         observed=ann_output, total_size=total_size)"
   ]
  },
  {
   "cell_type": "code",
   "execution_count": 5,
   "metadata": {},
   "outputs": [
    {
     "name": "stderr",
     "output_type": "stream",
     "text": [
      "Average Loss = 20,691: 100%|██████████| 50000/50000 [08:39<00:00, 96.19it/s]\n",
      "Finished [100%]: Average Loss = 20,680\n"
     ]
    }
   ],
   "source": [
    "advi_params = {\n",
    "    ann_input: pm.Minibatch(train_x, batch_size=500, dtype='float32'), \n",
    "    ann_output: pm.Minibatch(train_y, batch_size=500)\n",
    "}\n",
    "\n",
    "with neural_network2:\n",
    "    inference=pm.ADVI()\n",
    "    approx = pm.fit(n=50000, \n",
    "                    method=inference,\n",
    "                    more_replacements=advi_params, \n",
    "                    obj_optimizer=pm.adagrad(learning_rate=.1))"
   ]
  },
  {
   "cell_type": "code",
   "execution_count": 6,
   "metadata": {},
   "outputs": [
    {
     "data": {
      "image/png": "[encoded data removed]",
      "text/plain": [
       "<Figure size 432x288 with 1 Axes>"
      ]
     },
     "metadata": {},
     "output_type": "display_data"
    }
   ],
   "source": [
    "plt.plot(-inference.hist[2000:])\n",
    "plt.ylabel('ELBO')\n",
    "plt.xlabel('iteration')\n",
    "plt.title(\"ELBO vs iteration, $\\sigma = 0.1$\")\n",
    "plt.show()"
   ]
  },
  {
   "cell_type": "markdown",
   "metadata": {},
   "source": [
    "We zoom-in on the plot below, showing only iterations 2000 through 50000."
   ]
  },
  {
   "cell_type": "markdown",
   "metadata": {},
   "source": [
    "We now compute the accuracy of our predictions on the test set using the same procedure as before."
   ]
  },
  {
   "cell_type": "code",
   "execution_count": 7,
   "metadata": {
    "collapsed": true
   },
   "outputs": [],
   "source": [
    "with neural_network2:\n",
    "    trace2 = approx.sample(draws=5000)"
   ]
  },
  {
   "cell_type": "code",
   "execution_count": 9,
   "metadata": {},
   "outputs": [
    {
     "name": "stderr",
     "output_type": "stream",
     "text": [
      "100%|██████████| 500/500 [07:42<00:00,  1.08it/s]\n"
     ]
    }
   ],
   "source": [
    "# Replace shared variables with testing set\n",
    "ann_input.set_value(test_x)\n",
    "ann_output.set_value(test_y)\n",
    "\n",
    "# Creater posterior predictive samples\n",
    "with neural_network2:\n",
    "    ppc_21 = pm.sample_ppc(trace2, samples=500)"
   ]
  },
  {
   "cell_type": "code",
   "execution_count": 10,
   "metadata": {},
   "outputs": [
    {
     "name": "stdout",
     "output_type": "stream",
     "text": [
      "Accuracy on test set: 0.95735\n"
     ]
    }
   ],
   "source": [
    "print(\"Accuracy on test set:\", accuracy_score(mode(ppc_21['out'], axis=0).mode[0, :], test_y))"
   ]
  },
  {
   "cell_type": "markdown",
   "metadata": {},
   "source": [
    "With $\\sigma = 0.1$, we obtain an accuracy of 95.74 on the test set. This is substantially better than the accuracy obtained when $\\sigma = 0.03$, which was 89.81."
   ]
  }
 ],
 "metadata": {
  "anaconda-cloud": {},
  "kernelspec": {
   "display_name": "Python 3",
   "language": "python",
   "name": "python3"
  },
  "language_info": {
   "codemirror_mode": {
    "name": "ipython",
    "version": 3
   },
   "file_extension": ".py",
   "mimetype": "text/x-python",
   "name": "python",
   "nbconvert_exporter": "python",
   "pygments_lexer": "ipython3",
   "version": "3.6.3"
  }
 },
 "nbformat": 4,
 "nbformat_minor": 2
}
