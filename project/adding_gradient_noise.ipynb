{
 "cells": [
  {
   "cell_type": "markdown",
   "metadata": {},
   "source": [
    "# AM207 Paper Tutorial: \n",
    "## $\\textit{Adding Gradient Noise Improves Learning for Very Deep Networks}$ \n",
    "## https://arxiv.org/pdf/1511.06807.pdf\n",
    "## Christopher Hase & Casey Meehan \n",
    "## $\\texttt{\\{christopher\\_hase, casey\\_meehan\\}\\@g.harvard.edu}$"
   ]
  },
  {
   "cell_type": "markdown",
   "metadata": {
    "collapsed": true
   },
   "source": [
    "# I) Background Information: \n",
    "\n",
    "As described in the paper, generalization and noise techniques have been used to advance neural network training for over the last two decades. Those techniques include dropout as well as adding random noise to weights, gradients, and hidden units. \n",
    "- (Adaptive) Weight Noise: Weights given the data are understood to have a complex posterior distribution. To make the complex posterior tractable, a variational posterior is used and weights are sampled iteratively. \n",
    " - See https://www.cs.toronto.edu/~graves/nips_2011_poster.pdf\n",
    "- Dropout: Randomly drop entire units (and thus connections) from the network during training time. This produces a number of 'thinned' networks whose average output is approximated by an unthinned network with lower magnitude weights.\n",
    " - See https://www.cs.toronto.edu/~hinton/absps/JMLRdropout.pdf\n",
    " \n",
    "The following are some of the main benefits of neural network generalization and noise techniques: \n",
    "\n",
    " - 1) Lower likelihood of loss getting stuck at a 'bad' local minimum\n",
    " \n",
    " - 2) Loss convergence to a 'good' local minimum in fewer iterations\n",
    " \n",
    " - 3) Reduction of overfitting"
   ]
  },
  {
   "cell_type": "markdown",
   "metadata": {},
   "source": [
    "\n",
    "# II) Summary of Relevant Methods: \n",
    "\n",
    "In this paper, the authors' advance document the effectiveness of gradient noise techniques by using a declining temperature schedule for the noise as in simulated annealing to improve convergence of the network. \n",
    "\n",
    "The technique is simple: zero-mean normally-distributed noise is added to the network gradient to produce a modified network gradient that is used to update the weights at each step of stochastic gradient descent. Let the $\\mathbf{w}$ represent the network weights, $\\mathcal{D}$ represent a batch of training datapoints, $\\mathcal{L}$ represent the network loss function, $\\epsilon$ represent the noise term, $t$ represent the training step count, and $\\alpha$ represent the learning rate. Then the method is as follows:\n",
    "\n",
    "$$\n",
    "\\widetilde{\\nabla}_{\\mathbf{w}}\\mathcal{L}(\\mathcal{D})_t = \\nabla_{\\mathbf{w}}\\mathcal{L}(\\mathcal{D})_t + \\epsilon_t\n",
    "$$\n",
    "\n",
    "where\n",
    "\n",
    "$$\n",
    "\\epsilon_t \\sim \\mathcal{N}(0, \\sigma_t^2)\n",
    "$$\n",
    "\n",
    "Then we update the weights via stochastic gradient descent as follows: \n",
    "\n",
    "$$\n",
    "\\mathbf{w}_{t+1} = \\mathbf{w}_t - \\alpha\\cdot\\widetilde{\\nabla}_{\\mathbf{w}} \\mathcal{L}(\\mathcal{D})_t\n",
    "$$\n",
    "\n",
    "An important finding in the paper is the beneficial effect of decreasing the gradient noise over training steps by using a declining temperature schedule for the variance of the Gaussian noise: \n",
    "\n",
    "$$\n",
    "\\sigma^2_t = \\frac{\\eta}{(1+t)^\\gamma}\n",
    "$$\n",
    "\n",
    "As the authors describe, this helps jump-start the training process by having high variance noise during early iterations. As noise variance declines towards 0, network accuracy can be tuned. In the paper, the authors experiment with $\\eta = \\{0.01, 0.3, 1.0\\}$ and use $\\gamma = 0.55$. However, in this tutorial we experiment with a wider range of values."
   ]
  },
  {
   "cell_type": "markdown",
   "metadata": {},
   "source": [
    "# III) Implementation and Results"
   ]
  },
  {
   "cell_type": "markdown",
   "metadata": {},
   "source": [
    "Here we're importing in the necessary libraries. This tutorial will be using PyTorch for implementing the deep neural network with noisy gradients."
   ]
  },
  {
   "cell_type": "code",
   "execution_count": 2,
   "metadata": {
    "collapsed": true
   },
   "outputs": [],
   "source": [
    "import os\n",
    "import numpy as np\n",
    "import pandas as pd\n",
    "from matplotlib import pyplot as plt\n",
    "import sklearn.metrics\n",
    "import torch\n",
    "import torchvision\n",
    "from torch.autograd import Variable"
   ]
  },
  {
   "cell_type": "markdown",
   "metadata": {},
   "source": [
    "At the top of this cell are helper functions for dividing the MNIST dataset into train, validation, and test sets. Following the helper functions, we divide the MNIST data into train, validation, and test sets as well as create batches for each of those data subsets. As you can see, we use batches of size 256. Note that the authors of the paper use the MNIST dataset for some of their experiments."
   ]
  },
  {
   "cell_type": "code",
   "execution_count": 3,
   "metadata": {
    "collapsed": true
   },
   "outputs": [],
   "source": [
    "# functions/classes taken from: https://gist.github.com/t-vi/9f6118ff84867e89f3348707c7a1271f\n",
    "# to help create validation set\n",
    "class PartialDataset(torch.utils.data.Dataset):\n",
    "    def __init__(self, parent_ds, offset, length):\n",
    "        self.parent_ds = parent_ds\n",
    "        self.offset = offset\n",
    "        self.length = length\n",
    "        assert len(parent_ds)>=offset+length, Exception(\"Parent Dataset not long enough\")\n",
    "        super(PartialDataset, self).__init__()\n",
    "    def __len__(self):\n",
    "        return self.length\n",
    "    def __getitem__(self, i):\n",
    "        return self.parent_ds[i+self.offset]\n",
    "\n",
    "def validation_split(dataset, val_share=0.1):\n",
    "    \"\"\"\n",
    "       Split a (training and vaidation combined) dataset into training and validation.\n",
    "       Note that to be statistically sound, the items in the dataset should be statistically\n",
    "       independent (e.g. not sorted by class, not several instances of the same dataset that\n",
    "       could end up in either set).\n",
    "    \n",
    "       inputs:\n",
    "          dataset:   (\"training\") dataset to split into training and validation\n",
    "          val_share: fraction of validation data (should be 0<val_share<1, default: 0.1)\n",
    "       returns: input dataset split into test_ds, val_ds\n",
    "       \n",
    "       \"\"\"\n",
    "    val_offset = int(len(dataset)*(1-val_share))\n",
    "    return PartialDataset(dataset, 0, val_offset), PartialDataset(dataset, val_offset, len(dataset)-val_offset)\n",
    "\n",
    "\n",
    "torch.manual_seed(1)\n",
    "\n",
    "# load in MNIST and create train, validation, and test sets\n",
    "train_validation = torchvision.datasets.MNIST(root = os.getcwd(),\n",
    "                   train=True, transform=torchvision.transforms.ToTensor(), download = True)\n",
    "train, validation = validation_split(train_validation, 1/6) # get train/validation split\n",
    "test = torchvision.datasets.MNIST(root = os.getcwd(), train=False, \n",
    "       transform=torchvision.transforms.ToTensor(), download = True)\n",
    "\n",
    "# create batches for train, validation, and test sets\n",
    "batch_size = 256\n",
    "train_loader = torch.utils.data.DataLoader(dataset = train, batch_size = batch_size, shuffle = True)\n",
    "validation_loader = torch.utils.data.DataLoader(dataset = validation, batch_size = batch_size, shuffle = False)\n",
    "test_loader = torch.utils.data.DataLoader(dataset = test, batch_size = batch_size, shuffle = False)"
   ]
  },
  {
   "cell_type": "markdown",
   "metadata": {},
   "source": [
    "Here is our deep feed-forward neural network architecture. We use 12 hidden layers and ReLU activation functions. There are 10 outputs, one for each digit. Note that the authors of the reference paper use 20 hidden layers and ReLU activation functions for some of their networks, but we use 12 in order to save time. We also assume that a GPU is available to the user."
   ]
  },
  {
   "cell_type": "code",
   "execution_count": 4,
   "metadata": {
    "collapsed": true
   },
   "outputs": [],
   "source": [
    "# Deep NN architecture\n",
    "# 12 layers, ReLU activations functions\n",
    "class Deep_FFNN(torch.nn.Module):\n",
    "    def __init__(self, input_size, hidden_size):\n",
    "        super(Deep_FFNN, self).__init__()\n",
    "        \n",
    "        self.linear1 = torch.nn.Linear(in_features = input_size,\n",
    "                       out_features = hidden_size, bias = True).cuda()\n",
    "        self.relu1 = torch.nn.ReLU().cuda()\n",
    "        self.linear2 = torch.nn.Linear(in_features = hidden_size, \n",
    "                       out_features = hidden_size, bias = True).cuda()\n",
    "        self.relu2 = torch.nn.ReLU().cuda()\n",
    "        self.linear3 = torch.nn.Linear(in_features = hidden_size, \n",
    "                       out_features = hidden_size, bias = True).cuda()\n",
    "        self.relu3 = torch.nn.ReLU().cuda()\n",
    "        self.linear4 = torch.nn.Linear(in_features = hidden_size, \n",
    "                       out_features = hidden_size, bias = True).cuda()\n",
    "        self.relu4 = torch.nn.ReLU().cuda()\n",
    "        self.linear5 = torch.nn.Linear(in_features = hidden_size, \n",
    "                       out_features = hidden_size, bias = True).cuda()\n",
    "        self.relu5 = torch.nn.ReLU().cuda()\n",
    "        self.linear6 = torch.nn.Linear(in_features = hidden_size, \n",
    "                       out_features = hidden_size, bias = True).cuda()\n",
    "        self.relu6 = torch.nn.ReLU().cuda()\n",
    "        self.linear7 = torch.nn.Linear(in_features = hidden_size, \n",
    "                       out_features = hidden_size, bias = True).cuda()\n",
    "        self.relu7 = torch.nn.ReLU().cuda()\n",
    "        self.linear8 = torch.nn.Linear(in_features = hidden_size, \n",
    "                       out_features = hidden_size, bias = True).cuda()\n",
    "        self.relu8 = torch.nn.ReLU().cuda()\n",
    "        self.linear9 = torch.nn.Linear(in_features = hidden_size, \n",
    "                       out_features = hidden_size, bias = True).cuda()\n",
    "        self.relu9 = torch.nn.ReLU().cuda()\n",
    "        self.linear10 = torch.nn.Linear(in_features = hidden_size, \n",
    "                        out_features = hidden_size, bias = True).cuda()\n",
    "        self.relu10 = torch.nn.ReLU().cuda()\n",
    "        self.linear11 = torch.nn.Linear(in_features = hidden_size, \n",
    "                        out_features = hidden_size, bias = True).cuda()\n",
    "        self.relu11 = torch.nn.ReLU().cuda()\n",
    "        self.linear12 = torch.nn.Linear(in_features = hidden_size,\n",
    "                        out_features = hidden_size, bias = True).cuda()\n",
    "        self.relu12 = torch.nn.ReLU().cuda()\n",
    "        self.linearOut = torch.nn.Linear(in_features = hidden_size, out_features = 10, \n",
    "                                         bias = True).cuda()\n",
    "        \n",
    "    def forward(self, input):\n",
    "        hidden = self.linear1(input)\n",
    "        hidden = self.relu1(hidden)\n",
    "        hidden = self.linear2(hidden)\n",
    "        hidden = self.relu2(hidden)\n",
    "        hidden = self.linear3(hidden)\n",
    "        hidden = self.relu3(hidden)\n",
    "        hidden = self.linear4(hidden)\n",
    "        hidden = self.relu4(hidden)\n",
    "        hidden = self.linear5(hidden)\n",
    "        hidden = self.relu5(hidden)\n",
    "        hidden = self.linear6(hidden)\n",
    "        hidden = self.relu6(hidden)\n",
    "        hidden = self.linear7(hidden)\n",
    "        hidden = self.relu7(hidden)\n",
    "        hidden = self.linear8(hidden)\n",
    "        hidden = self.relu8(hidden)\n",
    "        hidden = self.linear9(hidden)\n",
    "        hidden = self.relu9(hidden)\n",
    "        hidden = self.linear10(hidden)\n",
    "        hidden = self.relu10(hidden)\n",
    "        hidden = self.linear11(hidden)\n",
    "        hidden = self.relu11(hidden)\n",
    "        hidden = self.linear12(hidden)\n",
    "        hidden = self.relu12(hidden)\n",
    "        output = self.linearOut(hidden)\n",
    "\n",
    "        return output"
   ]
  },
  {
   "cell_type": "markdown",
   "metadata": {},
   "source": [
    "This cell contains a function for computing the accuracy of a model. The prediction is the digit for which the model outputs the highest probability."
   ]
  },
  {
   "cell_type": "code",
   "execution_count": 5,
   "metadata": {
    "collapsed": true
   },
   "outputs": [],
   "source": [
    "# function for computing accuracy\n",
    "def compute_accuracy(data_loader, model, input_size):\n",
    "    model_pred = []\n",
    "    targets = []\n",
    "    softmax = torch.nn.Softmax() # softmax to compute output probabilities \n",
    "    for batch in data_loader:\n",
    "        model_output = model(Variable(torch.squeeze(batch[0], 1).view(len(batch[0]), \n",
    "                                      input_size)).cuda()) # output from NN\n",
    "        model_probs = softmax(model_output).cpu().data.numpy() # digit probabilities\n",
    "        model_pred += np.argmax(model_probs, axis = 1).tolist() # digit predictions\n",
    "        targets += batch[1].numpy().tolist() # true digit values\n",
    "        \n",
    "    return sklearn.metrics.accuracy_score(targets, model_pred)"
   ]
  },
  {
   "cell_type": "markdown",
   "metadata": {},
   "source": [
    "Here are the training parameters, model hyper-parameters, and the loss function. As you can see, we train for 70 epochs and minimize cross-entropy loss. We set hidden layer sizes to be 50 as in the reference paper and regularization parameter $\\lambda=0.000001$. The learning rate $\\alpha$ is selected from $\\{0.1, 0.01\\}$, $\\eta$ is selected from $\\{0.00001,0.0001, 0.001, 0.01\\}$, and $\\gamma$ is selected from $\\{0.1, 0.3,0.5,0.7,0.9\\}$. Recall the way in which we add Gaussian noise to the gradient with respect to the parameters for each training update: \n",
    "\n",
    "$$\n",
    "\\widetilde{\\nabla}_{\\mathbf{w}}\\mathcal{L}(\\mathcal{D})_t = \\nabla_{\\mathbf{w}}\\mathcal{L}(\\mathcal{D})_t+\\mathcal{N}(0,\\sigma_t^2)\n",
    "$$\n",
    "where \n",
    "$$\n",
    "\\sigma_t^2=\\dfrac{\\eta}{(1+t)^\\gamma} \n",
    "$$"
   ]
  },
  {
   "cell_type": "code",
   "execution_count": 6,
   "metadata": {
    "collapsed": true
   },
   "outputs": [],
   "source": [
    "# hyperparameters to try\n",
    "lrs = [0.1, 0.01]\n",
    "etas = [0.00001, 0.0001, 0.001, 0.01]\n",
    "gammas = [0.1, 0.3, 0.5, 0.7, 0.9]\n",
    "\n",
    "input_size = 28*28 # mnist image sizes\n",
    "lam = 0.000001\n",
    "hidden_size = 50\n",
    "\n",
    "num_epochs = 70\n",
    "loss_function = torch.nn.CrossEntropyLoss() # cross entropy loss function"
   ]
  },
  {
   "cell_type": "markdown",
   "metadata": {},
   "source": [
    "Here is a plot showing the schedule of $\\sigma_t^2$ over the beginning of the training period under some combinations of $\\eta$ and $\\gamma$. When $\\gamma$ is low, $\\sigma_t^2$ decreases at a lower rate. When $\\eta$ is low, $\\sigma_t^2$ starts at a lower value."
   ]
  },
  {
   "cell_type": "code",
   "execution_count": 7,
   "metadata": {},
   "outputs": [
    {
     "data": {
      "image/png": "[encoded data removed]",
      "text/plain": [
       "<matplotlib.figure.Figure at 0x2489fa9a7b8>"
      ]
     },
     "metadata": {},
     "output_type": "display_data"
    }
   ],
   "source": [
    "etas_for_plot = [0.00001, 0.001, 0.01]\n",
    "gammas_for_plot = [0.1, 0.5, 0.9]\n",
    "num_epochs_plot = 3\n",
    "\n",
    "plt.figure(figsize = (12,9))\n",
    "for gamma in gammas_for_plot:\n",
    "    for eta in etas_for_plot:\n",
    "        sigma_t2_list = []\n",
    "        for t in range(len(train_loader) * num_epochs_plot):\n",
    "            sigma_t2 = eta/((1 + t)**gamma)\n",
    "            sigma_t2_list.append(sigma_t2)\n",
    "        plt.plot(np.arange(t+1), sigma_t2_list)\n",
    "plt.legend(loc = 'upper right', labels = ['gamma=' + str(gamma)\n",
    "           + ', eta=' + str(eta) for gamma in gammas_for_plot for eta in etas_for_plot])\n",
    "plt.xlabel('Training Step')\n",
    "plt.ylabel('Sigma_t^2')\n",
    "plt.title('Declining Temperature Schedule: Sigma_t^2 vs. Training Step')\n",
    "plt.show()"
   ]
  },
  {
   "cell_type": "markdown",
   "metadata": {},
   "source": [
    "Here is the code for training, validating, and testing the deep feed-forward neural network when adding gradient noise. We choose the model whereby the corresponding hyper-parameters resulted in highest classification accuracy on the validation set and then compute the accuracy of the chosen model on the test set. As you can see, we add Gaussian noise to the gradient with respect to each of the parameters and update $\\sigma_t^2$ at each training step. The comments should be helpful for understanding the code."
   ]
  },
  {
   "cell_type": "code",
   "execution_count": 7,
   "metadata": {},
   "outputs": [
    {
     "name": "stdout",
     "output_type": "stream",
     "text": [
      "Validation accuracy for gamma=0.1, learning rate=0.1, eta=1e-05: 0.4057\n",
      "Validation accuracy for gamma=0.1, learning rate=0.1, eta=0.0001: 0.9233\n",
      "Validation accuracy for gamma=0.1, learning rate=0.1, eta=0.001: 0.1064\n",
      "Validation accuracy for gamma=0.1, learning rate=0.1, eta=0.01: 0.1064\n",
      "Validation accuracy for gamma=0.3, learning rate=0.1, eta=1e-05: 0.1064\n",
      "Validation accuracy for gamma=0.3, learning rate=0.1, eta=0.0001: 0.963\n",
      "Validation accuracy for gamma=0.3, learning rate=0.1, eta=0.001: 0.1064\n",
      "Validation accuracy for gamma=0.3, learning rate=0.1, eta=0.01: 0.1064\n",
      "Validation accuracy for gamma=0.5, learning rate=0.1, eta=1e-05: 0.1064\n",
      "Validation accuracy for gamma=0.5, learning rate=0.1, eta=0.0001: 0.1064\n",
      "Validation accuracy for gamma=0.5, learning rate=0.1, eta=0.001: 0.9354\n",
      "Validation accuracy for gamma=0.5, learning rate=0.1, eta=0.01: 0.1064\n",
      "Validation accuracy for gamma=0.7, learning rate=0.1, eta=1e-05: 0.1064\n",
      "Validation accuracy for gamma=0.7, learning rate=0.1, eta=0.0001: 0.1064\n",
      "Validation accuracy for gamma=0.7, learning rate=0.1, eta=0.001: 0.1064\n",
      "Validation accuracy for gamma=0.7, learning rate=0.1, eta=0.01: 0.1064\n",
      "Validation accuracy for gamma=0.9, learning rate=0.1, eta=1e-05: 0.1064\n",
      "Validation accuracy for gamma=0.9, learning rate=0.1, eta=0.0001: 0.1064\n",
      "Validation accuracy for gamma=0.9, learning rate=0.1, eta=0.001: 0.9319\n",
      "Validation accuracy for gamma=0.9, learning rate=0.1, eta=0.01: 0.1064\n",
      "Validation accuracy for gamma=0.1, learning rate=0.01, eta=1e-05: 0.1064\n",
      "Validation accuracy for gamma=0.1, learning rate=0.01, eta=0.0001: 0.1064\n",
      "Validation accuracy for gamma=0.1, learning rate=0.01, eta=0.001: 0.1064\n",
      "Validation accuracy for gamma=0.1, learning rate=0.01, eta=0.01: 0.1064\n",
      "Validation accuracy for gamma=0.3, learning rate=0.01, eta=1e-05: 0.1064\n",
      "Validation accuracy for gamma=0.3, learning rate=0.01, eta=0.0001: 0.1064\n",
      "Validation accuracy for gamma=0.3, learning rate=0.01, eta=0.001: 0.3008\n",
      "Validation accuracy for gamma=0.3, learning rate=0.01, eta=0.01: 0.1064\n",
      "Validation accuracy for gamma=0.5, learning rate=0.01, eta=1e-05: 0.1064\n",
      "Validation accuracy for gamma=0.5, learning rate=0.01, eta=0.0001: 0.1064\n",
      "Validation accuracy for gamma=0.5, learning rate=0.01, eta=0.001: 0.1064\n",
      "Validation accuracy for gamma=0.5, learning rate=0.01, eta=0.01: 0.1064\n",
      "Validation accuracy for gamma=0.7, learning rate=0.01, eta=1e-05: 0.1064\n",
      "Validation accuracy for gamma=0.7, learning rate=0.01, eta=0.0001: 0.1064\n",
      "Validation accuracy for gamma=0.7, learning rate=0.01, eta=0.001: 0.1064\n",
      "Validation accuracy for gamma=0.7, learning rate=0.01, eta=0.01: 0.1064\n",
      "Validation accuracy for gamma=0.9, learning rate=0.01, eta=1e-05: 0.1064\n",
      "Validation accuracy for gamma=0.9, learning rate=0.01, eta=0.0001: 0.1064\n",
      "Validation accuracy for gamma=0.9, learning rate=0.01, eta=0.001: 0.1064\n",
      "Validation accuracy for gamma=0.9, learning rate=0.01, eta=0.01: 0.1064\n",
      "Test accuracy for gamma=0.3, learning rate=0.1, eta=0.0001: 0.9618\n"
     ]
    }
   ],
   "source": [
    "### noise used in gradients\n",
    "torch.manual_seed(1)\n",
    "\n",
    "# loop through hyperparams\n",
    "best_val_acc = 0\n",
    "for lr in lrs:\n",
    "    for gamma in gammas:\n",
    "        for eta in etas:\n",
    "\n",
    "            # instantiate model\n",
    "            deep_FFNN = Deep_FFNN(input_size, hidden_size)\n",
    "\n",
    "            # SGD optimizer\n",
    "            optimizer = torch.optim.SGD(deep_FFNN.parameters(), lr, weight_decay = lam)\n",
    "\n",
    "            # count number of training steps\n",
    "            t = 0\n",
    "            for epoch in range(num_epochs):   \n",
    "                for batch in train_loader:\n",
    "                    model_output = deep_FFNN(Variable(torch.squeeze(batch[0], 1).view(len(batch[0]), \n",
    "                                                      input_size)).cuda()) # output from NN\n",
    "                    targets = Variable(batch[1]).cuda() # true digit values\n",
    "\n",
    "                    optimizer.zero_grad() # zero gradient\n",
    "                    loss_batch = loss_function(model_output, targets) # compute loss\n",
    "                    loss_batch.backward() # take the gradient wrt parameters\n",
    "                        \n",
    "                    sigma_t = np.sqrt(eta/((1 + t)**gamma)) # sigma_t for noise\n",
    "                    noise = torch.normal(means = torch.zeros(1),\n",
    "                            std = torch.ones(1) * sigma_t).numpy()[0].astype(np.float64) # get noise value\n",
    "\n",
    "                    for param in list(deep_FFNN.parameters()):\n",
    "                        param.grad += noise # add noise to gradient with respect to parameter\n",
    "                            \n",
    "                    optimizer.step() # update parameters\n",
    "                    t += 1 # add to count of training steps\n",
    "                                    \n",
    "            # compute accuracy on validation set\n",
    "            val_acc = compute_accuracy(validation_loader, deep_FFNN, input_size)\n",
    "            print('Validation accuracy for gamma=' + str(gamma) + ', learning rate=' + str(lr) \n",
    "                  + ', eta=' + str(eta) + ': ' + str(val_acc))\n",
    "                \n",
    "            # save best model and best model hyperparams\n",
    "            if val_acc > best_val_acc:\n",
    "                best_val_acc = val_acc\n",
    "                best_lr = lr\n",
    "                best_gamma = gamma\n",
    "                best_eta = eta\n",
    "                best_model = deep_FFNN\n",
    "\n",
    "# compute accuracy on test set\n",
    "test_acc = compute_accuracy(test_loader, best_model, input_size)\n",
    "print('Test accuracy for gamma=' + str(best_gamma) + ', learning rate=' + str(best_lr) \n",
    "      + ', eta=' + str(best_eta) + ': ' + str(test_acc))"
   ]
  },
  {
   "cell_type": "markdown",
   "metadata": {},
   "source": [
    "Here is the code for training, validating, and testing the deep feed-forward neural network when not adding gradient noise. We choose the model whereby the corresponding learning rate resulted in the highest classification accuracy on the validation set and then computed the accuracy of the chosen model on the test set. Having this allows us to compare methods (gradient noise vs. no gradient noise)."
   ]
  },
  {
   "cell_type": "code",
   "execution_count": 10,
   "metadata": {},
   "outputs": [
    {
     "name": "stdout",
     "output_type": "stream",
     "text": [
      "Validation accuracy for learning rate=0.1: 0.1064\n",
      "Validation accuracy for learning rate=0.01: 0.1064\n",
      "Test accuracy for learning rate=0.01: 0.1135\n"
     ]
    }
   ],
   "source": [
    "### no noise used in gradients\n",
    "torch.manual_seed(1)\n",
    "\n",
    "# loop through hyperparams\n",
    "best_val_acc = 0\n",
    "for lr in lrs:\n",
    "    \n",
    "    # instantiate model\n",
    "    deep_FFNN = Deep_FFNN(input_size, hidden_size)\n",
    "    \n",
    "    # SGD optimizer\n",
    "    optimizer = torch.optim.SGD(deep_FFNN.parameters(), lr, weight_decay = lam)\n",
    "\n",
    "    for epoch in range(num_epochs):   \n",
    "        for batch in train_loader:\n",
    "            model_output = deep_FFNN(Variable(torch.squeeze(batch[0], 1).view(len(batch[0]), \n",
    "                                              input_size)).cuda()) # model predictions\n",
    "            targets = Variable(batch[1]).cuda() # true digit values\n",
    "\n",
    "            optimizer.zero_grad() # zero gradient\n",
    "            loss_batch = loss_function(model_output, targets) # compute loss\n",
    "            loss_batch.backward() # take the gradient wrt parameters\n",
    "            optimizer.step() # update parameters\n",
    "                        \n",
    "                \n",
    "    # compute accuracy on validation set\n",
    "    val_acc = compute_accuracy(validation_loader, deep_FFNN, input_size)\n",
    "    print('Validation accuracy for learning rate=' + str(lr) + ': ' + str(val_acc))\n",
    "            \n",
    "    # save best model and best model hyperparams\n",
    "    if val_acc > best_val_acc:\n",
    "        best_val_acc = val_acc\n",
    "        best_lr = lr\n",
    "        best_model = deep_FFNN\n",
    "\n",
    "# compute accuracy on test set\n",
    "test_acc = compute_accuracy(test_loader, best_model, input_size)\n",
    "print('Test accuracy for learning rate=' + str(lr) + ': ' + str(test_acc))"
   ]
  },
  {
   "cell_type": "markdown",
   "metadata": {},
   "source": [
    "# IV) Discussion of Results"
   ]
  },
  {
   "cell_type": "markdown",
   "metadata": {},
   "source": [
    "The test accuracy that we see from the best network when using gradient noise is much higher than that which we see from the best network when not using gradient noise. The network trained with gradient noise using $\\alpha=0.1$, $\\gamma=0.3$, and $\\eta=0.0001$ achieved a very high test accuracy of $0.9618$. This is consistent with the best accuracies seen in the paper for networks trained with gradient noise. In contrast, the networks trained without gradient noise must have had losses that got stuck at local minima! The network trained with $\\alpha=0.01$ achieved a test accuracy of only $0.1135$. This is a much worse result than the best accuracies seen in the paper for networks trained without gradient noise. \n",
    "\n",
    "Note that the authors of the paper trained networks many times for each method (noise or no noise) and reported the average test accuracy and maximum test accuracy across all trained networks for each method. In some cases, the average test accuracy was much lower than the maximum test accuracy, indicating that only some networks within the set of trained networks trained well. In other words, holding method and hyper-parameters fixed, with some probability a network trained well and with some probability it did not. Because of the amount of time it takes to train a network on our laptops, we only trained the tuned network for each method once and reported the test accuracies. This is a major caveat when comparing our results to those seen in the paper. Had we trained the networks many times, it is entirely possible that our results would be consistent with the average and maximum test accuracies for each method from the paper. However, it is promising for the technique of using gradient noise that the tuned network trained with gradient noise achieved such a high test accuracy and the networks trained without gradient noise trained poorly.\n",
    "\n",
    "The validation accuracies from tuning the network trained with gradient noise indicate that the training is highly sensitive to the hyper-parameters governing the declining temperature schedule. However, these results should be interpreted with caution since for each hyper-parameter combination we only trained one network. Future research should include a more thorough comparison of the results from varying declining temperature schedules."
   ]
  }
 ],
 "metadata": {
  "kernelspec": {
   "display_name": "Python 3.5.3",
   "language": "python",
   "name": "py35"
  },
  "language_info": {
   "codemirror_mode": {
    "name": "ipython",
    "version": 3
   },
   "file_extension": ".py",
   "mimetype": "text/x-python",
   "name": "python",
   "nbconvert_exporter": "python",
   "pygments_lexer": "ipython3",
   "version": "3.5.4"
  }
 },
 "nbformat": 4,
 "nbformat_minor": 2
}
