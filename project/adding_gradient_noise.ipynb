{
 "cells": [
  {
   "cell_type": "markdown",
   "metadata": {},
   "source": [
    "# AM207 Paper Tutorial: \n",
    "## $\\textit{Adding Gradient Noise Improves Learning for Very Deep Networks}$ \n",
    "## https://arxiv.org/pdf/1511.06807.pdf\n",
    "## Chris Hase & Casey Meehan \n",
    "## $\\texttt{\\{christopher_hase, casey_meehan\\}@g.harvard.edu}$"
   ]
  },
  {
   "cell_type": "markdown",
   "metadata": {
    "collapsed": true
   },
   "source": [
    "# I) Background Information: \n",
    "\n",
    "As described in the paper, noise techniques have been used to advance neural net training for over two decades. Existing methods include weight noise, adaptive weight noise, and dropout. \n",
    "- (Adaptive) Weight Noise: weights are understood to a complex posterior distribution given the data. To make the complex posterior tractable, a variational posterior is used and weights are sampled iteratively. \n",
    " - i.e. https://www.cs.toronto.edu/~graves/nips_2011_poster.pdf\n",
    "- Dropout: randomly drop entire units (and connections) from your network during training time. This produces a number of \"thinned\" networks, whose outputs are averaged to produce a prediction. \n",
    " - i.e. https://www.cs.toronto.edu/~hinton/absps/JMLRdropout.pdf\n",
    " \n",
    "The benefit of NN noise techniques are two-fold: \n",
    "\n",
    " - 1) Loss can converge faster by spending fewer iterations stuck at local minima \n",
    " \n",
    " - 2) The network is inherently regularized by stochastically varying its parameters. Data overfitting is reduced. "
   ]
  },
  {
   "cell_type": "markdown",
   "metadata": {},
   "source": [
    "\n",
    "# II) Summary of Relevant Methods: \n",
    "\n",
    "In this paper, the authors' advance training noise techniques by using the declining temperature schedule of simulated annealing to both improve convergence $and$ accuracy of the network. \n",
    "\n",
    "The technique is theoretically simple: mean-zero normally-distributed noise is added to the network gradient at each step of an SGD optimizer. Let the network weights be represented by the vector $\\mathbf{w}$, training datapoint $i$ by $\\mathcal{D_i}$, and the network loss function as $f$. Then, at each step, the gradient is modified by adding normally distributed noise vector $\\mathbf{B}$: \n",
    "\n",
    "$$\n",
    "\\widetilde{\\nabla}_{\\mathbf{w}}f(\\mathcal{D_i}) = \\nabla_{\\mathbf{w}}f(\\mathcal{D_i}) + \\mathbf{B}\n",
    "$$\n",
    "\n",
    "where each element of $\\mathbf{B}$ is drawn i.i.d.: \n",
    "\n",
    "$$\n",
    "\\mathbf{B}_i \\sim \\mathcal{N}(0, \\sigma_t^2), ~\\forall i \n",
    "$$\n",
    "\n",
    "As such, the minibatch SGD optimizer with batch size $B$ updates the network weights as: \n",
    "\n",
    "$$\n",
    "\\mathbf{w}_{t+1} = \\mathbf{w}_t + \\sum_{i=1}^B \\widetilde{\\nabla}_{\\mathbf{w}} f(\\mathcal{D}_i)\n",
    "$$\n",
    "\n",
    "Where $t$ is the iteration number. $t$ is advanced with every backpropagation. \n",
    "\n",
    "One of the paper's primary contributions, is making the weight noise decline according to a temperature schedule: \n",
    "\n",
    "$$\n",
    "\\sigma^2_t = \\frac{\\eta}{(1+t)^\\gamma}\n",
    "$$\n",
    "\n",
    "As the authors describe, this helps jump-start the training process by having high variance noise during early iterations. As noise variance declines asymptotically to 0, network accuracy can be tuned. \n",
    "\n",
    "In the paper, the authors experiment with $\\eta = \\{0.01, 0.3, 1.1\\}$ and $\\gamma = 0.5$. However, in this tutorial we will experiment with a wider range of values for a slightly shallower network (due to resource limiation)"
   ]
  },
  {
   "cell_type": "markdown",
   "metadata": {},
   "source": [
    "Here we're importing in the necessary libraries. This tutorial will be using PyTorch for implementing the neural network with noisy gradients."
   ]
  },
  {
   "cell_type": "code",
   "execution_count": 1,
   "metadata": {
    "collapsed": true
   },
   "outputs": [],
   "source": [
    "import os\n",
    "import numpy as np\n",
    "import pandas as pd\n",
    "from matplotlib import pyplot as plt\n",
    "import sklearn.metrics\n",
    "import torch\n",
    "import torchvision\n",
    "from torch.autograd import Variable"
   ]
  },
  {
   "cell_type": "markdown",
   "metadata": {},
   "source": [
    "At the top of this cell are helper functions for dividing the MNIST dataset into train, validation, and test sets. Following the helper functions, we divide the MNIST data into train, validation, and test sets as well as create batches for each of those data subsets. As you can see, we use batches of size 256."
   ]
  },
  {
   "cell_type": "code",
   "execution_count": 2,
   "metadata": {
    "collapsed": true
   },
   "outputs": [],
   "source": [
    "# functions/classes taken from: https://gist.github.com/t-vi/9f6118ff84867e89f3348707c7a1271f\n",
    "# to help create validation set\n",
    "class PartialDataset(torch.utils.data.Dataset):\n",
    "    def __init__(self, parent_ds, offset, length):\n",
    "        self.parent_ds = parent_ds\n",
    "        self.offset = offset\n",
    "        self.length = length\n",
    "        assert len(parent_ds)>=offset+length, Exception(\"Parent Dataset not long enough\")\n",
    "        super(PartialDataset, self).__init__()\n",
    "    def __len__(self):\n",
    "        return self.length\n",
    "    def __getitem__(self, i):\n",
    "        return self.parent_ds[i+self.offset]\n",
    "\n",
    "def validation_split(dataset, val_share=0.1):\n",
    "    \"\"\"\n",
    "       Split a (training and vaidation combined) dataset into training and validation.\n",
    "       Note that to be statistically sound, the items in the dataset should be statistically\n",
    "       independent (e.g. not sorted by class, not several instances of the same dataset that\n",
    "       could end up in either set).\n",
    "    \n",
    "       inputs:\n",
    "          dataset:   (\"training\") dataset to split into training and validation\n",
    "          val_share: fraction of validation data (should be 0<val_share<1, default: 0.1)\n",
    "       returns: input dataset split into test_ds, val_ds\n",
    "       \n",
    "       \"\"\"\n",
    "    val_offset = int(len(dataset)*(1-val_share))\n",
    "    return PartialDataset(dataset, 0, val_offset), PartialDataset(dataset, val_offset, len(dataset)-val_offset)\n",
    "\n",
    "\n",
    "torch.manual_seed(1)\n",
    "\n",
    "# load in MNIST and create train, validation, and test sets\n",
    "train_validation = torchvision.datasets.MNIST(root = os.getcwd(), train=True, transform=torchvision.transforms.ToTensor(), download = True)\n",
    "train, validation = validation_split(train_validation, 1/6) # get train/validation split\n",
    "test = torchvision.datasets.MNIST(root = os.getcwd(), train=False, transform=torchvision.transforms.ToTensor(), download = True)\n",
    "\n",
    "# create batches for train, validation, and test sets\n",
    "batch_size = 256\n",
    "train_loader = torch.utils.data.DataLoader(dataset = train, batch_size = batch_size, shuffle = True)\n",
    "validation_loader = torch.utils.data.DataLoader(dataset = validation, batch_size = batch_size, shuffle = False)\n",
    "test_loader = torch.utils.data.DataLoader(dataset = test, batch_size = batch_size, shuffle = False)"
   ]
  },
  {
   "cell_type": "markdown",
   "metadata": {},
   "source": [
    "Here is our deep feed-forward neural network architecture. We use 12 hidden layers with ReLU activation functions. There are 10 outputs, one for each digit. Note that the reference paper uses 20 hidden layers, but we use 12 in order to save time. We also assume that a GPU is available for the user (we ran our code using GPUs on the Odyssey cluster - this is why you won't see model training, validating, and testing output in this Jupyter notebook)."
   ]
  },
  {
   "cell_type": "code",
   "execution_count": 3,
   "metadata": {
    "collapsed": true
   },
   "outputs": [],
   "source": [
    "# Deep NN architecture\n",
    "# 12 layers, ReLU activations functions\n",
    "class Deep_FFNN(torch.nn.Module):\n",
    "    def __init__(self, input_size, hidden_size):\n",
    "        super(Deep_FFNN, self).__init__()\n",
    "        \n",
    "        self.linear1 = torch.nn.Linear(in_features = input_size, out_features = hidden_size, bias = True).cuda()\n",
    "        self.relu1 = torch.nn.ReLU().cuda()\n",
    "        self.linear2 = torch.nn.Linear(in_features = hidden_size, out_features = hidden_size, bias = True).cuda()\n",
    "        self.relu2 = torch.nn.ReLU().cuda()\n",
    "        self.linear3 = torch.nn.Linear(in_features = hidden_size, out_features = hidden_size, bias = True).cuda()\n",
    "        self.relu3 = torch.nn.ReLU().cuda()\n",
    "        self.linear4 = torch.nn.Linear(in_features = hidden_size, out_features = hidden_size, bias = True).cuda()\n",
    "        self.relu4 = torch.nn.ReLU().cuda()\n",
    "        self.linear5 = torch.nn.Linear(in_features = hidden_size, out_features = hidden_size, bias = True).cuda()\n",
    "        self.relu5 = torch.nn.ReLU().cuda()\n",
    "        self.linear6 = torch.nn.Linear(in_features = hidden_size, out_features = hidden_size, bias = True).cuda()\n",
    "        self.relu6 = torch.nn.ReLU().cuda()\n",
    "        self.linear7 = torch.nn.Linear(in_features = hidden_size, out_features = hidden_size, bias = True).cuda()\n",
    "        self.relu7 = torch.nn.ReLU().cuda()\n",
    "        self.linear8 = torch.nn.Linear(in_features = hidden_size, out_features = hidden_size, bias = True).cuda()\n",
    "        self.relu8 = torch.nn.ReLU().cuda()\n",
    "        self.linear9 = torch.nn.Linear(in_features = hidden_size, out_features = hidden_size, bias = True).cuda()\n",
    "        self.relu9 = torch.nn.ReLU().cuda()\n",
    "        self.linear10 = torch.nn.Linear(in_features = hidden_size, out_features = hidden_size, bias = True).cuda()\n",
    "        self.relu10 = torch.nn.ReLU().cuda()\n",
    "        self.linear11 = torch.nn.Linear(in_features = hidden_size, out_features = hidden_size, bias = True).cuda()\n",
    "        self.relu11 = torch.nn.ReLU().cuda()\n",
    "        self.linear12 = torch.nn.Linear(in_features = hidden_size, out_features = hidden_size, bias = True).cuda()\n",
    "        self.relu12 = torch.nn.ReLU().cuda()\n",
    "        self.linearOut = torch.nn.Linear(in_features = hidden_size, out_features = 10, bias = True).cuda()\n",
    "        \n",
    "    def forward(self, input):\n",
    "        hidden = self.linear1(input)\n",
    "        hidden = self.relu1(hidden)\n",
    "        hidden = self.linear2(hidden)\n",
    "        hidden = self.relu2(hidden)\n",
    "        hidden = self.linear3(hidden)\n",
    "        hidden = self.relu3(hidden)\n",
    "        hidden = self.linear4(hidden)\n",
    "        hidden = self.relu4(hidden)\n",
    "        hidden = self.linear5(hidden)\n",
    "        hidden = self.relu5(hidden)\n",
    "        hidden = self.linear6(hidden)\n",
    "        hidden = self.relu6(hidden)\n",
    "        hidden = self.linear7(hidden)\n",
    "        hidden = self.relu7(hidden)\n",
    "        hidden = self.linear8(hidden)\n",
    "        hidden = self.relu8(hidden)\n",
    "        hidden = self.linear9(hidden)\n",
    "        hidden = self.relu9(hidden)\n",
    "        hidden = self.linear10(hidden)\n",
    "        hidden = self.relu10(hidden)\n",
    "        hidden = self.linear11(hidden)\n",
    "        hidden = self.relu11(hidden)\n",
    "        hidden = self.linear12(hidden)\n",
    "        hidden = self.relu12(hidden)\n",
    "        output = self.linearOut(hidden)\n",
    "\n",
    "        return output"
   ]
  },
  {
   "cell_type": "markdown",
   "metadata": {},
   "source": [
    "This cell contains a function for computing the accuracy of a model. The prediction is the digit for which the model outputs the highest probability."
   ]
  },
  {
   "cell_type": "code",
   "execution_count": 4,
   "metadata": {
    "collapsed": true
   },
   "outputs": [],
   "source": [
    "# function for computing accuracy\n",
    "def compute_accuracy(data_loader, model, input_size):\n",
    "    model_pred = []\n",
    "    targets = []\n",
    "    \n",
    "    softmax = torch.nn.Softmax() # softmax to compute output probabilities \n",
    "    for batch in data_loader:\n",
    "        model_output = model(Variable(torch.squeeze(batch[0], 1).view(len(batch[0]), input_size)).cuda()) # output from NN\n",
    "        model_probs = softmax(model_output).cpu().data.numpy() # digit probabilities\n",
    "        model_pred += np.argmax(model_probs, axis = 1).tolist() # digit predictions\n",
    "        targets += batch[1].numpy().tolist() # true digit values\n",
    "        \n",
    "    return sklearn.metrics.accuracy_score(targets, model_pred)"
   ]
  },
  {
   "cell_type": "markdown",
   "metadata": {},
   "source": [
    "Here are the training parameters, model hyper-parameters, and the loss function. As you can see, we train for 70 epochs and minimize cross-entropy loss. We set hidden layer sizes to be 50 as in the reference paper and regularization parameter $\\lambda=0.000001$. The learning rate is selected from $\\{0.1, 0.01\\}$, $\\eta$ is selected from $\\{0.00001,0.0001, 0.001, 0.01\\}$, and $\\gamma$ is selected from $\\{0.1, 0.3,0.5,0.7,0.9\\}$. Recall that we add Gaussian noise to the gradient with respect to each of the parameters for each training update. That is, $g_t \\leftarrow g_t+\\mathcal{N}(0,\\sigma_t^2)$ where $\\sigma_t^2=\\dfrac{\\eta}{(1+t)^\\gamma}$ where $t$ is the count of the number of training steps."
   ]
  },
  {
   "cell_type": "code",
   "execution_count": 5,
   "metadata": {
    "collapsed": true
   },
   "outputs": [],
   "source": [
    "# hyperparameters to try\n",
    "lrs = [0.1, 0.01]\n",
    "etas = [0.00001, 0.0001, 0.001, 0.01]\n",
    "gammas = [0.1, 0.3, 0.5, 0.7, 0.9]\n",
    "\n",
    "input_size = 28*28 # mnist image sizes\n",
    "lam = 0.000001\n",
    "hidden_size = 50\n",
    "\n",
    "num_epochs = 70\n",
    "loss_function = torch.nn.CrossEntropyLoss() # cross entropy loss function"
   ]
  },
  {
   "cell_type": "markdown",
   "metadata": {},
   "source": [
    "Here are some plots showing the schedule of $\\sigma_t^2$ over the beginning of the training period under some combinations of $\\eta$ and $\\gamma$. When $\\gamma$ is low, $\\sigma_t^2$ decreases at a lower rate. When $\\eta$ is low, $\\sigma_t^2$ starts at a lower value."
   ]
  },
  {
   "cell_type": "code",
   "execution_count": 6,
   "metadata": {},
   "outputs": [
    {
     "data": {
      "image/png": "[encoded data removed]",
      "text/plain": [
       "<matplotlib.figure.Figure at 0x1955b776828>"
      ]
     },
     "metadata": {},
     "output_type": "display_data"
    }
   ],
   "source": [
    "etas_for_plot = [0.00001, 0.001, 0.01]\n",
    "gammas_for_plot = [0.1, 0.5, 0.9]\n",
    "num_epochs_plot = 3\n",
    "\n",
    "plt.figure(figsize = (12,9))\n",
    "for gamma in gammas_for_plot:\n",
    "    for eta in etas_for_plot:\n",
    "        sigma_t2_list = []\n",
    "        for t in range(len(train_loader) * num_epochs_plot):\n",
    "            sigma_t2 = eta/((1 + t)**gamma) # sigma for noise\n",
    "            sigma_t2_list.append(sigma_t2)\n",
    "        plt.plot(np.arange(t+1), sigma_t2_list)\n",
    "plt.legend(loc = 'upper right', labels = ['gamma=' + str(gamma) + ', eta=' + str(eta) for gamma in gammas_for_plot for eta in etas_for_plot])\n",
    "plt.show()"
   ]
  },
  {
   "cell_type": "markdown",
   "metadata": {},
   "source": [
    "Here is the code for training, validating, and testing the deep feed-forward neural network when adding gradient noise. We choose the model with the hyper-parameters that resulted in highest classification accuracy on the validation set and then compute the accuracy of the chosen model on the test set. As you can see, we add Gaussian noise to the gradient with respect to each of the parameters and update $\\sigma_t^2$ at each training step. The comments should be helpful for understanding the code."
   ]
  },
  {
   "cell_type": "code",
   "execution_count": null,
   "metadata": {
    "collapsed": true
   },
   "outputs": [],
   "source": [
    "### noise used in gradients\n",
    "torch.manual_seed(1)\n",
    "\n",
    "# loop through hyperparams\n",
    "best_val_acc = 0\n",
    "for lr in lrs:\n",
    "    for gamma in gammas:\n",
    "        for eta in etas:\n",
    "\n",
    "            # instantiate model\n",
    "            deep_FFNN = Deep_FFNN(input_size, hidden_size)\n",
    "\n",
    "            # SGD optimizer\n",
    "            optimizer = torch.optim.SGD(deep_FFNN.parameters(), lr, weight_decay = lam)\n",
    "\n",
    "            # count number of training steps\n",
    "            t = 0\n",
    "            for epoch in range(num_epochs):   \n",
    "                for batch in train_loader:\n",
    "                    model_output = deep_FFNN(Variable(torch.squeeze(batch[0], 1).view(len(batch[0]), input_size)).cuda()) # model outputs\n",
    "                    targets = Variable(batch[1]).cuda() # true digit values\n",
    "\n",
    "                    optimizer.zero_grad() # zero gradient\n",
    "                    loss_batch = loss_function(model_output, targets) # compute loss\n",
    "                    loss_batch.backward() # take the gradient wrt parameters\n",
    "                        \n",
    "                    sigma_t = np.sqrt(eta/((1 + t)**gamma)) # sigma_t for noise\n",
    "                    noise = torch.normal(means = torch.zeros(1), std = torch.ones(1) * sigma_t).numpy()[0].astype(np.float64) # get noise value\n",
    "\n",
    "                    for param in list(deep_FFNN.parameters()):\n",
    "                        param.grad += noise # add noise to gradient with respect to parameter\n",
    "                            \n",
    "                    optimizer.step() # update parameters\n",
    "                    t += 1 # add to count of training steps\n",
    "                                    \n",
    "            # compute accuracy on validation set\n",
    "            val_acc = compute_accuracy(validation_loader, deep_FFNN, input_size)\n",
    "            print('Validation accuracy for gamma=' + str(gamma) + ', learning rate=' + str(lr) \n",
    "                  + ', eta=' + str(eta) + ': ' + str(val_acc))\n",
    "                \n",
    "            # save best model and best model hyperparams\n",
    "            if val_acc > best_val_acc:\n",
    "                best_val_acc = val_acc\n",
    "                best_lr = lr\n",
    "                best_gamma = gamma\n",
    "                best_eta = eta\n",
    "                best_model = deep_FFNN\n",
    "\n",
    "# compute accuracy on test set\n",
    "test_acc = compute_accuracy(test_loader, best_model, input_size)\n",
    "print('Test accuracy for gamma=' + str(best_gamma) + ', learning rate=' + str(best_lr) \n",
    "      + ', eta=' + str(best_eta) + ': ' + str(test_acc))"
   ]
  },
  {
   "cell_type": "markdown",
   "metadata": {},
   "source": [
    "Here is the code for training, validating, and testing the deep feed-forward neural network when not adding gradient noise. We choose the model whereby the corresponding learning rate resulted in the highest classification accuracy on the validation set and then computed the accuracy of the chosen model on the test set. Running this code allows us to compare methods (gradient noise vs. no gradient noise)."
   ]
  },
  {
   "cell_type": "code",
   "execution_count": null,
   "metadata": {
    "collapsed": true
   },
   "outputs": [],
   "source": [
    "### no noise used in gradients\n",
    "torch.manual_seed(1)\n",
    "\n",
    "# loop through hyperparams\n",
    "best_val_acc = 0\n",
    "for lr in lrs:\n",
    "    \n",
    "    # instantiate model\n",
    "    deep_FFNN = Deep_FFNN(input_size, hidden_size)\n",
    "    \n",
    "    # SGD optimizer\n",
    "    optimizer = torch.optim.SGD(deep_FFNN.parameters(), lr, weight_decay = lam)\n",
    "\n",
    "    for epoch in range(num_epochs):   \n",
    "        for batch in train_loader:\n",
    "            model_output = deep_FFNN(Variable(torch.squeeze(batch[0], 1).view(len(batch[0]), input_size)).cuda()) # model predictions\n",
    "            targets = Variable(batch[1]).cuda() # true digit values\n",
    "\n",
    "            optimizer.zero_grad() # zero gradient\n",
    "            loss_batch = loss_function(model_output, targets) # compute loss\n",
    "            loss_batch.backward() # take the gradient wrt parameters\n",
    "            optimizer.step() # update parameters\n",
    "                        \n",
    "                \n",
    "    # compute accuracy on validation set\n",
    "    val_acc = compute_accuracy(validation_loader, deep_FFNN, input_size)\n",
    "    print('Validation accuracy for learning rate=' + str(lr) + ': ' + str(val_acc))\n",
    "            \n",
    "    # save best model and best model hyperparams\n",
    "    if val_acc > best_val_acc:\n",
    "        best_val_acc = val_acc\n",
    "        best_lr = lr\n",
    "        best_model = deep_FFNN\n",
    "\n",
    "# compute accuracy on test set\n",
    "test_acc = compute_accuracy(test_loader, best_model, input_size)\n",
    "print('Test accuracy for learning rate=' + str(lr) + ': ' + str(test_acc))"
   ]
  }
 ],
 "metadata": {
  "kernelspec": {
   "display_name": "Python 3.5.3",
   "language": "python",
   "name": "py35"
  },
  "language_info": {
   "codemirror_mode": {
    "name": "ipython",
    "version": 3
   },
   "file_extension": ".py",
   "mimetype": "text/x-python",
   "name": "python",
   "nbconvert_exporter": "python",
   "pygments_lexer": "ipython3",
   "version": "3.5.4"
  }
 },
 "nbformat": 4,
 "nbformat_minor": 2
}
