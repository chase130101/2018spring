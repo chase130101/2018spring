{
 "cells": [
  {
   "cell_type": "markdown",
   "metadata": {},
   "source": [
    "# APMTH 207: Advanced Scientific Computing: \n",
    "## Stochastic Methods for Data Analysis, Inference and Optimization\n",
    "## Homework 11\n",
    "**Harvard University**<br>\n",
    "**Spring 2017**<br>\n",
    "**Instructors: Rahul Dave**<br>\n",
    "**Due Date: ** Tuesday, April 24th, 2018 at 11:59pm\n",
    "\n",
    "**Instructions:**\n",
    "\n",
    "- Upload your final answers as an iPython notebook containing all work to Canvas.\n",
    "\n",
    "- Structure your notebook and your work to maximize readability."
   ]
  },
  {
   "cell_type": "markdown",
   "metadata": {},
   "source": [
    "Name: Christopher Hase"
   ]
  },
  {
   "cell_type": "code",
   "execution_count": 10,
   "metadata": {
    "collapsed": true
   },
   "outputs": [],
   "source": [
    "import numpy as np\n",
    "from matplotlib import pyplot as plt"
   ]
  },
  {
   "cell_type": "markdown",
   "metadata": {},
   "source": [
    "## The AM207 Cambridge Nursery\n",
    "\n",
    "A plant nursery in Cambridge is exprimentally cross-breeding two types of hibiscus flowers: blue and pink. The goal is to create an exotic flower whose petals are pink with a ring of blue on each. \n",
    "\n",
    "There are four types of child plant that can result from this cross-breeding: \n",
    "\n",
    "  - Type 1: blue petals\n",
    "  - Type 2: pink petals \n",
    "  - Type 3: purple petals\n",
    "  - Type 4: pink petals with a blue ring on each (the desired effect). \n",
    "\n",
    "Out of 197 initial cross-breedings, the nursery obtained the following distribution over the four types of child plants: \n",
    "$$Y = (y_1, y_2, y_3, y_4) = (125, 18, 20, 34)$$\n",
    "where $y_i$ represents the number of child plants that are of type $i$.\n",
    "\n",
    "The nursery then consulted a famed Harvard plant geneticist, who informed them that the probability of obtaining each type of child plant in any single breeding experiment is as follows:\n",
    "$$ \\frac{\\theta+2}{4}, \\frac{1-\\theta}{4}, \\frac{1-\\theta}{4}, \\frac{\\theta}{4}.$$\n",
    "Unfortunately, the geneticist did not specify the quantity $\\theta$.\n",
    "\n",
    "Clearly, the nursery is interested in understanding how many cross-breeding they must perform, on average, in order to obtain a certain number of child plants with the exotic blue rings. To do this they must be able to compute $\\theta$. \n",
    "\n",
    "The owners of the nursery, being top students in AM207, decided to model the experiment in hopes of discovering $\\theta$ using the results from their 197 initial experiments. \n",
    "\n",
    "They chose to model the observed data using a multinomial model and thus calculated the likelihood to be:\n",
    "$$ p(y  \\vert  \\theta) \\propto (2+\\theta)^{y_1} (1-\\theta)^{y_2+y_3}  \\, \\theta^{y_4}\n",
    "$$\n",
    "\n",
    "Being good Bayesians, they also imposed a prior on $\\theta$, $\\rm{Beta}(a, b)$.\n",
    "\n",
    "Thus, the posterior is:\n",
    "$$ p(\\theta \\vert  Y) = \\left( 2+\\theta \\right)^{y_1} (1-\\theta)^{y_2+y_3} \\, \\theta^{\n",
    "y_4} \\, \\theta^{a-1} \\, (1-\\theta)^{b-1}. $$\n",
    "\n",
    "If the nursery owners are able to sample from the posterior, they would be able to understand the distribution of $\\theta$ and make appropriate estimates."
   ]
  },
  {
   "cell_type": "markdown",
   "metadata": {},
   "source": [
    "## Problem 1. Sampling using data augmentation\n",
    "\n",
    "Realizing that it would be difficult to sample from the posterior directly and after being repeatedly frustrated by attempts of Metropolis-Hastings and Gibbs sampling for this model, the nursery owners decided to augment their model and hopefully obtain a friendlier looking distribution that allows for easy sampling.\n",
    "\n",
    "They augment the data with a new variable $z$ such that:\n",
    "$$z + (y_1 - z) = y_1.$$\n",
    "That is, using $z$, we are breaking $y_1$, the number of type I child plants, into two subtypes. Let the probability of obtaining the two subtype be $1/2$ and $\\theta/4$, respectively. Now, we can interpret $y_1$ to be the total number of trials in a binomial trial. Thus, the new likelihood can be written as\n",
    "$$ p(y, z  \\vert  \\theta) \\propto \\binom{y_{1}}{z} \\left (\\frac{1}{2} \\right )^{y_1-z} \\left(\\frac{\\theta}{4} \\right )^{z}  (1-\\theta)^{y_2+y_3}  \\, \\theta^{y_4}\n",
    "$$\n",
    "\n",
    "\n",
    "Derive the joint posterior $p(\\theta, z  \\vert  y)$ and sample from it using Gibbs sampling.\n",
    "\n",
    "Visualize the distribution of theta and, from this distribution, estimate the probability of obtaining a type 4 child plant (with the blue rings) in any cross-breeding experiment."
   ]
  },
  {
   "cell_type": "markdown",
   "metadata": {},
   "source": [
    "$p(\\theta,z|y)\\propto p(y,z|\\theta)\\cdot p(\\theta)$\n",
    "\n",
    "We can use Gibbs sampling after finding the distibutions of $\\theta|z,y$ and $z|\\theta,y$. After some algebra, we find:\n",
    "\n",
    "$\\theta|z,y\\sim Beta(a+z+y_4,b+y_2+y_3)$\n",
    "\n",
    "$z|\\theta,y\\sim Bin\\bigg(y_1, \\dfrac{\\theta}{\\theta+2}\\bigg)$"
   ]
  },
  {
   "cell_type": "code",
   "execution_count": 90,
   "metadata": {},
   "outputs": [
    {
     "data": {
      "image/png": "[encoded data removed]",
      "text/plain": [
       "<matplotlib.figure.Figure at 0x14f942cf470>"
      ]
     },
     "metadata": {},
     "output_type": "display_data"
    },
    {
     "name": "stdout",
     "output_type": "stream",
     "text": [
      "Estimated mean of theta:0.622826794876\n",
      "Estimated probability of a type 4 child plant: 0.155706698719\n"
     ]
    }
   ],
   "source": [
    "# data\n",
    "y1 = 125\n",
    "y2 = 18\n",
    "y3 = 20\n",
    "y4 = 34\n",
    "\n",
    "# beta params\n",
    "a = 1\n",
    "b = 1\n",
    "theta = np.random.beta(a, b, 1)\n",
    "\n",
    "# gibbs sampling\n",
    "iterations = 100000\n",
    "thetas = []\n",
    "for iteration in range(iterations):\n",
    "    z = np.random.binomial(y1, theta/(theta+2), 1)\n",
    "    theta = np.random.beta(a + z + y4, b + y2 + y3, 1)\n",
    "    thetas.append(theta[0])\n",
    "\n",
    "# plot distribution of thetas\n",
    "plt.hist(thetas, normed=True)\n",
    "plt.title('Distribution of Theta')\n",
    "plt.xlabel('Theta')\n",
    "plt.ylabel('Density')\n",
    "plt.show()\n",
    "\n",
    "# prob of type 4\n",
    "print('Estimated mean of theta:' + str(np.mean(thetas)))\n",
    "print('Estimated probability of a type 4 child plant: ' + str(np.mean(thetas)/4))"
   ]
  },
  {
   "cell_type": "markdown",
   "metadata": {},
   "source": [
    "## Problem 2. Finding the MLE using Expectation Maximization\n",
    "\n",
    "Treat the augmented model as a latent variable model. \n",
    "\n",
    "### Part A. \n",
    "\n",
    "Write down an expression (up to unimportant constants - you must decide what unimportant means) for each of the following:\n",
    "\n",
    "(1) the observed data log likelihood\n",
    "\n",
    "(2) the complete(full) data log likelihood\n",
    "\n",
    "**Hint:** You should already have the observed data likelihood and the complete data likelihood from Problem 1, you just need to take their logs for this problem.\n",
    "\n",
    "(3) the Auxilary function, $Q(\\theta, \\theta^{(t-1)})$, or the expected complete(full) data log likelihood, defined by\n",
    "$$Q(\\theta, \\theta^{(t-1)}) = \\mathbb{E}_{Z  \\vert  Y=y, \\Theta = \\theta^{t-1}}[\\text{the complete data log likelihood}]$$\n",
    "\n",
    "In other words $Z  \\vert  Y=y, \\Theta = \\theta^{t-1}$ is $q(z, \\theta_{old})$ from lecture at the end of the E-step and $Q$ is the z-posterior expectation (at $\\theta_{old}$) of the full data log likelihood, which is the ELBO minus the entropy of $q$ (which being evaluated at $\\theta_{old}$ is not dependent on $\\theta$ and thus irrelevant for maximization).\n",
    "\n",
    "### Part B:\n",
    "\n",
    "We will maximize the likelihood through Expectation Maximization (EM). In order to preform EM, we must iterate through the following steps\n",
    "\n",
    "- (Expectation) Compute the Auxilary function, $Q(\\theta, \\theta^{t-1})$ (the expectation of the full data likelihood)\n",
    "- (Maximization) Compute $\\theta^{t} = \\text{argmax}_\\theta Q(\\theta, \\theta^{(t-1)})$\n",
    "\n",
    "Thus, you must compute exact formulae for the following:\n",
    "1. the Auxilary function, $Q(\\theta, \\theta^{(t-1)})$, for a given $\\theta^{(t-1)}$. That is, compute the expectation of the complete data log likelihood.\n",
    "2. $\\theta^{t}$, by maximizing the Auxilary function $Q(\\theta, \\theta^{(t-1)})$.\n",
    "\n",
    "**Hint:** You don't actually need to do any difficult optimization for the M-step. After taking the expectation of the complete data log likelihood in the E-step, match your $Q(\\theta, \\theta^{(t-1)})$ to the log pdf of a familiar distribution, then use the known formula for the mode of this distribution to optimize $Q(\\theta, \\theta^{(t-1)})$.\n",
    "\n",
    "Use these to **estimate the MLE** of $\\theta$ using EM (choose your own reasonable criterion for convergence)."
   ]
  },
  {
   "cell_type": "markdown",
   "metadata": {},
   "source": [
    "### Part A\n",
    "\n",
    "(1) $\\log(p(y|\\theta))=y_1\\cdot\\log(\\theta+2)+(y_2+y_3)\\cdot\\log(1-\\theta)+y_4\\log(\\theta)+c_1$\n",
    "\n",
    "(2) $\\log(p(y,z|\\theta))=(y_2+y_3)\\cdot\\log(1-\\theta)+(z+y_4)\\cdot\\log(\\theta)+c_2$\n",
    "\n",
    "(3) $Q(\\theta, \\theta^{(t-1)})=E_{Z  \\vert  Y=y, \\Theta = \\theta^{t-1}}(\\log(p(y,z|\\theta))=(y_2+y_3)\\cdot\\log(1-\\theta)+\\Bigg(E(Z|Y=y,\\Theta=\\theta^{t-1})+y_4\\Bigg)\\cdot\\log(\\theta)+c_2$"
   ]
  },
  {
   "cell_type": "markdown",
   "metadata": {},
   "source": [
    "### Part B\n",
    "\n",
    "(1) $Q(\\theta, \\theta^{(t-1)})=E_{Z  \\vert  Y=y, \\Theta = \\theta^{t-1}}(\\log(p(y,z|\\theta))=(y_2+y_3)\\cdot\\log(1-\\theta)+\\Bigg(y_1\\cdot\\dfrac{\\theta^{t-1}}{\\theta^{t-1}+2}+y_4\\Bigg)\\cdot\\log(\\theta)+c_2$\n",
    "\n",
    "(2) To maximize $Q(\\theta, \\theta^{(t-1)})$ with respect to $\\theta$ we can use the properties of the beta distribution: $\\theta|y,\\theta^{t-1}\\sim Beta\\Bigg(y_1\\cdot\\dfrac{\\theta^{t-1}}{\\theta^{t-1}+2}+y_4+1, y_2+y_3+1\\Bigg)$\n",
    "\n",
    "$\\Rightarrow$ $\\theta^t=\\dfrac{y_1\\cdot\\frac{\\theta^{t-1}}{\\theta^{t-1}+2}+y_4}{y_1\\cdot\\frac{\\theta^{t-1}}{\\theta^{t-1}+2}+y_2+y_3+y_4}$"
   ]
  },
  {
   "cell_type": "code",
   "execution_count": 91,
   "metadata": {},
   "outputs": [
    {
     "name": "stdout",
     "output_type": "stream",
     "text": [
      "MLE of theta: 0.626821497871\n"
     ]
    }
   ],
   "source": [
    "# estimate MLE of theta\n",
    "\n",
    "# data\n",
    "y1 = 125\n",
    "y2 = 18\n",
    "y3 = 20\n",
    "y4 = 34\n",
    "\n",
    "# initialize theta\n",
    "a = 1\n",
    "b = 1\n",
    "theta = np.random.beta(a, b, 1)\n",
    "theta_old = 1\n",
    "\n",
    "# run EM\n",
    "while abs(theta - theta_old) > 0.000000000000001:\n",
    "    theta_old = theta\n",
    "    theta = (((theta_old)/(theta_old+2))*y1 + y4)/(y2+y3+((theta_old)/(theta_old+2))*y1 + y4)\n",
    "    \n",
    "print('MLE of theta: ' + str(theta[0]))"
   ]
  }
 ],
 "metadata": {
  "anaconda-cloud": {},
  "kernelspec": {
   "display_name": "Python 3",
   "language": "python",
   "name": "python3"
  },
  "language_info": {
   "codemirror_mode": {
    "name": "ipython",
    "version": 3
   },
   "file_extension": ".py",
   "mimetype": "text/x-python",
   "name": "python",
   "nbconvert_exporter": "python",
   "pygments_lexer": "ipython3",
   "version": "3.6.2"
  }
 },
 "nbformat": 4,
 "nbformat_minor": 2
}
