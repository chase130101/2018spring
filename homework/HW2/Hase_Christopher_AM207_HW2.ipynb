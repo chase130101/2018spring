{
 "cells": [
  {
   "cell_type": "markdown",
   "metadata": {},
   "source": [
    "#  Homework 2\n",
    "\n",
    "\n",
    "**Due Date: ** Friday, Febrary 9th, 2017 at 10am\n",
    "\n",
    "**Instructions:**\n",
    "\n",
    "- Upload your final answers as well as your iPython notebook containing all work to Canvas.\n",
    "\n",
    "- Structure your notebook and your work to maximize readability."
   ]
  },
  {
   "cell_type": "markdown",
   "metadata": {},
   "source": [
    "Student: Christopher Hase"
   ]
  },
  {
   "cell_type": "code",
   "execution_count": 1,
   "metadata": {
    "collapsed": true
   },
   "outputs": [],
   "source": [
    "from sklearn.datasets import make_regression\n",
    "import numpy as np\n",
    "import random\n",
    "from scipy.stats import norm\n",
    "from matplotlib import pyplot as plt"
   ]
  },
  {
   "cell_type": "markdown",
   "metadata": {},
   "source": [
    "## Problem 1: Monte Carlo Integration\n",
    "\n",
    "Let $X$ be a random variable with distribution described by the following pdf:\n",
    "\n",
    "$$\n",
    "f_X(x) = \\begin{cases}\n",
    "\\frac{1}{12}(x-1), &1\\leq x\\leq 3\\\\\n",
    "-\\frac{1}{12}(x-5), &3< x\\leq 5\\\\\n",
    "\\frac{1}{6}(x-5), &5< x\\leq 7\\\\\n",
    "-\\frac{1}{6}(x-9), &7< x\\leq 9\\\\\n",
    "0, &otherwise\n",
    "\\end{cases}\n",
    "$$\n",
    "\n",
    "Let $h$ be the following function of $X$:\n",
    "\n",
    "$$\n",
    "h(X) = \\frac{1}{3\\sqrt{2}\\pi}\\mathrm{exp}\\left\\{ -\\frac{1}{18}\\left( X - 5\\right)^2\\right\\}\n",
    "$$\n",
    "\n",
    "Compute $\\mathbb{E}[h(X)]$ via Monte Carlo simulation using the following sampling methods:\n",
    "- inverse transform sampling\n",
    "- rejection sampling with both uniform proposal distribution and normal proposal distribution (steroids) (with appropriately chosen parameters)"
   ]
  },
  {
   "cell_type": "markdown",
   "metadata": {},
   "source": [
    "Inverse transform sampling"
   ]
  },
  {
   "cell_type": "code",
   "execution_count": 2,
   "metadata": {
    "collapsed": true
   },
   "outputs": [],
   "source": [
    "# function for computing the value of X at a given percentile in its PDF\n",
    "def inverse_CDF(u):\n",
    "    if u <= 1/6:\n",
    "        return 1 + (24 * u)**0.5\n",
    "    \n",
    "    elif u > 1/6 and u <= 1/3:\n",
    "        return 5 - 2 * (1 - 6 * (u - 1/6))**0.5\n",
    "    \n",
    "    elif u > 1/3 and u <= 2/3:\n",
    "        return 5 + 2 * (3 * (u - 1/3))**0.5\n",
    "    \n",
    "    elif u > 2/3 and u <= 1:\n",
    "        return 9 - 2 * (1 - 3 * (u - 2/3))**0.5\n",
    "    \n",
    "    \n",
    "# function to perform inverse transform sampling from fX\n",
    "def inverse_transform_samples_fX(num_samples):\n",
    "    samples = np.zeros(num_samples)\n",
    "    for i in range(num_samples):\n",
    "        u = random.random() # sampling from unif(0,1)\n",
    "        samples[i] = inverse_CDF(u) # computing value of x at the percentile of u in its PDF\n",
    "        \n",
    "    return samples\n",
    "    \n",
    "\n",
    "# function for computing the value of random variable h(X) given a value of the random variable X\n",
    "def hX(x):\n",
    "    return (1/(3 * np.pi * 2**0.5)) * np.exp((-(x - 5)**2)/18) "
   ]
  },
  {
   "cell_type": "code",
   "execution_count": 136,
   "metadata": {},
   "outputs": [
    {
     "name": "stdout",
     "output_type": "stream",
     "text": [
      "Estimated mean of h(X) using inverse transform sampling: 0.0589811432951\n"
     ]
    }
   ],
   "source": [
    "random.seed(10)\n",
    "\n",
    "num_samples = 1000\n",
    "samples_inv_transform = inverse_transform_samples_fX(num_samples) # inverse transform sampling from fX\n",
    "h_values_inv_transform = hX(samples_inv_transform) # computing random variable h(X) at values of those samples\n",
    "print('Estimated mean of h(X) using inverse transform sampling: ' + str(np.mean(h_values_inv_transform)))"
   ]
  },
  {
   "cell_type": "markdown",
   "metadata": {},
   "source": [
    "Rejection sampling"
   ]
  },
  {
   "cell_type": "code",
   "execution_count": 125,
   "metadata": {
    "collapsed": true
   },
   "outputs": [],
   "source": [
    "# function for computing the value PDF of X at x\n",
    "def fX(x):\n",
    "    if x >= 1 and x <= 3:\n",
    "        return (1/12) * (x - 1)\n",
    "    \n",
    "    elif x > 3 and x <= 5:\n",
    "        return (-1/12) * (x - 5)\n",
    "    \n",
    "    elif x > 5 and x <= 7:\n",
    "        return (1/6) * (x - 5)\n",
    "    \n",
    "    elif x > 7 and x <= 9:\n",
    "        return (-1/6) * (x - 9)\n",
    "    \n",
    "    else:\n",
    "        return 0\n",
    "    \n",
    "\n",
    "# function to perform rejection sampling from fX\n",
    "def rejection_samples_fX(proposal, num_samples, M, x_min = 1, x_max = 9, mean = 5, std = 2.5, func = fX):\n",
    "    samples = np.zeros(num_samples)\n",
    "    num_accepted = 0\n",
    "\n",
    "    while(num_accepted < num_samples):\n",
    "        if proposal == 'unif':\n",
    "            x = np.random.uniform(x_min, x_max) # sample from unif(x_min, x_max)\n",
    "            y = np.random.uniform(0, 1) # sample from unif(0, 1)\n",
    "\n",
    "            if y < func(x)/((1/(x_max - x_min)) * M): # condition for acceptance\n",
    "                samples[num_accepted] = x\n",
    "                num_accepted += 1\n",
    "                \n",
    "        if proposal == 'normal':\n",
    "            x = np.random.normal(loc = mean, scale = std) # sample from normal\n",
    "            if x >= x_min and x <= x_max:\n",
    "                y = np.random.uniform(0, 1) # sample from unif(0, 1)\n",
    "\n",
    "                if y < func(x)/(norm.pdf(x, loc = mean, scale = std) * M): # condition for acceptance\n",
    "                    samples[num_accepted] = x\n",
    "                    num_accepted += 1\n",
    "                \n",
    "    return samples"
   ]
  },
  {
   "cell_type": "code",
   "execution_count": 146,
   "metadata": {},
   "outputs": [
    {
     "name": "stdout",
     "output_type": "stream",
     "text": [
      "Estimated mean of h(X) using rejection sampling and uniform proposal distribution: 0.0589763007697\n",
      "Estimated mean of h(X) using rejection sampling and normal proposal distribution: 0.0589816169223\n"
     ]
    }
   ],
   "source": [
    "np.random.seed(10)\n",
    "\n",
    "num_samples = 1000\n",
    "samples_unif_prop = rejection_samples_fX('unif', num_samples, 5) # rejection sampling from fX with uniform proposal distribution\n",
    "h_values_unif_prop = hX(samples_unif_prop) # computing random variable h(X) at values of those samples\n",
    "print('Estimated mean of h(X) using rejection sampling and uniform proposal distribution: ' + str(np.mean(h_values_unif_prop)))\n",
    "\n",
    "samples_norm_prop = rejection_samples_fX('normal', num_samples, 5) # rejection sampling from fX with normal proposal distribution\n",
    "h_values_norm_prop = hX(samples_norm_prop) # computing random variable h(X) at values of those samples\n",
    "print('Estimated mean of h(X) using rejection sampling and normal proposal distribution: ' + str(np.mean(h_values_norm_prop)))"
   ]
  },
  {
   "cell_type": "markdown",
   "metadata": {},
   "source": [
    "## Problem 2: Variance Reduction\n",
    "\n",
    "### Part A\n",
    "\n",
    "Compute the variance of each estimate of $\\mathbb{E}[h(X)]$ obtained in Problem 1. What do you see?\n",
    "\n",
    "### Part B (Stratified Sampling)\n",
    "\n",
    "Often, a complex integral can be computed with more ease if one can break up the domain of the integral into pieces and if on each piece of the domain the integral is simplified. \n",
    "\n",
    "- Find a natural way to divide the domain of $X$ and express $\\mathbb{E}[h(X)]$ as an ***correctly*** weighted sum of integrals over the pieces of the domain of $X$. (This constitutes the essentials of Stratified Sampling)\n",
    "\n",
    "- Estimate each integral in the summand using rejection sampling using a normal proposal distribution (with sensibly chosen parameters). From these, estimate $\\mathbb{E}[h(X)]$.\n",
    "\n",
    "- Compute the variance of your estimate of $\\mathbb{E}[h(X)]$. Compare with the variance of your previous estimate of $\\mathbb{E}[h(X)]$ (in Part A, using rejection sampling, a normal proposal distribution over the entire domain of $X$).\n",
    "\n",
    "Read more about Stratified Sampling:\n",
    "\n",
    "1. [Monte Carlo Methods](http://www.public.iastate.edu/~mervyn/stat580/Notes/s09mc.pdf)\n",
    "\n",
    "2. [Variance Reduction Techniques Chapter](http://sas.uwaterloo.ca/~dlmcleis/s906/chapt4.pdf)"
   ]
  },
  {
   "cell_type": "markdown",
   "metadata": {},
   "source": [
    "Part A"
   ]
  },
  {
   "cell_type": "code",
   "execution_count": 148,
   "metadata": {},
   "outputs": [
    {
     "name": "stdout",
     "output_type": "stream",
     "text": [
      "Estimated variance of sample mean of h(X) when using inverse transform sampling: 1.01104695622e-07\n",
      "Estimated variance of sample mean of h(X) when using rejection sampling with uniform proposal distribution: 1.10497011341e-07\n",
      "Estimated variance of sample mean of h(X) when using rejection sampling with normal proposal distribution: 9.91070320052e-08\n"
     ]
    }
   ],
   "source": [
    "np.random.seed(10)\n",
    "\n",
    "num_means = 1000\n",
    "est_means_h_inv = np.zeros(num_means)\n",
    "est_means_h_rej_unif = np.zeros(num_means)\n",
    "est_means_h_rej_norm = np.zeros(num_means)\n",
    "\n",
    "num_samples = 1000\n",
    "for i in range(num_means):\n",
    "    samples_inv_transform = inverse_transform_samples_fX(num_samples) # inverse transform sampling from fX\n",
    "    h_values_inv_transform = hX(samples_inv_transform) # computing random variable h(X) at values of those samples\n",
    "    est_means_h_inv[i] = np.mean(h_values_inv_transform) # estimating mean of h(X) from sample\n",
    "    \n",
    "    samples_rej_unif = rejection_samples_fX('unif', num_samples, 5) # rejection sampling from fX with uniform proposal distribution\n",
    "    h_values_rej_unif = hX(samples_rej_unif) # computing random variable h(X) at values of those samples\n",
    "    est_means_h_rej_unif[i] = np.mean(h_values_rej_unif) # estimating mean of h(X) from sample\n",
    "\n",
    "    samples_rej_norm = rejection_samples_fX('normal', num_samples, 5) # rejection sampling from fX with normal proposal distribution\n",
    "    h_values_rej_norm = hX(samples_rej_norm) # computing random variable h(X) at values of those samples\n",
    "    est_means_h_rej_norm[i] = np.mean(h_values_rej_norm) # estimating mean of h(X) from sample\n",
    "    \n",
    "print('Estimated variance of sample mean of h(X) when using inverse transform sampling: ' + str(np.var(est_means_h_inv, ddof = 1)))\n",
    "print('Estimated variance of sample mean of h(X) when using rejection sampling with uniform proposal distribution: ' + str(np.var(est_means_h_rej_unif, ddof = 1)))\n",
    "print('Estimated variance of sample mean of h(X) when using rejection sampling with normal proposal distribution: ' + str(np.var(est_means_h_rej_norm, ddof = 1)))"
   ]
  },
  {
   "cell_type": "markdown",
   "metadata": {},
   "source": [
    "The estimated variances of the sample mean of h(X) are very close in magnitude."
   ]
  },
  {
   "cell_type": "markdown",
   "metadata": {},
   "source": [
    "Part B"
   ]
  },
  {
   "cell_type": "markdown",
   "metadata": {},
   "source": [
    "The domain of $X$ is naturally divided into 4 parts based on its PDF $f_X$.\n",
    "\n",
    "$E[h(X)] = P(1\\leq X\\leq 3)\\displaystyle\\int_1^3h(x)\\cdot\\dfrac{1}{12}(x-1) dx+P(3< X\\leq 5)\\displaystyle\\int_3^5h(x)\\cdot -\\dfrac{1}{12}(x-5)dx+P(5< X\\leq 7)\\displaystyle\\int_5^7h(x)\\cdot \\dfrac{1}{6}(x-5)dx+P(7< X\\leq 9)\\displaystyle\\int_7^9h(x)\\cdot -\\dfrac{1}{6}(x-9)dx\\\\\\\\\n",
    "=\\dfrac{1}{6}\\cdot\\displaystyle\\int_1^3h(x)\\cdot\\dfrac{1}{12}(x-1) dx+\\dfrac{1}{6}\\cdot\\displaystyle\\int_3^5h(x)\\cdot -\\dfrac{1}{12}(x-5)dx+\\dfrac{1}{3}\\cdot\\displaystyle\\int_5^7h(x)\\cdot \\dfrac{1}{6}(x-5)dx+\\dfrac{1}{3}\\cdot\\displaystyle\\int_7^9h(x)\\cdot -\\dfrac{1}{6}(x-9)dx$"
   ]
  },
  {
   "cell_type": "code",
   "execution_count": 159,
   "metadata": {},
   "outputs": [
    {
     "name": "stdout",
     "output_type": "stream",
     "text": [
      "Estimate of 1st integral: 0.0500896557542\n",
      "Estimate of 2nd integral: 0.0673530001159\n",
      "Estimate of 3rd integral: 0.0680925384897\n",
      "Estimate of 4th integral: 0.0497164409828\n",
      "Estimated mean of h(X) using stratified sampling: 0.0588434358025\n"
     ]
    }
   ],
   "source": [
    "np.random.seed(10)\n",
    "\n",
    "num_samples = 1000\n",
    "\n",
    "samples_13 = rejection_samples_fX('normal', num_samples, M = 2, x_min = 1, x_max = 3, mean = 2, std = 0.4, func = lambda x: (1/12) * (x - 1)) # rejection sampling from first stratum\n",
    "h_values_13 = hX(samples_13) # computing random variable h(X) at values of those samples\n",
    "print('Estimate of 1st integral: ' + str(np.mean(h_values_13)))\n",
    "\n",
    "samples_35 = rejection_samples_fX('normal', num_samples, M = 2, x_min = 3, x_max = 5, mean = 4, std = 0.4, func = lambda x: (-1/12) * (x - 5)) # rejection sampling from seoond stratum\n",
    "h_values_35 = hX(samples_35) # computing random variable h(X) at values of those samples\n",
    "print('Estimate of 2nd integral: ' + str(np.mean(h_values_35)))\n",
    "\n",
    "samples_57 = rejection_samples_fX('normal', num_samples, M = 2, x_min = 5, x_max = 7, mean = 6, std = 0.4, func = lambda x: (1/6) * (x - 5)) # rejection sampling from third stratum\n",
    "h_values_57 = hX(samples_57) # computing random variable h(X) at values of those samples\n",
    "print('Estimate of 3rd integral: ' + str(np.mean(h_values_57)))\n",
    "\n",
    "samples_79 = rejection_samples_fX('normal', num_samples, M = 2, x_min = 7, x_max = 9, mean = 8, std = 0.4, func = lambda x: (-1/6) * (x - 9)) # rejection sampling from fourth stratum\n",
    "h_values_79 = hX(samples_79) # computing random variable h(X) at values of those samples\n",
    "print('Estimate of 4th integral: ' + str(np.mean(h_values_79)))\n",
    "\n",
    "# weighted sum of integrals to estimate mean of h(X)\n",
    "hX_est_mean = (1/6) * np.mean(h_values_13) + (1/6) * np.mean(h_values_35) + (1/3) * np.mean(h_values_57) + (1/3) * np.mean(h_values_79)\n",
    "\n",
    "print('Estimated mean of h(X) using stratified sampling: ' + str(hX_est_mean))"
   ]
  },
  {
   "cell_type": "code",
   "execution_count": 160,
   "metadata": {},
   "outputs": [
    {
     "name": "stdout",
     "output_type": "stream",
     "text": [
      "Estimated variance of weighted mean of h(X) when using stratified sampling: 9.47500939147e-09\n"
     ]
    }
   ],
   "source": [
    "np.random.seed(1)\n",
    "\n",
    "num_means = 100\n",
    "est_means_h_strat = np.zeros(num_means)\n",
    "\n",
    "num_samples = 1000\n",
    "for i in range(num_means):\n",
    "    samples_13 = rejection_samples_fX('normal', num_samples, M = 2, x_min = 1, x_max = 3, mean = 2, std = 0.4, func = lambda x: (1/12) * (x - 1)) # rejection sampling from first stratum\n",
    "    h_values_13 = hX(samples_13) # computing random variable h(X) at values of those samples\n",
    "\n",
    "    samples_35 = rejection_samples_fX('normal', num_samples, M = 2, x_min = 3, x_max = 5, mean = 4, std = 0.4, func = lambda x: (-1/12) * (x - 5)) # rejection sampling from seoond stratum\n",
    "    h_values_35 = hX(samples_35) # computing random variable h(X) at values of those samples\n",
    "\n",
    "    samples_57 = rejection_samples_fX('normal', num_samples, M = 2, x_min = 5, x_max = 7, mean = 6, std = 0.4, func = lambda x: (1/6) * (x - 5)) # rejection sampling from third stratum\n",
    "    h_values_57 = hX(samples_57) # computing random variable h(X) at values of those samples\n",
    "\n",
    "    samples_79 = rejection_samples_fX('normal', num_samples, M = 2, x_min = 7, x_max = 9, mean = 8, std = 0.4, func = lambda x: (-1/6) * (x - 9)) # rejection sampling from fourth stratum\n",
    "    h_values_79 = hX(samples_79) # computing random variable h(X) at values of those samples\n",
    "\n",
    "    # weighted sum of integrals to estimate mean of h(X)\n",
    "    est_means_h_strat[i] = (1/6) * np.mean(h_values_13) + (1/6) * np.mean(h_values_35) + (1/3) * np.mean(h_values_57) + (1/3) * np.mean(h_values_79)\n",
    "    \n",
    "print('Estimated variance of weighted mean of h(X) when using stratified sampling: ' + str(np.var(est_means_h_strat, ddof = 1)))"
   ]
  },
  {
   "cell_type": "markdown",
   "metadata": {},
   "source": [
    "The estimated variance of the weighted mean of $h(X)$ computed using stratified sampling with normal proposal distributions is much lower than the estimated variance of the sample mean of $h(X)$ computed using rejection sampling with a single normal proposal distribution over the entire domain of $X$."
   ]
  },
  {
   "cell_type": "markdown",
   "metadata": {},
   "source": [
    "## Problem 3: Linear Regression\n",
    "\n",
    "Consider the following base Regression class, which roughly follows the API in the python package `scikit-learn`.\n",
    "\n",
    "Our model is the the multivariate linear model whose MLE solution or equivalent cost minimization was talked about in lecture:\n",
    "\n",
    "$$y = X\\beta + \\epsilon$$\n",
    "where $y$ is a length $n$ vector, $X$ is an $n \\times p$ matrix created by stacking the features for each data point, and $\\beta$ is a $p$ length vector of coefficients.\n",
    "\n",
    "The class showcases the API:\n",
    "\n",
    "$fit(X, y)$: Fits linear model to $X$ and $y$.\n",
    "\n",
    "$get\\_params()$: Returns $\\hat{\\beta}$ for the fitted model. The parameters should be stored in a dictionary with keys \"intercept\" and \"coef\" that give us $\\hat{\\beta_0}$ and $\\hat{\\beta_{1:}}$. (The second value here is thus a numpy array of coefficient values)\n",
    "\n",
    "$predict(X)$: Predict new values with the fitted model given $X$.\n",
    "\n",
    "$score(X, y)$: Returns $R^2$ value of the fitted model.\n",
    "\n",
    "$set\\_params()$: Manually set the parameters of the linear model.\n",
    "\n"
   ]
  },
  {
   "cell_type": "code",
   "execution_count": 2,
   "metadata": {
    "collapsed": true
   },
   "outputs": [],
   "source": [
    "class Regression(object):\n",
    "    \n",
    "    def __init__(self):\n",
    "        self.params = dict()\n",
    "    \n",
    "    \n",
    "    def get_params(self, k):\n",
    "        return self.params[k]\n",
    "    \n",
    "    \n",
    "    def set_params(self, **kwargs):\n",
    "        for k,v in kwargs.iteritems():\n",
    "            self.params[k] = v\n",
    "        \n",
    "        \n",
    "    def fit(self, X, y):\n",
    "        raise NotImplementedError()\n",
    "        \n",
    "        \n",
    "    def predict(self, X):\n",
    "        raise NotImplementedError()\n",
    "        \n",
    "        \n",
    "    def score(self, X, y):\n",
    "        raise NotImplementedError()"
   ]
  },
  {
   "cell_type": "markdown",
   "metadata": {},
   "source": [
    "### Part A:  a class for Ordinary Least Squares\n",
    "\n",
    "Inherit from this class to create an ordinary Least Squares Linear Regression class. \n",
    "\n",
    "It's signature will look like this:\n",
    "\n",
    "`class OLS(Regression):`\n",
    "\n",
    "Implement `fit`, `predict` and `score`. This will involve some linear algebra. (You might want to read up on pseudo-inverses before you directly implement the linear algebra on the lecure slides).\n",
    "\n",
    "#### $R^2$ score\n",
    "\n",
    "To implement `score`, look below:\n",
    "\n",
    "The $R^2$ score is defined as: $${R^{2} = {1-{SS_E \\over SS_T}}}$$\n",
    "\n",
    "Where:\n",
    "\n",
    "$$SS_T=\\sum_i (y_i-\\bar{y})^2, SS_R=\\sum_i (\\hat{y_i}-\\bar{y})^2, SS_E=\\sum_i (y_i - \\hat{y_i})^2$$\n",
    "where  ${y_i}$ are the original data values, $\\hat{y_i}$ are the predicted values, and $\\bar{y_i}$ is the mean of the original data values.\n",
    "\n"
   ]
  },
  {
   "cell_type": "code",
   "execution_count": 115,
   "metadata": {
    "collapsed": true
   },
   "outputs": [],
   "source": [
    "class OLS(Regression):\n",
    "    \n",
    "    def __init__(self):\n",
    "        self.params = dict()\n",
    "        \n",
    "        \n",
    "    def fit(self, X, y):\n",
    "        # adding column of ones to X matrix to fit bias term if X matrix doesn't already have a column of ones\n",
    "        if np.sum(X[:, 0] != np.ones(X.shape[0])) == X.shape[0]:\n",
    "            X_ones = np.concatenate((np.ones((X.shape[0], 1)), X), axis = 1)\n",
    "        else:\n",
    "            X_ones = X\n",
    "        \n",
    "        betas = np.linalg.pinv(X_ones.T.dot(X_ones)).dot(X_ones.T).dot(y) # ordinary least squares solution\n",
    "        self.params['intercept'] = betas[0]\n",
    "        self.params['coef'] = betas[1:]\n",
    "        \n",
    "        \n",
    "    def predict(self, X):\n",
    "        # adding column of ones to X matrix if X matrix doesn't already have a column of ones\n",
    "        if np.sum(X[:, 0] != np.ones(X.shape[0])) == X.shape[0]:\n",
    "            X_ones = np.concatenate((np.ones((X.shape[0], 1)), X), axis = 1)\n",
    "        else:\n",
    "            X_ones = X\n",
    "        \n",
    "        # putting intercept and coefficients into a single column vector\n",
    "        betas = np.concatenate((np.array(self.params['intercept']).reshape(1, -1), self.params['coef'].reshape(len(self.params['coef']), -1)), axis = 0)\n",
    "                               \n",
    "        return np.squeeze(X_ones.dot(betas), axis = 1)\n",
    "    \n",
    "        \n",
    "    def score(self, X, y):\n",
    "        pred = self.predict(X)\n",
    "        sse = np.sum((y - pred)**2)\n",
    "        sst = np.sum((y - np.mean(y))**2)\n",
    "        \n",
    "        return 1 - sse/sst"
   ]
  },
  {
   "cell_type": "markdown",
   "metadata": {},
   "source": [
    "### Part B: test your code\n",
    "\n",
    "We'll create a synthetic data set using the code below. (Read the documentation for `make_regression` to see what is going on)."
   ]
  },
  {
   "cell_type": "code",
   "execution_count": 39,
   "metadata": {},
   "outputs": [
    {
     "data": {
      "text/plain": [
       "array([ 76.6568183 ,  77.67682678,  63.78807738,  19.3299907 ,\n",
       "        59.01638708,  53.13633737,  28.77629958,  10.01888939,\n",
       "         9.25346811,  59.55220395])"
      ]
     },
     "execution_count": 39,
     "metadata": {},
     "output_type": "execute_result"
    }
   ],
   "source": [
    "np.random.seed(99)\n",
    "X, y, coef = make_regression(30, 10, 10, bias=1, noise=2, coef=True)\n",
    "coef"
   ]
  },
  {
   "cell_type": "markdown",
   "metadata": {},
   "source": [
    "Verify that your code recovers these coefficients approximately on doing the fit. Plot the predicted `y` against the actual `y`. Also calculate the score using the same sets `X` and `y`. The usage will look something like:\n",
    "\n",
    "```python\n",
    "lr = OLS()\n",
    "lr.fit(X, y)\n",
    "lr.get_params['coef']\n",
    "lr.predict(X)\n",
    "lr.score(X, y)\n",
    "```"
   ]
  },
  {
   "cell_type": "code",
   "execution_count": 118,
   "metadata": {},
   "outputs": [
    {
     "data": {
      "image/png": "[encoded data removed]",
      "text/plain": [
       "<matplotlib.figure.Figure at 0x12c2c76be80>"
      ]
     },
     "metadata": {},
     "output_type": "display_data"
    },
    {
     "name": "stdout",
     "output_type": "stream",
     "text": [
      "Intercept: 1.34580357078\n",
      "\n",
      "Coefficients: [ 77.20719705  76.51004831  62.97865316  18.4436452   58.50019885\n",
      "  53.25126559  28.29088241   9.33333359  10.29584457  59.1606719 ]\n",
      "\n",
      "Predictions: [  48.57564537   24.85508406  246.39920911   64.72282184  124.00042911\n",
      " -266.57653702  118.15510334 -108.57077603  191.15229644  174.74404249\n",
      " -103.59066227  -59.1576374   -54.70947468   73.91003582  505.22781806\n",
      "   39.53820436 -191.02175593 -201.71787963   46.1500923  -111.90307749\n",
      "  117.38777883 -111.52335297   41.66543625  168.33074858   73.41934029\n",
      "  -80.64319083  155.12182695  -94.18157131  -48.17239883   40.78548557]\n",
      "\n",
      "Score (R^2): 0.999915583206\n"
     ]
    }
   ],
   "source": [
    "# fitting and predicting\n",
    "lr = OLS()\n",
    "lr.fit(X, y)\n",
    "pred = lr.predict(X)\n",
    "\n",
    "# plotting pred y vs. true y\n",
    "plt.plot(y, pred, 'bo')\n",
    "plt.xlabel('True Y')\n",
    "plt.ylabel('Predicted Y')\n",
    "plt.title('Predicted Y vs. True Y')\n",
    "plt.show()\n",
    "\n",
    "# displaying values of interest\n",
    "print('Intercept: ' + str(lr.get_params('intercept')))\n",
    "print()\n",
    "print('Coefficients: ' + str(lr.get_params('coef')))\n",
    "print()\n",
    "print('Predictions: ' + str(pred))\n",
    "print()\n",
    "print('Score (R^2): ' + str(lr.score(X, y)))"
   ]
  }
 ],
 "metadata": {
  "anaconda-cloud": {},
  "kernelspec": {
   "display_name": "Python 3",
   "language": "python",
   "name": "python3"
  },
  "language_info": {
   "codemirror_mode": {
    "name": "ipython",
    "version": 3
   },
   "file_extension": ".py",
   "mimetype": "text/x-python",
   "name": "python",
   "nbconvert_exporter": "python",
   "pygments_lexer": "ipython3",
   "version": "3.6.2"
  }
 },
 "nbformat": 4,
 "nbformat_minor": 1
}
