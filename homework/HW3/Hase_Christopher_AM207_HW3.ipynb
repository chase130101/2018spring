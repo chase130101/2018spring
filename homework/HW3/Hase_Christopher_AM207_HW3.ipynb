{
 "cells": [
  {
   "cell_type": "markdown",
   "metadata": {},
   "source": [
    "# APMTH 207: Advanced Scientific Computing: \n",
    "## Stochastic Methods for Data Analysis, Inference and Optimization\n",
    "## Homework #3\n",
    "**Harvard University**<br/>\n",
    "**Spring 2018**<br/>\n",
    "**Instructors: Rahul Dave**<br/>\n",
    "**Due Date: ** Friday, Febrary 16th, 2018 at 10:00am\n",
    "\n",
    "**Instructions:**\n",
    "\n",
    "- Upload your final answers as an iPython notebook containing all of your work to Canvas.\n",
    "\n",
    "- Structure your notebook and your work to maximize readability."
   ]
  },
  {
   "cell_type": "markdown",
   "metadata": {},
   "source": [
    "Name: Christopher Hase"
   ]
  },
  {
   "cell_type": "code",
   "execution_count": 56,
   "metadata": {},
   "outputs": [],
   "source": [
    "import numpy as np\n",
    "import pandas as pd\n",
    "import time\n",
    "from matplotlib import pyplot as plt\n",
    "import torch\n",
    "import torchvision\n",
    "from torch.autograd import Variable\n",
    "import sklearn.metrics\n",
    "import os"
   ]
  },
  {
   "cell_type": "markdown",
   "metadata": {},
   "source": [
    "## Problem 1: Optimization via Descent\n",
    "\n",
    "Suppose you are building a pricing model for laying down telecom cables over a geographical region. Your model takes as input a pair of  coordinates, $(x, y)$, and contains two parameters, $\\lambda_1, \\lambda_2$. Given a coordinate, $(x, y)$, and model parameters, the loss in revenue corresponding to the price model at location $(x, y)$ is described by\n",
    "$$\n",
    "L(x, y, \\lambda_1, \\lambda_2) = 0.000045\\lambda_2^2 y - 0.000098\\lambda_1^2 x + 0.003926\\lambda_1 x\\exp\\left\\{\\left(y^2 - x^2\\right)\\left(\\lambda_1^2 + \\lambda_2^2\\right)\\right\\}\n",
    "$$\n",
    "Read the data contained in `HW3_data.csv`. This is a set of coordinates configured on the curve $y^2 - x^2 = -0.1$. Given the data, find parameters $\\lambda_1, \\lambda_2$ that minimize the net loss over the entire dataset.\n",
    "\n",
    "### Part A\n",
    "- Visually verify that for $\\lambda_1 = 2.05384, \\lambda_2 = 0$, the loss function $L$ is minimized for the given data.\n",
    "- Implement gradient descent for minimizing $L$ for the given data, using the learning rate of 0.001.\n",
    "- Implement stochastic gradient descent for minimizing $L$ for the given data, using the learning rate of 0.001.\n",
    "\n",
    "### Part B\n",
    "- Compare the average time it takes to update the parameter estimation in each iteration of the two implementations. Which method is faster? Briefly explain why this result should be expected.\n",
    "- Compare the number of iterations it takes for each algorithm to obtain an estimate accurate to `1e-3` (you may wish to set a cap for maximum number of iterations). Which method converges to the optimal point in fewer iterations? Briefly explain why this result should be expected.\n",
    "\n",
    "### Part C\n",
    "Compare the performance of stochastic gradient descent for the following learning rates: 1, 0.1, 0.001, 0.0001. Based on your observations, briefly describe the effect of the choice of learning rate on the performance of the algorithm."
   ]
  },
  {
   "cell_type": "code",
   "execution_count": 33,
   "metadata": {
    "collapsed": true
   },
   "outputs": [],
   "source": [
    "# function to compute loss\n",
    "def loss(x, y, lam1, lam2):\n",
    "    return 0.000045 * lam2**2 * y - 0.000098 * lam1**2 * x + 0.003926 * lam1 * x * np.exp((y**2 - x**2) * (lam1**2 + lam2**2))\n",
    "\n",
    "# function to compute derivative of loss with respect to lam1\n",
    "def derivative_loss_lam1(x, y, lam1, lam2):\n",
    "    return -0.000196 * lam1 * x + x * (0.003926 - 0.007852 * lam1**2 * (x**2 - y**2)) * np.exp((y**2 - x**2) * (lam1**2 + lam2**2))\n",
    "\n",
    "# function to compute derivative of loss with respect to lam2\n",
    "def derivative_loss_lam2(x, y, lam1, lam2):\n",
    "    return 0.00009 * lam2 * y - 0.007852 * lam1 * lam2 * x * (x**2 - y**2) * np.exp((y**2 - x**2) * (lam1**2 + lam2**2))"
   ]
  },
  {
   "cell_type": "code",
   "execution_count": 34,
   "metadata": {
    "collapsed": true
   },
   "outputs": [],
   "source": [
    "# read in and manipulate data\n",
    "hw3_data = pd.read_csv('HW3_data.csv', header = None)\n",
    "hw3_data = hw3_data.transpose()\n",
    "hw3_data.columns = ['x', 'y']"
   ]
  },
  {
   "cell_type": "markdown",
   "metadata": {},
   "source": [
    "Part A, visual verification"
   ]
  },
  {
   "cell_type": "code",
   "execution_count": 200,
   "metadata": {},
   "outputs": [
    {
     "data": {
      "image/png": "[encoded data removed]",
      "text/plain": [
       "<matplotlib.figure.Figure at 0x217cb3736a0>"
      ]
     },
     "metadata": {},
     "output_type": "display_data"
    }
   ],
   "source": [
    "lam1 = np.arange(-3, 3, 0.1) # lam1 values for loss eval\n",
    "lam2 = np.arange(-3, 3, 0.1) # lam2 values for loss eval\n",
    "loss_evals = np.zeros((len(lam1), len(lam2))) # to store net loss values\n",
    "\n",
    "for i in range(len(lam1)):\n",
    "    for j in range(len(lam2)):\n",
    "        loss_evals[j, i] = np.sum(loss(hw3_data['x'].values, hw3_data['y'].values, lam1[i], lam2[j]))\n",
    "        \n",
    "contour = plt.contourf(lam1, lam2, loss_evals) # contour plot\n",
    "\n",
    "# help from: https://stackoverflow.com/questions/10490302/how-do-you-create-a-legend-for-a-contour-plot-in-matplotlib for contour plotting\n",
    "proxy = [plt.Rectangle((0,0),1,1, fc = pc.get_facecolor()[0]) for pc in contour.collections]\n",
    "plt.legend(proxy, list(map(str, contour.levels)), loc = 'upper left')\n",
    "plt.xlabel('Lambda 1')\n",
    "plt.ylabel('Lambda 2')\n",
    "plt.title('Loss evaluations for varying lambda values')\n",
    "plt.show()"
   ]
  },
  {
   "cell_type": "markdown",
   "metadata": {},
   "source": [
    "Parts A and B, gradient descent"
   ]
  },
  {
   "cell_type": "code",
   "execution_count": 179,
   "metadata": {},
   "outputs": [
    {
     "name": "stdout",
     "output_type": "stream",
     "text": [
      "Lambda 1: 2.05381089612\n",
      "Lambda 2: 0.00389615269683\n",
      "Net loss: -9.93408463088\n",
      "Average number of seconds per iteration (gradient descent): 0.00070003604799\n",
      "Number of iterations to obtain estimates accurate to 1e-3 (gradient descent): 2123\n"
     ]
    }
   ],
   "source": [
    "np.random.seed(1)\n",
    "\n",
    "# initializing lam1 and lam2\n",
    "lam1 = np.random.uniform(0, 1, 1)\n",
    "lam2 = np.random.uniform(0, 1, 1)\n",
    "\n",
    "lr = 0.001 # learning rate\n",
    "\n",
    "loss_current = 0\n",
    "\n",
    "times = []\n",
    "num_iter = 0\n",
    "num_iter_to_tol = 0\n",
    "\n",
    "# stop updating lambdas when loss 'barely' changes\n",
    "while abs(loss_current - np.sum(loss(hw3_data['x'].values, hw3_data['y'].values, lam1, lam2))) > 0.0000001:\n",
    "    loss_current = np.sum(loss(hw3_data['x'].values, hw3_data['y'].values, lam1, lam2))\n",
    "    num_iter += 1\n",
    "    \n",
    "    time1 = time.time()\n",
    "    \n",
    "    lam1 -= lr * np.sum(derivative_loss_lam1(hw3_data['x'].values, hw3_data['y'].values, lam1, lam2)) # update lam1\n",
    "    lam2 -= lr * np.sum(derivative_loss_lam2(hw3_data['x'].values, hw3_data['y'].values, lam1, lam2)) # update lam2\n",
    "    \n",
    "    time2 = time.time()\n",
    "    times.append(time2 - time1)\n",
    "    \n",
    "    if abs(lam1 - 2.05384) > 0.001 or abs(lam2 - 0) > 0.001: # condition indicating accuracy of estimates not within 1e-3\n",
    "        num_iter_to_tol = num_iter + 1\n",
    "            \n",
    "    \n",
    "print('Lambda 1: ' + str(lam1[0]))\n",
    "print('Lambda 2: ' + str(lam2[0]))\n",
    "print('Net loss: ' + str(np.sum(loss(hw3_data['x'].values, hw3_data['y'].values, lam1, lam2))))\n",
    "print('Average number of seconds per iteration (gradient descent): ' + str(np.mean(times)))\n",
    "print('Number of iterations to obtain estimates accurate to 1e-3 (gradient descent): ' + str(num_iter_to_tol))"
   ]
  },
  {
   "cell_type": "markdown",
   "metadata": {},
   "source": [
    "Parts A and B, stochastic gradient descent"
   ]
  },
  {
   "cell_type": "code",
   "execution_count": 178,
   "metadata": {},
   "outputs": [
    {
     "name": "stdout",
     "output_type": "stream",
     "text": [
      "Lambda 1: 2.05384427299\n",
      "Lambda 2: 1.04305347641e-30\n",
      "Net loss: -9.9341040252\n",
      "Average number of seconds per iteration (stochastic gradient descent): 7.23557812827e-05\n",
      "Number of iterations to obtain estimates accurate to 1e-3 (stochastic gradient descent): 52\n"
     ]
    }
   ],
   "source": [
    "np.random.seed(1)\n",
    "\n",
    "# initializing lam1 and lam2\n",
    "lam1 = np.random.uniform(0, 1, 1)\n",
    "lam2 = np.random.uniform(0, 1, 1)\n",
    "\n",
    "lr = 0.001 # learning rate\n",
    "\n",
    "loss_current = 0\n",
    "row = 0\n",
    "\n",
    "times = []\n",
    "num_iter = 0\n",
    "num_iter_to_tol = 0\n",
    "\n",
    "# stop updating lambdas when loss 'barely' changes\n",
    "while abs(loss_current - np.sum(loss(hw3_data['x'].values, hw3_data['y'].values, lam1, lam2))) > 0.0000001:\n",
    "    loss_current = np.sum(loss(hw3_data['x'].values, hw3_data['y'].values, lam1, lam2))\n",
    "    num_iter += 1\n",
    "    \n",
    "    time1 = time.time()\n",
    "    \n",
    "    lam1 += lr * len(hw3_data) * derivative_loss_lam1(hw3_data['x'].values[row], hw3_data['y'].values[row], lam1, lam2) # update lam1\n",
    "    lam2 += lr * len(hw3_data) * derivative_loss_lam2(hw3_data['x'].values[row], hw3_data['y'].values[row], lam1, lam2) # update lam2\n",
    "    \n",
    "    time2 = time.time()\n",
    "    times.append(time2 - time1)\n",
    "    \n",
    "    if abs(lam1 - 2.05384) > 0.001 or abs(lam2 - 0) > 0.001: # condition indicating accuracy of estimates not within 1e-3\n",
    "        num_iter_to_tol = num_iter + 1\n",
    "            \n",
    "    row += 1\n",
    "    if row == len(hw3_data): # condition indicating end of dataset; need to reset\n",
    "        row = 0\n",
    "        \n",
    "print('Lambda 1: ' + str(lam1[0]))\n",
    "print('Lambda 2: ' + str(lam2[0]))\n",
    "print('Net loss: ' + str(np.sum(loss(hw3_data['x'].values, hw3_data['y'].values, lam1, lam2))))\n",
    "print('Average number of seconds per iteration (stochastic gradient descent): ' + str(np.mean(times)))\n",
    "print('Number of iterations to obtain estimates accurate to 1e-3 (stochastic gradient descent): ' + str(num_iter_to_tol))"
   ]
  },
  {
   "cell_type": "markdown",
   "metadata": {},
   "source": [
    "The parameter updates occur faster when using stochastic gradient descent than when using gradient descent. This is because with stochastic gradient descent, only 1 data point is being used to compute the gradient whereas with gradient descent, the entire dataset a being used to compute the gradient. \n",
    "\n",
    "We see convergence to the optimal point occur with fewer iterations when using stochastic gradient descent than when using gradient descent. This is because..."
   ]
  },
  {
   "cell_type": "markdown",
   "metadata": {},
   "source": [
    "Part C"
   ]
  },
  {
   "cell_type": "code",
   "execution_count": 180,
   "metadata": {},
   "outputs": [
    {
     "name": "stdout",
     "output_type": "stream",
     "text": [
      "Learning rate: 1\n",
      "Lambda 1: -5.69411873177e+148\n",
      "Lambda 2: -1.64132647247e+124\n",
      "Net loss: 6.47495320745e+296\n",
      "Average number of seconds per iteration (stochastic gradient descent): 7.15562275478e-05\n",
      "Number of iterations to obtain estimates accurate to 1e-3 (stochastic gradient descent): Did not converge\n",
      "\n",
      "Learning rate: 0.1\n",
      "Lambda 1: 5.21486958304e+74\n",
      "Lambda 2: 2.13438348492e+53\n",
      "Net loss: 5.43088367249e+148\n",
      "Average number of seconds per iteration (stochastic gradient descent): 4.29732458932e-05\n",
      "Number of iterations to obtain estimates accurate to 1e-3 (stochastic gradient descent): Did not converge\n",
      "\n",
      "Learning rate: 0.001\n",
      "Lambda 1: 2.05384426876\n",
      "Lambda 2: 9.5721794651e-32\n",
      "Net loss: -9.9341040252\n",
      "Average number of seconds per iteration (stochastic gradient descent): 3.58053616115e-05\n",
      "Number of iterations to obtain estimates accurate to 1e-3 (stochastic gradient descent): 52\n",
      "\n",
      "Learning rate: 0.0001\n",
      "Lambda 1: 2.05384832172\n",
      "Lambda 2: 0.00130741942505\n",
      "Net loss: -9.93410184176\n",
      "Average number of seconds per iteration (stochastic gradient descent): 3.13110649586e-05\n",
      "Number of iterations to obtain estimates accurate to 1e-3 (stochastic gradient descent): 65\n",
      "\n"
     ]
    }
   ],
   "source": [
    "np.random.seed(1)\n",
    "\n",
    "lrs = [1, 0.1, 0.001, 0.0001] # different learning rates\n",
    "max_iter = 70 # maximum number of iterations\n",
    "\n",
    "for lr in lrs:\n",
    "    \n",
    "    # initializing lam1 and lam2\n",
    "    lam1 = np.random.uniform(0, 1, 1)\n",
    "    lam2 = np.random.uniform(0, 1, 1)\n",
    "\n",
    "    loss_current = 0\n",
    "    row = 0\n",
    "\n",
    "    times = []\n",
    "    num_iter = 0\n",
    "    num_iter_to_tol = 0\n",
    "    \n",
    "    # stop updating lambdas when loss 'barely' changes\n",
    "    while abs(loss_current - np.sum(loss(hw3_data['x'].values, hw3_data['y'].values, lam1, lam2))) > 0.0000001:\n",
    "        loss_current = np.sum(loss(hw3_data['x'].values, hw3_data['y'].values, lam1, lam2))\n",
    "        num_iter += 1\n",
    "        \n",
    "        time1 = time.time()\n",
    "\n",
    "        lam1 += lr * len(hw3_data) * derivative_loss_lam1(hw3_data['x'].values[row], hw3_data['y'].values[row], lam1, lam2) # update lam1\n",
    "        lam2 += lr * len(hw3_data) * derivative_loss_lam2(hw3_data['x'].values[row], hw3_data['y'].values[row], lam1, lam2) # update lam2\n",
    "\n",
    "        time2 = time.time()\n",
    "        times.append(time2 - time1)\n",
    "\n",
    "        if abs(lam1 - 2.05384) > 0.001 or abs(lam2 - 0) > 0.001: # condition indicating accuracy of estimates not within 1e-3\n",
    "            num_iter_to_tol = num_iter + 1\n",
    "\n",
    "        row += 1\n",
    "        if row == len(hw3_data): # condition indicating end of dataset; need to reset\n",
    "            row = 0\n",
    "            \n",
    "        if num_iter == max_iter: # condition indication we reached max number of iterations\n",
    "            num_iter_to_tol = 'Did not converge'\n",
    "            break\n",
    "\n",
    "    print('Learning rate: ' + str(lr))\n",
    "    print('Lambda 1: ' + str(lam1[0]))\n",
    "    print('Lambda 2: ' + str(lam2[0]))\n",
    "    print('Net loss: ' + str(np.sum(loss(hw3_data['x'].values, hw3_data['y'].values, lam1, lam2))))\n",
    "    print('Average number of seconds per iteration (stochastic gradient descent): ' + str(np.mean(times)))\n",
    "    print('Number of iterations to obtain estimates accurate to 1e-3 (stochastic gradient descent): ' + str(num_iter_to_tol))\n",
    "    print()"
   ]
  },
  {
   "cell_type": "markdown",
   "metadata": {},
   "source": [
    "With learning rates that are too high (1 and 0.1), convergence to the optimal point does not occur. When using a learning rate of 0.0001, the number of iterations it takes to obtain estimates accurate to 1e-3 is higher than when using a learning rate of 0.001."
   ]
  },
  {
   "cell_type": "markdown",
   "metadata": {},
   "source": [
    "## Problem 2. SGD for Multinomial Logistic Regression on MNIST\n",
    "\n",
    "The [*MNIST* dataset](https://en.wikipedia.org/wiki/MNIST_database) is one of the classic datasets in Machine Learning and is often one of the first datasets against which new classification algorithms test themselves.  It consists of 70,000 images of handwritten digits, each of which is 28x28 pixels. You will be using PyTorch to build a handwritten digit classifier that you will train and test with MNIST. \n",
    "\n",
    "** The MNIST dataset (including a train/test split which you must use) is part of PyTorch in the torchvision module.  The Lab will have details of how to load it. **\n",
    "\n",
    "Your classifier must implement a multinomial logistic regression model (using softmax). It will take as input an array of pixel values in an image and output the images most likely digit label (i.e. 0-9). You should think of the pixel values as features of the input vector.  \n",
    "\n",
    "1. Plot 10 sample images from the MNIST dataset (to develop intuition for the feature space).\n",
    "2. Construct a softmax formulation in PyTorch of multinomial logistic regression with Cross Entropy Loss.\n",
    "3. Train your model using SGD to minimize the cost function. *Use a batch size of 64, a learning rate $\\eta = 0.01$, and 10 epochs*.\n",
    "4. Plot the cross-entropy loss on the training set as a function of iteration.\n",
    "5. What are the training and test set accuracies?  \n",
    "6. Plot some (around 5) examples of misclassifications.\n",
    "\n",
    "\n"
   ]
  },
  {
   "cell_type": "code",
   "execution_count": 2,
   "metadata": {
    "collapsed": true
   },
   "outputs": [],
   "source": [
    "# help from: https://gist.github.com/xmfbit/b27cdbff68870418bdb8cefa86a2d558 for data loading\n",
    "# load in MNIST\n",
    "train = torchvision.datasets.MNIST(root = os.getcwd(), train=True, transform=torchvision.transforms.ToTensor(), download = True)\n",
    "test = torchvision.datasets.MNIST(root = os.getcwd(), train=False, transform=torchvision.transforms.ToTensor(), download = True)\n",
    "\n",
    "# create batches\n",
    "batch_size = 64\n",
    "train_loader = torch.utils.data.DataLoader(dataset = train, batch_size = batch_size, shuffle = True)\n",
    "test_loader = torch.utils.data.DataLoader(dataset = test, batch_size = batch_size, shuffle=False)"
   ]
  },
  {
   "cell_type": "markdown",
   "metadata": {},
   "source": [
    "Part 1"
   ]
  },
  {
   "cell_type": "code",
   "execution_count": 3,
   "metadata": {
    "scrolled": true
   },
   "outputs": [
    {
     "data": {
      "image/png": "[encoded data removed]",
      "text/plain": [
       "<matplotlib.figure.Figure at 0x1cac50d3f60>"
      ]
     },
     "metadata": {},
     "output_type": "display_data"
    },
    {
     "data": {
      "image/png": "[encoded data removed]",
      "text/plain": [
       "<matplotlib.figure.Figure at 0x1cacbb39b00>"
      ]
     },
     "metadata": {},
     "output_type": "display_data"
    },
    {
     "data": {
      "image/png": "[encoded data removed]",
      "text/plain": [
       "<matplotlib.figure.Figure at 0x1cacbb60470>"
      ]
     },
     "metadata": {},
     "output_type": "display_data"
    },
    {
     "data": {
      "image/png": "[encoded data removed]",
      "text/plain": [
       "<matplotlib.figure.Figure at 0x1cacbb772b0>"
      ]
     },
     "metadata": {},
     "output_type": "display_data"
    },
    {
     "data": {
      "image/png": "[encoded data removed]",
      "text/plain": [
       "<matplotlib.figure.Figure at 0x1cacbb63a90>"
      ]
     },
     "metadata": {},
     "output_type": "display_data"
    },
    {
     "data": {
      "image/png": "[encoded data removed]",
      "text/plain": [
       "<matplotlib.figure.Figure at 0x1cacbbaef98>"
      ]
     },
     "metadata": {},
     "output_type": "display_data"
    },
    {
     "data": {
      "image/png": "[encoded data removed]",
      "text/plain": [
       "<matplotlib.figure.Figure at 0x1cacbbd1860>"
      ]
     },
     "metadata": {},
     "output_type": "display_data"
    },
    {
     "data": {
      "image/png": "[encoded data removed]",
      "text/plain": [
       "<matplotlib.figure.Figure at 0x1cacbb9c470>"
      ]
     },
     "metadata": {},
     "output_type": "display_data"
    },
    {
     "data": {
      "image/png": "[encoded data removed]",
      "text/plain": [
       "<matplotlib.figure.Figure at 0x1cacbf6db00>"
      ]
     },
     "metadata": {},
     "output_type": "display_data"
    },
    {
     "data": {
      "image/png": "[encoded data removed]",
      "text/plain": [
       "<matplotlib.figure.Figure at 0x1cacbf2e9e8>"
      ]
     },
     "metadata": {},
     "output_type": "display_data"
    }
   ],
   "source": [
    "np.random.seed(10)\n",
    "img_samples = np.random.choice(np.arange(60000), 10) # randomly sample images\n",
    "\n",
    "# plot 10 random images\n",
    "for img in img_samples:\n",
    "    plt.imshow(train[img][0][0].numpy(), cmap = 'Greys')\n",
    "    plt.show()"
   ]
  },
  {
   "cell_type": "markdown",
   "metadata": {},
   "source": [
    "Parts 2 and 3"
   ]
  },
  {
   "cell_type": "code",
   "execution_count": 91,
   "metadata": {},
   "outputs": [],
   "source": [
    "multiclass_logit = torch.nn.Linear(in_features = 28*28, out_features = 10, bias = True) # linear layer\n",
    "loss_function = torch.nn.CrossEntropyLoss() # cross entropy loss function\n",
    "optimizer = torch.optim.SGD(multiclass_logit.parameters(), lr = 0.01) # SGD optimizer\n",
    "num_epochs = 10\n",
    "\n",
    "training_batch_losses = []\n",
    "for epoch in range(num_epochs):\n",
    "    \n",
    "    num_batches = 0\n",
    "    epoch_loss = 0\n",
    "    for batch in train_loader:\n",
    "        model_output = multiclass_logit(Variable(torch.squeeze(batch[0], 1).view(len(batch[0]), 28*28))) # model predictions\n",
    "        targets = Variable(batch[1]) # true digit values\n",
    "        \n",
    "        optimizer.zero_grad() # zero gradient\n",
    "        loss_batch = loss_function(model_output, targets) # compute loss\n",
    "        loss_batch.backward() # take the gradient wrt parameters\n",
    "        optimizer.step() # update parameters\n",
    "        \n",
    "        epoch_loss += loss_batch.data[0]\n",
    "        num_batches += 1\n",
    "        training_batch_losses.append(loss_batch.data[0])"
   ]
  },
  {
   "cell_type": "markdown",
   "metadata": {},
   "source": [
    "Part 4"
   ]
  },
  {
   "cell_type": "code",
   "execution_count": 99,
   "metadata": {},
   "outputs": [
    {
     "data": {
      "image/png": "[encoded data removed]",
      "text/plain": [
       "<matplotlib.figure.Figure at 0x1cad1079748>"
      ]
     },
     "metadata": {},
     "output_type": "display_data"
    }
   ],
   "source": [
    "plt.plot(np.arange(len(training_batch_losses)), training_batch_losses, 'bo', alpha = 0.03)\n",
    "plt.xlabel('Iteration')\n",
    "plt.ylabel('Batch Loss')\n",
    "plt.title('Batch Loss vs. Iteration')\n",
    "plt.show()"
   ]
  },
  {
   "cell_type": "markdown",
   "metadata": {},
   "source": [
    "Part 5"
   ]
  },
  {
   "cell_type": "code",
   "execution_count": 115,
   "metadata": {},
   "outputs": [
    {
     "name": "stdout",
     "output_type": "stream",
     "text": [
      "Train accuracy: 0.90345\n",
      "Test accuracy: 0.9085\n"
     ]
    }
   ],
   "source": [
    "softmax = torch.nn.Softmax() # softmax to compute output probabilities \n",
    "\n",
    "# compute train accuracy\n",
    "train_model_pred = []\n",
    "train_targets = []\n",
    "for batch in train_loader:\n",
    "    model_output = multiclass_logit(Variable(torch.squeeze(batch[0], 1).view(len(batch[0]), 28*28))) # output from linear layer\n",
    "    model_probs = softmax(model_output).data.numpy() # digit probabilities\n",
    "    train_model_pred += np.argmax(model_probs, axis = 1).tolist() # digit predictions\n",
    "    train_targets += batch[1].numpy().tolist() # true digit values\n",
    "      \n",
    "# compute test accuracy\n",
    "test_model_pred = []\n",
    "test_targets = []\n",
    "for batch in test_loader:\n",
    "    model_output = multiclass_logit(Variable(torch.squeeze(batch[0], 1).view(len(batch[0]), 28*28))) # output from linear layer\n",
    "    model_probs = softmax(model_output).data.numpy() # digit probabilities\n",
    "    test_model_pred += np.argmax(model_probs, axis = 1).tolist() # digit predictions\n",
    "    test_targets += batch[1].numpy().tolist() # true digit values\n",
    "    \n",
    "\n",
    "print('Train accuracy: ' + str(sklearn.metrics.accuracy_score(train_targets, train_model_pred)))    \n",
    "print('Test accuracy: ' + str(sklearn.metrics.accuracy_score(test_targets, test_model_pred)))"
   ]
  },
  {
   "cell_type": "code",
   "execution_count": 116,
   "metadata": {},
   "outputs": [
    {
     "data": {
      "image/png": "[encoded data removed]",
      "text/plain": [
       "<matplotlib.figure.Figure at 0x1cad3796240>"
      ]
     },
     "metadata": {},
     "output_type": "display_data"
    },
    {
     "name": "stdout",
     "output_type": "stream",
     "text": [
      "Predicted digit: 6\n",
      "Actual digit: 5\n",
      "\n",
      "\n"
     ]
    },
    {
     "data": {
      "image/png": "[encoded data removed]",
      "text/plain": [
       "<matplotlib.figure.Figure at 0x1cad2695cc0>"
      ]
     },
     "metadata": {},
     "output_type": "display_data"
    },
    {
     "name": "stdout",
     "output_type": "stream",
     "text": [
      "Predicted digit: 6\n",
      "Actual digit: 4\n",
      "\n",
      "\n"
     ]
    },
    {
     "data": {
      "image/png": "[encoded data removed]",
      "text/plain": [
       "<matplotlib.figure.Figure at 0x1cad264ed30>"
      ]
     },
     "metadata": {},
     "output_type": "display_data"
    },
    {
     "name": "stdout",
     "output_type": "stream",
     "text": [
      "Predicted digit: 3\n",
      "Actual digit: 1\n",
      "\n",
      "\n"
     ]
    },
    {
     "data": {
      "image/png": "[encoded data removed]",
      "text/plain": [
       "<matplotlib.figure.Figure at 0x1cad272d780>"
      ]
     },
     "metadata": {},
     "output_type": "display_data"
    },
    {
     "name": "stdout",
     "output_type": "stream",
     "text": [
      "Predicted digit: 2\n",
      "Actual digit: 3\n",
      "\n",
      "\n"
     ]
    },
    {
     "data": {
      "image/png": "[encoded data removed]",
      "text/plain": [
       "<matplotlib.figure.Figure at 0x1cad261d5f8>"
      ]
     },
     "metadata": {},
     "output_type": "display_data"
    },
    {
     "name": "stdout",
     "output_type": "stream",
     "text": [
      "Predicted digit: 7\n",
      "Actual digit: 2\n",
      "\n",
      "\n"
     ]
    },
    {
     "data": {
      "image/png": "[encoded data removed]",
      "text/plain": [
       "<matplotlib.figure.Figure at 0x1cad2635518>"
      ]
     },
     "metadata": {},
     "output_type": "display_data"
    },
    {
     "name": "stdout",
     "output_type": "stream",
     "text": [
      "Predicted digit: 9\n",
      "Actual digit: 7\n",
      "\n",
      "\n"
     ]
    },
    {
     "data": {
      "image/png": "[encoded data removed]",
      "text/plain": [
       "<matplotlib.figure.Figure at 0x1cad261df60>"
      ]
     },
     "metadata": {},
     "output_type": "display_data"
    },
    {
     "name": "stdout",
     "output_type": "stream",
     "text": [
      "Predicted digit: 4\n",
      "Actual digit: 9\n",
      "\n",
      "\n"
     ]
    }
   ],
   "source": [
    "num_incorrect = 0\n",
    "for batch in test_loader:\n",
    "    model_output = multiclass_logit(Variable(torch.squeeze(batch[0], 1).view(len(batch[0]), 28*28))) # output from linear layer\n",
    "    model_probs = softmax(model_output).data.numpy() # digit probabilities\n",
    "    test_model_pred = np.argmax(model_probs, axis = 1).tolist() # digit predictions\n",
    "    test_targets = batch[1].numpy().tolist() # true digit values\n",
    "     \n",
    "    for i in range(len(test_model_pred)):\n",
    "        if test_model_pred[i] != test_targets[i]: # if prediction incorrect then plot\n",
    "            plt.imshow(batch[0][i][0].numpy(), cmap = 'Greys')\n",
    "            plt.show()\n",
    "            print('Predicted digit: ' + str(test_model_pred[i]))\n",
    "            print('Actual digit: ' + str(test_targets[i]))\n",
    "            print()\n",
    "            print()\n",
    "            num_incorrect += 1\n",
    "            \n",
    "            if num_incorrect == 7: # find 7 misclassifications\n",
    "                break\n",
    "    \n",
    "    if num_incorrect == 7: # find 7 misclassifications\n",
    "        break"
   ]
  }
 ],
 "metadata": {
  "anaconda-cloud": {},
  "kernel_info": {
   "name": "python3"
  },
  "kernelspec": {
   "display_name": "Python 3.5.3",
   "language": "python",
   "name": "py35"
  },
  "language_info": {
   "codemirror_mode": {
    "name": "ipython",
    "version": 3
   },
   "file_extension": ".py",
   "mimetype": "text/x-python",
   "name": "python",
   "nbconvert_exporter": "python",
   "pygments_lexer": "ipython3",
   "version": "3.5.4"
  },
  "nteract": {
   "version": "0.7.0"
  }
 },
 "nbformat": 4,
 "nbformat_minor": 1
}
