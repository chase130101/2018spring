{
 "cells": [
  {
   "cell_type": "markdown",
   "metadata": {},
   "source": [
    "# APMTH 207: Advanced Scientific Computing: \n",
    "## Stochastic Methods for Data Analysis, Inference and Optimization\n",
    "## Homework #4\n",
    "**Harvard University**<br>\n",
    "**Spring 2017**<br>\n",
    "**Instructors: Rahul Dave**<br>\n",
    "**Due Date: ** Friday, Febrary 23rd, 2018 at 11:00am\n",
    "\n",
    "**Instructions:**\n",
    "\n",
    "- Upload your final answers as well as your iPython notebook containing all work to Canvas.\n",
    "\n",
    "- Structure your notebook and your work to maximize readability."
   ]
  },
  {
   "cell_type": "markdown",
   "metadata": {},
   "source": [
    "Name: Christopher Hase"
   ]
  },
  {
   "cell_type": "code",
   "execution_count": 28,
   "metadata": {},
   "outputs": [],
   "source": [
    "import numpy as np\n",
    "import pandas as pd\n",
    "from matplotlib import pyplot as plt\n",
    "import torch\n",
    "import torchvision\n",
    "from torch.autograd import Variable\n",
    "import sklearn.metrics\n",
    "import os"
   ]
  },
  {
   "cell_type": "markdown",
   "metadata": {},
   "source": [
    "## Problem 1: Optimization (contd)\n",
    "\n",
    "Suppose you are building a pricing model for laying down telecom cables over a geographical region. Your model takes as input a pair of  coordinates, $(x, y)$, and contains two parameters, $\\lambda_1, \\lambda_2$. Given a coordinate, $(x, y)$, and model parameters, the loss in revenue corresponding to the price model at location $(x, y)$ is described by\n",
    "$$\n",
    "L(x, y, \\lambda_1, \\lambda_2) = 0.000045\\lambda_2^2 y - 0.000098\\lambda_1^2 x  + 0.003926\\lambda_1 x\\exp\\left\\{\\left(y^2 - x^2\\right)\\left(\\lambda_1^2 + \\lambda_2^2\\right)\\right\\}\n",
    "$$\n",
    "Read the data contained in `HW3_data.csv`. This is a set of coordinates configured on the curve $y^2 - x^2 = -0.1$. Given the data, find parameters $\\lambda_1, \\lambda_2$ that minimize the net loss over the entire dataset.\n",
    "\n",
    "### Part A: Further problems with descent algorithms\n",
    "Using your implementation of gradient descent and stochastic gradient descent, document the behaviour of your two algorithms for the following starting points, and for a number of stepsizes of your choice:\n",
    "- $(\\lambda_1, \\lambda_2) = (-2.47865, 0)$\n",
    "- $(\\lambda_1, \\lambda_2) = (-3, 0)$\n",
    "- $(\\lambda_1, \\lambda_2) = (-5, 0)$\n",
    "- $(\\lambda_1, \\lambda_2) = (-10, 0)$\n",
    "Based on your analysis of the loss function $L$, explain what is happening to your descent algorithms."
   ]
  },
  {
   "cell_type": "code",
   "execution_count": 103,
   "metadata": {
    "collapsed": true
   },
   "outputs": [],
   "source": [
    "# function to compute loss\n",
    "def loss(x, y, lam1, lam2):\n",
    "    return 0.000045 * lam2**2 * y - 0.000098 * lam1**2 * x + 0.003926 * lam1 * x * np.exp((-0.1) * (lam1**2 + lam2**2))\n",
    "\n",
    "# function to compute derivative of loss with respect to lam1\n",
    "def derivative_loss_lam1(x, y, lam1, lam2):\n",
    "    return -0.000196 * lam1 * x + x * (0.003926 - 0.007852 * lam1**2 * (x**2 - y**2)) * np.exp((-0.1) * (lam1**2 + lam2**2))\n",
    "\n",
    "# function to compute derivative of loss with respect to lam2\n",
    "def derivative_loss_lam2(x, y, lam1, lam2):\n",
    "    return 0.00009 * lam2 * y - 0.007852 * lam1 * lam2 * x * (0.1) * np.exp((-0.1) * (lam1**2 + lam2**2))"
   ]
  },
  {
   "cell_type": "code",
   "execution_count": 104,
   "metadata": {
    "collapsed": true
   },
   "outputs": [],
   "source": [
    "# read in and manipulate data\n",
    "hw3_data = pd.read_csv('HW3_data.csv', header = None)\n",
    "hw3_data = hw3_data.transpose()\n",
    "hw3_data.columns = ['x', 'y']"
   ]
  },
  {
   "cell_type": "markdown",
   "metadata": {},
   "source": [
    "Gradient Descent"
   ]
  },
  {
   "cell_type": "code",
   "execution_count": 113,
   "metadata": {
    "scrolled": true
   },
   "outputs": [
    {
     "name": "stdout",
     "output_type": "stream",
     "text": [
      "Lambda 1 (start): -2.47865\n",
      "Lambda 1(end): -2.47865012747\n",
      "Lambda 2 (start): 0\n",
      "Lambda 2 (end): 0.0\n",
      "Learning rate: 0.01\n",
      "Net loss: 11.9545803086\n",
      "\n",
      "Lambda 1 (start): -2.47865\n",
      "Lambda 1(end): -2.47865001275\n",
      "Lambda 2 (start): 0\n",
      "Lambda 2 (end): 0.0\n",
      "Learning rate: 0.001\n",
      "Net loss: 11.9545803086\n",
      "\n",
      "Lambda 1 (start): -2.47865\n",
      "Lambda 1(end): -2.47865000127\n",
      "Lambda 2 (start): 0\n",
      "Lambda 2 (end): 0.0\n",
      "Learning rate: 0.0001\n",
      "Net loss: 11.9545803086\n",
      "\n",
      "Lambda 1 (start): -3\n",
      "Lambda 1(end): -5.36146740022\n",
      "Lambda 2 (start): 0\n",
      "Lambda 2 (end): 0.0\n",
      "Learning rate: 0.01\n",
      "Net loss: 8.16153144632\n",
      "\n",
      "Lambda 1 (start): -3\n",
      "Lambda 1(end): -5.35748731018\n",
      "Lambda 2 (start): 0\n",
      "Lambda 2 (end): 0.0\n",
      "Learning rate: 0.001\n",
      "Net loss: 8.16155742623\n",
      "\n",
      "Lambda 1 (start): -3\n",
      "Lambda 1(end): -5.34499093332\n",
      "Lambda 2 (start): 0\n",
      "Lambda 2 (end): 0.0\n",
      "Learning rate: 0.0001\n",
      "Net loss: 8.16181724474\n",
      "\n",
      "Lambda 1 (start): -5\n",
      "Lambda 1(end): -5.361462573\n",
      "Lambda 2 (start): 0\n",
      "Lambda 2 (end): 0.0\n",
      "Learning rate: 0.01\n",
      "Net loss: 8.16153146122\n",
      "\n",
      "Lambda 1 (start): -5\n",
      "Lambda 1(end): -5.35748776483\n",
      "Lambda 2 (start): 0\n",
      "Lambda 2 (end): 0.0\n",
      "Learning rate: 0.001\n",
      "Net loss: 8.1615574217\n",
      "\n",
      "Lambda 1 (start): -5\n",
      "Lambda 1(end): -5.34499112836\n",
      "Lambda 2 (start): 0\n",
      "Lambda 2 (end): 0.0\n",
      "Learning rate: 0.0001\n",
      "Net loss: 8.16181723858\n",
      "\n",
      "Lambda 1 (start): -10\n",
      "Lambda 1(end): -5.3650494718\n",
      "Lambda 2 (start): 0\n",
      "Lambda 2 (end): 0.0\n",
      "Learning rate: 0.01\n",
      "Net loss: 8.16153150291\n",
      "\n",
      "Lambda 1 (start): -10\n",
      "Lambda 1(end): -5.36901517619\n",
      "Lambda 2 (start): 0\n",
      "Lambda 2 (end): 0.0\n",
      "Learning rate: 0.001\n",
      "Net loss: 8.1615574567\n",
      "\n",
      "Lambda 1 (start): -10\n",
      "Lambda 1(end): -5.38153518796\n",
      "Lambda 2 (start): 0\n",
      "Lambda 2 (end): 0.0\n",
      "Learning rate: 0.0001\n",
      "Net loss: 8.16181782805\n",
      "\n"
     ]
    }
   ],
   "source": [
    "np.random.seed(1)\n",
    "\n",
    "# initializing lam1 and lam2\n",
    "lam1s = [-2.47865, -3, -5, -10]\n",
    "lam2 = 0\n",
    "\n",
    "lrs = [0.01, 0.001, 0.0001] # learning rate\n",
    "\n",
    "for i in range(len(lam1s)):\n",
    "    for lr in lrs:\n",
    "\n",
    "        loss_current = 0\n",
    "        \n",
    "        lam1_current = lam1s[i]\n",
    "        lam2_current = lam2\n",
    "        \n",
    "        # stop updating lambdas when loss 'barely' changes\n",
    "        while abs(loss_current - np.sum(loss(hw3_data['x'].values, hw3_data['y'].values, lam1_current, lam2_current))) > 0.0000001:\n",
    "            loss_current = np.sum(loss(hw3_data['x'].values, hw3_data['y'].values, lam1_current, lam2_current))\n",
    "            num_iter += 1\n",
    "\n",
    "            lam1_current -= lr * np.sum(derivative_loss_lam1(hw3_data['x'].values, hw3_data['y'].values, lam1_current, lam2_current)) # update lam1\n",
    "            lam2_current -= lr * np.sum(derivative_loss_lam2(hw3_data['x'].values, hw3_data['y'].values, lam1_current, lam2_current)) # update lam2\n",
    "        \n",
    "        print('Lambda 1 (start): ' + str(lam1s[i]))\n",
    "        print('Lambda 1(end): ' + str(lam1_current))\n",
    "        print('Lambda 2 (start): ' + str(lam2))\n",
    "        print('Lambda 2 (end): ' + str(lam2_current))\n",
    "        print('Learning rate: ' + str(lr))\n",
    "        print('Net loss: ' + str(np.sum(loss(hw3_data['x'].values, hw3_data['y'].values, lam1_current, lam2_current))))\n",
    "        print()"
   ]
  },
  {
   "cell_type": "markdown",
   "metadata": {},
   "source": [
    "Under none of the initial conditions for $\\lambda_1$ and $\\lambda_2$ is gradient descent converging to the optimal values."
   ]
  },
  {
   "cell_type": "markdown",
   "metadata": {},
   "source": [
    "Stochastic gradient descent"
   ]
  },
  {
   "cell_type": "code",
   "execution_count": 122,
   "metadata": {
    "scrolled": true
   },
   "outputs": [
    {
     "name": "stdout",
     "output_type": "stream",
     "text": [
      "Lambda 1 (start): -2.47865\n",
      "Lambda 1(end): -2.4786327669\n",
      "Lambda 2 (start): 0\n",
      "Lambda 2 (end): 0.0\n",
      "Learning rate: 0.01\n",
      "Net loss: 11.9545803083\n",
      "\n",
      "Lambda 1 (start): -2.47865\n",
      "Lambda 1(end): -2.47864827669\n",
      "Lambda 2 (start): 0\n",
      "Lambda 2 (end): 0.0\n",
      "Learning rate: 0.001\n",
      "Net loss: 11.9545803086\n",
      "\n",
      "Lambda 1 (start): -2.47865\n",
      "Lambda 1(end): -2.47864982767\n",
      "Lambda 2 (start): 0\n",
      "Lambda 2 (end): 0.0\n",
      "Learning rate: 0.0001\n",
      "Net loss: 11.9545803086\n",
      "\n",
      "Lambda 1 (start): -3\n",
      "Lambda 1(end): -2.25237788748e+153\n",
      "Lambda 2 (start): 0\n",
      "Lambda 2 (end): 0.0\n",
      "Learning rate: 0.01\n",
      "Net loss: nan\n",
      "\n",
      "Lambda 1 (start): -3\n",
      "Lambda 1(end): -2.47870502812\n",
      "Lambda 2 (start): 0\n",
      "Lambda 2 (end): 0.0\n",
      "Learning rate: 0.001\n",
      "Net loss: 11.9545803027\n",
      "\n",
      "Lambda 1 (start): -3\n",
      "Lambda 1(end): -2.47932339477\n",
      "Lambda 2 (start): 0\n",
      "Lambda 2 (end): 0.0\n",
      "Learning rate: 0.0001\n",
      "Net loss: 11.9545795291\n",
      "\n",
      "Lambda 1 (start): -5\n",
      "Lambda 1(end): -4.65885964931e+153\n",
      "Lambda 2 (start): 0\n",
      "Lambda 2 (end): 0.0\n",
      "Learning rate: 0.01\n",
      "Net loss: nan\n",
      "\n",
      "Lambda 1 (start): -5\n",
      "Lambda 1(end): -2.47871668137\n",
      "Lambda 2 (start): 0\n",
      "Lambda 2 (end): 0.0\n",
      "Learning rate: 0.001\n",
      "Net loss: 11.9545803002\n",
      "\n",
      "Lambda 1 (start): -5\n",
      "Lambda 1(end): -2.48039219998\n",
      "Lambda 2 (start): 0\n",
      "Lambda 2 (end): 0.0\n",
      "Learning rate: 0.0001\n",
      "Net loss: 11.9545751273\n",
      "\n",
      "Lambda 1 (start): -10\n",
      "Lambda 1(end): -5.40822597497e+153\n",
      "Lambda 2 (start): 0\n",
      "Lambda 2 (end): 0.0\n",
      "Learning rate: 0.01\n",
      "Net loss: nan\n",
      "\n",
      "Lambda 1 (start): -10\n",
      "Lambda 1(end): -2.39199754164e+153\n",
      "Lambda 2 (start): 0\n",
      "Lambda 2 (end): 0.0\n",
      "Learning rate: 0.001\n",
      "Net loss: nan\n",
      "\n",
      "Lambda 1 (start): -10\n",
      "Lambda 1(end): -5.3648000799\n",
      "Lambda 2 (start): 0\n",
      "Lambda 2 (end): 0.0\n",
      "Learning rate: 0.0001\n",
      "Net loss: 8.16153077996\n",
      "\n"
     ]
    }
   ],
   "source": [
    "np.random.seed(1)\n",
    "\n",
    "# initializing lam1 and lam2\n",
    "lam1s = [-2.47865, -3, -5, -10]\n",
    "lam2 = 0\n",
    "\n",
    "lrs = [0.01, 0.001, 0.0001] # learning rate\n",
    "\n",
    "for i in range(len(lam1s)):\n",
    "    for lr in lrs:\n",
    "        \n",
    "        loss_current = 0\n",
    "        row = 0\n",
    "\n",
    "        lam1_current = lam1s[i]\n",
    "        lam2_current = lam2\n",
    "\n",
    "        # stop updating lambdas when loss 'barely' changes\n",
    "        while abs(loss_current - np.sum(loss(hw3_data['x'].values, hw3_data['y'].values, lam1_current, lam2_current))) > 0.0000001:\n",
    "            loss_current = np.sum(loss(hw3_data['x'].values, hw3_data['y'].values, lam1_current, lam2_current))\n",
    "\n",
    "            lam1_current -= lr * len(hw3_data) * derivative_loss_lam1(hw3_data['x'].values[row], hw3_data['y'].values[row], lam1_current, lam2_current) # update lam1\n",
    "            lam2_current -= lr * len(hw3_data) * derivative_loss_lam2(hw3_data['x'].values[row], hw3_data['y'].values[row], lam1_current, lam2_current) # update lam2\n",
    "\n",
    "\n",
    "            row += 1\n",
    "            if row == len(hw3_data): # condition indicating end of dataset; need to reset\n",
    "                row = 0\n",
    "\n",
    "        print('Lambda 1 (start): ' + str(lam1s[i]))\n",
    "        print('Lambda 1(end): ' + str(lam1_current))\n",
    "        print('Lambda 2 (start): ' + str(lam2))\n",
    "        print('Lambda 2 (end): ' + str(lam2_current))\n",
    "        print('Learning rate: ' + str(lr))\n",
    "        print('Net loss: ' + str(np.sum(loss(hw3_data['x'].values, hw3_data['y'].values, lam1_current, lam2_current))))\n",
    "        print()"
   ]
  },
  {
   "cell_type": "markdown",
   "metadata": {},
   "source": [
    "Under none of the initial conditions for $\\lambda_1$ and $\\lambda_2$ is stochastic gradient descent converging to the optimal values."
   ]
  },
  {
   "cell_type": "markdown",
   "metadata": {},
   "source": [
    "Analysis of loss function and why descent algos behaving this way..."
   ]
  },
  {
   "cell_type": "markdown",
   "metadata": {},
   "source": [
    "## Problem 2: Logistic Regression and MNIST (contd)\n"
   ]
  },
  {
   "cell_type": "markdown",
   "metadata": {},
   "source": [
    "\n",
    "\n",
    "The MNIST dataset is one of the classic datasets in Machine Learning and is often one of the first datasets against which new classification algorithms test themselves. It consists of 70,000 images of handwritten digits, each of which is 28x28 pixels. \n",
    "\n",
    "Last time you used PyTorch to build a handwritten digit multi-class logistic regression classifier that you trained and tested with MNIST dataset.\n",
    "\n",
    "We'll introduce validation sets and regularization in this problem.\n",
    "\n",
    "Using the softmax formulation, write a PyTorch model that computes the cost function using an L2 regularization approach (see `optim.SGD` in PyTorch or write your own cost function) and minimizes the resulting cost function using mini-batch stochastic gradient descent.\n",
    "\n",
    "Construct and train your classifier using a batch size of 256 examples, a learning rate η=0.1, and a regularization factor λ=0.01.\n",
    "\n",
    "1. Using classification accuracy, evaluate how well your model is performing on the validation set at the end of each epoch. Plot this validation accuracy as the model trains. \n",
    "2. Duplicate this plot for some other values of the regularization parameter $\\lambda$. When should you stop the training for different values of λ? Give an approximate answer supported by using the plots.\n",
    "3. Select what you consider the best regularization parameter and predict the labels of the test set. Compare with the given labels. What classification accuracy do you obtain on the test set?"
   ]
  },
  {
   "cell_type": "code",
   "execution_count": 44,
   "metadata": {},
   "outputs": [],
   "source": [
    "# functions/classes taken from: https://gist.github.com/t-vi/9f6118ff84867e89f3348707c7a1271f\n",
    "# to help create validation set\n",
    "\n",
    "class PartialDataset(torch.utils.data.Dataset):\n",
    "    def __init__(self, parent_ds, offset, length):\n",
    "        self.parent_ds = parent_ds\n",
    "        self.offset = offset\n",
    "        self.length = length\n",
    "        assert len(parent_ds)>=offset+length, Exception(\"Parent Dataset not long enough\")\n",
    "        super(PartialDataset, self).__init__()\n",
    "    def __len__(self):\n",
    "        return self.length\n",
    "    def __getitem__(self, i):\n",
    "        return self.parent_ds[i+self.offset]\n",
    "\n",
    "def validation_split(dataset, val_share=0.1):\n",
    "    \"\"\"\n",
    "       Split a (training and vaidation combined) dataset into training and validation.\n",
    "       Note that to be statistically sound, the items in the dataset should be statistically\n",
    "       independent (e.g. not sorted by class, not several instances of the same dataset that\n",
    "       could end up in either set).\n",
    "    \n",
    "       inputs:\n",
    "          dataset:   (\"training\") dataset to split into training and validation\n",
    "          val_share: fraction of validation data (should be 0<val_share<1, default: 0.1)\n",
    "       returns: input dataset split into test_ds, val_ds\n",
    "       \n",
    "       \"\"\"\n",
    "    val_offset = int(len(dataset)*(1-val_share))\n",
    "    return PartialDataset(dataset, 0, val_offset), PartialDataset(dataset, val_offset, len(dataset)-val_offset)"
   ]
  },
  {
   "cell_type": "code",
   "execution_count": 90,
   "metadata": {},
   "outputs": [],
   "source": [
    "torch.manual_seed(1)\n",
    "\n",
    "# help from: https://gist.github.com/xmfbit/b27cdbff68870418bdb8cefa86a2d558 \n",
    "# for data loading\n",
    "\n",
    "# load in MNIST\n",
    "train_validation = torchvision.datasets.MNIST(root = os.getcwd(), train=True, transform=torchvision.transforms.ToTensor(), download = True)\n",
    "train, validation = validation_split(train_validation, 1/6) # get train/validation split\n",
    "test = torchvision.datasets.MNIST(root = os.getcwd(), train=False, transform=torchvision.transforms.ToTensor(), download = True)\n",
    "\n",
    "# create batches\n",
    "batch_size = 256\n",
    "train_loader = torch.utils.data.DataLoader(dataset = train, batch_size = batch_size, shuffle = True)\n",
    "validation_loader = torch.utils.data.DataLoader(dataset = validation, batch_size = batch_size, shuffle = False)\n",
    "test_loader = torch.utils.data.DataLoader(dataset = test, batch_size = batch_size, shuffle = False)"
   ]
  },
  {
   "cell_type": "markdown",
   "metadata": {},
   "source": [
    "Part 1"
   ]
  },
  {
   "cell_type": "code",
   "execution_count": 91,
   "metadata": {
    "collapsed": true
   },
   "outputs": [],
   "source": [
    "# function for computing accuracy\n",
    "def compute_accuracy(data_loader, model):\n",
    "    model_pred = []\n",
    "    targets = []\n",
    "    for batch in data_loader:\n",
    "        model_output = model(Variable(torch.squeeze(batch[0], 1).view(len(batch[0]), 28*28))) # output from linear layer\n",
    "        model_probs = softmax(model_output).data.numpy() # digit probabilities\n",
    "        model_pred += np.argmax(model_probs, axis = 1).tolist() # digit predictions\n",
    "        targets += batch[1].numpy().tolist() # true digit values\n",
    "        \n",
    "    return sklearn.metrics.accuracy_score(targets, model_pred)"
   ]
  },
  {
   "cell_type": "code",
   "execution_count": 92,
   "metadata": {},
   "outputs": [],
   "source": [
    "torch.manual_seed(1)\n",
    "\n",
    "multiclass_logit = torch.nn.Linear(in_features = 28*28, out_features = 10, bias = True) # linear layer\n",
    "softmax = torch.nn.Softmax() # softmax to compute output probabilities \n",
    "loss_function = torch.nn.CrossEntropyLoss() # cross entropy loss function\n",
    "optimizer = torch.optim.SGD(multiclass_logit.parameters(), lr = 0.1, weight_decay = 0.01) # SGD optimizer\n",
    "num_epochs = 25\n",
    "\n",
    "validation_acc_list = np.zeros(num_epochs)\n",
    "for epoch in range(num_epochs):\n",
    "\n",
    "    for batch in train_loader:\n",
    "        model_output = multiclass_logit(Variable(torch.squeeze(batch[0], 1).view(len(batch[0]), 28*28))) # model predictions\n",
    "        targets = Variable(batch[1]) # true digit values\n",
    "        \n",
    "        optimizer.zero_grad() # zero gradient\n",
    "        loss_batch = loss_function(model_output, targets) # compute loss\n",
    "        loss_batch.backward() # take the gradient wrt parameters\n",
    "        optimizer.step() # update parameters\n",
    "                \n",
    "    validation_acc_list[epoch] = compute_accuracy(validation_loader, multiclass_logit) # compute validation acc and store"
   ]
  },
  {
   "cell_type": "code",
   "execution_count": 93,
   "metadata": {},
   "outputs": [
    {
     "data": {
      "image/png": "[encoded data removed]",
      "text/plain": [
       "<matplotlib.figure.Figure at 0x2932f1687b8>"
      ]
     },
     "metadata": {},
     "output_type": "display_data"
    }
   ],
   "source": [
    "plt.plot(np.arange(num_epochs), validation_acc_list, 'bo')\n",
    "plt.xlabel('Epoch')\n",
    "plt.ylabel('Validation Accuracy')\n",
    "plt.title('Validation Accuracy vs. Epoch for Lambda = 0.01')\n",
    "plt.show()"
   ]
  },
  {
   "cell_type": "markdown",
   "metadata": {},
   "source": [
    "Part 2"
   ]
  },
  {
   "cell_type": "code",
   "execution_count": 70,
   "metadata": {},
   "outputs": [],
   "source": [
    "torch.manual_seed(1)\n",
    "\n",
    "lambdas = [0.1, 0.01, 0.001, 0.0001, 0] # values of lambda to try\n",
    "softmax = torch.nn.Softmax() # softmax to compute output probabilities \n",
    "loss_function = torch.nn.CrossEntropyLoss() # cross entropy loss function\n",
    "num_epochs = 40\n",
    "\n",
    "validation_acc_lists = []\n",
    "for lam in lambdas:\n",
    "\n",
    "    multiclass_logit = torch.nn.Linear(in_features = 28*28, out_features = 10, bias = True) # linear layer\n",
    "    optimizer = torch.optim.SGD(multiclass_logit.parameters(), lr = 0.1, weight_decay = lam) # SGD optimizer\n",
    "    \n",
    "    validation_acc_list = np.zeros(num_epochs)\n",
    "    for epoch in range(num_epochs):\n",
    "\n",
    "        for batch in train_loader:\n",
    "            model_output = multiclass_logit(Variable(torch.squeeze(batch[0], 1).view(len(batch[0]), 28*28))) # model predictions\n",
    "            targets = Variable(batch[1]) # true digit values\n",
    "\n",
    "            optimizer.zero_grad() # zero gradient\n",
    "            loss_batch = loss_function(model_output, targets) # compute loss\n",
    "            loss_batch.backward() # take the gradient wrt parameters\n",
    "            optimizer.step() # update parameters\n",
    "\n",
    "        validation_acc_list[epoch] = compute_accuracy(validation_loader, multiclass_logit) # compute validation acc and store\n",
    "        \n",
    "    validation_acc_lists.append(validation_acc_list) # add to lists of validation accuracies"
   ]
  },
  {
   "cell_type": "code",
   "execution_count": 72,
   "metadata": {},
   "outputs": [
    {
     "data": {
      "image/png": "[encoded data removed]",
      "text/plain": [
       "<matplotlib.figure.Figure at 0x2932cc526a0>"
      ]
     },
     "metadata": {},
     "output_type": "display_data"
    }
   ],
   "source": [
    "plt.figure(figsize=(10,10))\n",
    "for i in range(len(lambdas)):\n",
    "    plt.plot(np.arange(num_epochs), validation_acc_lists[i], 'o')\n",
    "\n",
    "plt.xlabel('Epoch')\n",
    "plt.ylabel('Validation Accuracy')\n",
    "plt.title('Validation Accuracy vs. Epoch for Different Values of Lambda')\n",
    "plt.legend(loc = 'center right', labels = ['Lambda = 0.1', 'Lambda = 0.01',\\\n",
    "                                   'Lambda = 0.001', 'Lambda = 0.0001',\\\n",
    "                                   'Lambda = 0'])\n",
    "plt.show()"
   ]
  },
  {
   "cell_type": "markdown",
   "metadata": {},
   "source": [
    "For $\\lambda=0.1$, it is sufficient to stop after about 1 epoch. For $\\lambda=0.01$, it is sufficient to stop after about 10 epochs. For $\\lambda=0.001$, it is sufficient to stop after about 35 epochs. For $\\lambda=0.0001$, it is sufficient to stop after about 35 epochs. For $\\lambda=0$, it is sufficient to stop after about 35 epochs."
   ]
  },
  {
   "cell_type": "markdown",
   "metadata": {},
   "source": [
    "Part 3"
   ]
  },
  {
   "cell_type": "markdown",
   "metadata": {},
   "source": [
    "$\\lambda=0$ appears to be the best regularization parameter, so that the hyperparameter I used when computing test accuracy."
   ]
  },
  {
   "cell_type": "code",
   "execution_count": 76,
   "metadata": {},
   "outputs": [
    {
     "name": "stdout",
     "output_type": "stream",
     "text": [
      "Test accuracy when lambda = 0: 0.9224\n"
     ]
    }
   ],
   "source": [
    "print('Test accuracy when lambda = 0: ' + str(compute_accuracy(test_loader)))"
   ]
  },
  {
   "cell_type": "markdown",
   "metadata": {},
   "source": [
    "## Problem 3: Multi-Layer Perceptron\n",
    "\n",
    "The multilayer perceptron can be understood as a logistic regression classifier in which the input is first transformed using a learnt non-linear transformation. The non-linear transformation is usually chosen to be either the logistic function or the $\\tanh$ function or the RELU function, and its purpose is to project the data into a space where it becomes linearly separable The output of this so-called hidden layer is then passed to the logistic regression graph that we have constructed in the first problem. \n",
    "\n",
    "![](http://deeplearning.net/tutorial/_images/mlp.png)\n",
    "\n",
    "We'll construct a model with **1 hidden layer**. That is, you will have an input layer with a nonlinearity, then a hidden layer with the nonlinearity, and finally a cross-entropy (or equivalently log-softmax with a log-loss)\n",
    "\n",
    "\n",
    "Using a similar architecture as in the first part and the same training, validation, and test sets, build a PyTorch model for the multilayer perceptron. Use the $\\tanh$ function as the non-linear activation function. \n",
    "\n",
    "1. Use $\\lambda = 0.001$ to compare with Problem 2. Experiment with the learning rate (try 0.1 and 0.01 for example), batch size (use 20, 50, 100 and 200) and the number of units in your hidden layer (use between 25 and 100 units). For what combination of these parameters do you obtain the highest validation accuracy after a reasonable number of epochs that lead to convergence ( start at 10 epochs and play around a bit for convergence)? How does your test accuracy compare to the logistic regression classifier?\n",
    "2. Try the same values of $\\lambda$ you used in Question 2. Does the test set accuracy improve?\n",
    "\n",
    "\n",
    "*Hint #1:* The initialization of the weights matrix for the hidden layer must assure that the units (neurons) of the perceptron operate in a regime where information gets propagated. For the $\\tanh$ function, you may find it advisable to initialize with the interval $[-\\sqrt{\\frac{6}{fan_{in}+fan_{out}}},\\sqrt{\\frac{6}{fan_{in}+fan_{out}}}]$, where $fan_{in}$ is the number of units in the $(i-1)$-th layer, and $fan_{out}$ is the number of units in the i-th layer.\n",
    "\n",
    "*Hint #2*\n",
    "Train/Validate/Test split can be done in numpy or in PyTorch. Lab will describe a way to do it keeping within the MNIST `DataLoader` workflow: the key is to pass a `SubsetRandomSampler` to `DataLoader`: see the docs."
   ]
  },
  {
   "cell_type": "markdown",
   "metadata": {},
   "source": [
    "Part 1"
   ]
  },
  {
   "cell_type": "code",
   "execution_count": 94,
   "metadata": {
    "collapsed": true
   },
   "outputs": [],
   "source": [
    "# hyperparameters to try\n",
    "lam = 0.001\n",
    "lrs = [0.1, 0.01]\n",
    "batch_size = [20, 50, 100, 200]\n",
    "hidden_units = [50, 75, 100]\n",
    "num_epochs = 35\n",
    "\n",
    "softmax = torch.nn.Softmax() # softmax to compute output probabilities \n",
    "loss_function = torch.nn.CrossEntropyLoss() # cross entropy loss function"
   ]
  },
  {
   "cell_type": "code",
   "execution_count": 95,
   "metadata": {},
   "outputs": [
    {
     "name": "stdout",
     "output_type": "stream",
     "text": [
      "Validation accuracy for lambda=0.001, learning rate=0.1, batch size=20, hidden units=50: 0.9188\n",
      "Validation accuracy for lambda=0.001, learning rate=0.1, batch size=20, hidden units=75: 0.921\n",
      "Validation accuracy for lambda=0.001, learning rate=0.1, batch size=20, hidden units=100: 0.9196\n",
      "Validation accuracy for lambda=0.001, learning rate=0.1, batch size=50, hidden units=50: 0.923\n",
      "Validation accuracy for lambda=0.001, learning rate=0.1, batch size=50, hidden units=75: 0.9239\n",
      "Validation accuracy for lambda=0.001, learning rate=0.1, batch size=50, hidden units=100: 0.9223\n",
      "Validation accuracy for lambda=0.001, learning rate=0.1, batch size=100, hidden units=50: 0.9229\n",
      "Validation accuracy for lambda=0.001, learning rate=0.1, batch size=100, hidden units=75: 0.9235\n",
      "Validation accuracy for lambda=0.001, learning rate=0.1, batch size=100, hidden units=100: 0.9239\n",
      "Validation accuracy for lambda=0.001, learning rate=0.1, batch size=200, hidden units=50: 0.9226\n",
      "Validation accuracy for lambda=0.001, learning rate=0.1, batch size=200, hidden units=75: 0.9222\n",
      "Validation accuracy for lambda=0.001, learning rate=0.1, batch size=200, hidden units=100: 0.9228\n",
      "Validation accuracy for lambda=0.001, learning rate=0.01, batch size=20, hidden units=50: 0.9233\n",
      "Validation accuracy for lambda=0.001, learning rate=0.01, batch size=20, hidden units=75: 0.9225\n",
      "Validation accuracy for lambda=0.001, learning rate=0.01, batch size=20, hidden units=100: 0.9225\n",
      "Validation accuracy for lambda=0.001, learning rate=0.01, batch size=50, hidden units=50: 0.9195\n",
      "Validation accuracy for lambda=0.001, learning rate=0.01, batch size=50, hidden units=75: 0.9184\n",
      "Validation accuracy for lambda=0.001, learning rate=0.01, batch size=50, hidden units=100: 0.9193\n",
      "Validation accuracy for lambda=0.001, learning rate=0.01, batch size=100, hidden units=50: 0.9167\n",
      "Validation accuracy for lambda=0.001, learning rate=0.01, batch size=100, hidden units=75: 0.9166\n",
      "Validation accuracy for lambda=0.001, learning rate=0.01, batch size=100, hidden units=100: 0.9169\n",
      "Validation accuracy for lambda=0.001, learning rate=0.01, batch size=200, hidden units=50: 0.9098\n",
      "Validation accuracy for lambda=0.001, learning rate=0.01, batch size=200, hidden units=75: 0.9098\n",
      "Validation accuracy for lambda=0.001, learning rate=0.01, batch size=200, hidden units=100: 0.9107\n"
     ]
    }
   ],
   "source": [
    "torch.manual_seed(1)\n",
    "\n",
    "for lr in lrs:\n",
    "    for size in batch_size:\n",
    "        for hidden in hidden_units:\n",
    "            \n",
    "            # create train batches\n",
    "            train_loader = torch.utils.data.DataLoader(dataset = train, batch_size = size, shuffle = True)\n",
    "                \n",
    "            # model architecture\n",
    "            multi_perceptron = torch.nn.Linear(in_features = 28*28, out_features = hidden, bias = True) # linear layer\n",
    "            multi_perceptron.add_module(name = 'tanh', module = torch.nn.Tanh()) # tanh function for hidden layer\n",
    "            multi_perceptron.add_module(name = '2nd linear', module = torch.nn.Linear(in_features = hidden, out_features = 10, bias = True)) # 2nd linear layer\n",
    "            optimizer = torch.optim.SGD(multi_perceptron.parameters(), lr = lr, weight_decay = lam) # SGD optimizer\n",
    "                \n",
    "            for epoch in range(num_epochs):   \n",
    "                for batch in train_loader:\n",
    "                    model_output = multi_perceptron(Variable(torch.squeeze(batch[0], 1).view(len(batch[0]), 28*28))) # model predictions\n",
    "                    targets = Variable(batch[1]) # true digit values\n",
    "\n",
    "                    optimizer.zero_grad() # zero gradient\n",
    "                    loss_batch = loss_function(model_output, targets) # compute loss\n",
    "                    loss_batch.backward() # take the gradient wrt parameters\n",
    "                    optimizer.step() # update parameters\n",
    "                    \n",
    "            print('Validation accuracy for lambda=' + str(lam) + ', learning rate=' + str(lr) + ', batch size='\\\n",
    "                  + str(size) + ', hidden units=' + str(hidden) + ': ' + str(compute_accuracy(validation_loader, multi_perceptron))) # compute validation acc"
   ]
  },
  {
   "cell_type": "markdown",
   "metadata": {},
   "source": [
    "I obtained the highest validation accuracy (0.9239) with $\\lambda=0.001$, learning rate of 0.1, batch size of 100, and 100 hidden units."
   ]
  },
  {
   "cell_type": "code",
   "execution_count": 96,
   "metadata": {},
   "outputs": [
    {
     "name": "stdout",
     "output_type": "stream",
     "text": [
      "Test accuracy for lambda=0.001, learning rate=0.1, batch size=100, hidden units=100: 0.9217\n"
     ]
    }
   ],
   "source": [
    "torch.manual_seed(1)\n",
    "\n",
    "# best hyperparams\n",
    "lam = 0.001\n",
    "lr = 0.1\n",
    "size = 100\n",
    "hidden = 100\n",
    "\n",
    "# create train batches\n",
    "train_loader = torch.utils.data.DataLoader(dataset = train, batch_size = size, shuffle = True)\n",
    "\n",
    "# model architecture\n",
    "multi_perceptron = torch.nn.Linear(in_features = 28*28, out_features = hidden, bias = True) # linear layer\n",
    "multi_perceptron.add_module(name = 'tanh', module = torch.nn.Tanh()) # tanh function for hidden layer\n",
    "multi_perceptron.add_module(name = '2nd linear', module = torch.nn.Linear(in_features = hidden, out_features = 10, bias = True)) # 2nd linear layer\n",
    "optimizer = torch.optim.SGD(multi_perceptron.parameters(), lr = lr, weight_decay = lam) # SGD optimizer\n",
    "                \n",
    "for epoch in range(num_epochs):   \n",
    "    for batch in train_loader:\n",
    "        model_output = multi_perceptron(Variable(torch.squeeze(batch[0], 1).view(len(batch[0]), 28*28))) # model predictions\n",
    "        targets = Variable(batch[1]) # true digit values\n",
    "\n",
    "        optimizer.zero_grad() # zero gradient\n",
    "        loss_batch = loss_function(model_output, targets) # compute loss\n",
    "        loss_batch.backward() # take the gradient wrt parameters\n",
    "        optimizer.step() # update parameters\n",
    "                    \n",
    "print('Test accuracy for lambda=' + str(lam) + ', learning rate=' + str(lr) + ', batch size='\\\n",
    "        + str(size) + ', hidden units=' + str(hidden) + ': ' + str(compute_accuracy(test_loader, multi_perceptron))) # compute validation acc"
   ]
  },
  {
   "cell_type": "markdown",
   "metadata": {},
   "source": [
    "The test accuracy we see here is slightly lower than the test set accuracy from problem 2 when using $\\lambda=0$. "
   ]
  },
  {
   "cell_type": "markdown",
   "metadata": {},
   "source": [
    "Part 2"
   ]
  },
  {
   "cell_type": "markdown",
   "metadata": {},
   "source": [
    "Using the best learning rate, number of hidden units, batch size combination from part 1 of problem 3, I computed the validation accuracies when using the values of $\\lambda$ from part 2 of problem 2. For the combination with the highest validation accuracy, I computed the test accuracy."
   ]
  },
  {
   "cell_type": "code",
   "execution_count": 99,
   "metadata": {},
   "outputs": [
    {
     "name": "stdout",
     "output_type": "stream",
     "text": [
      "Validation accuracy for lambda=0.1, learning rate=0.1, batch size=100, hidden units=100: 0.8715\n",
      "Validation accuracy for lambda=0.01, learning rate=0.1, batch size=100, hidden units=100: 0.9058\n",
      "Validation accuracy for lambda=0.001, learning rate=0.1, batch size=100, hidden units=100: 0.9235\n",
      "Validation accuracy for lambda=0.0001, learning rate=0.1, batch size=100, hidden units=100: 0.9274\n",
      "Validation accuracy for lambda=0, learning rate=0.1, batch size=100, hidden units=100: 0.9284\n"
     ]
    }
   ],
   "source": [
    "torch.manual_seed(1)\n",
    "\n",
    "# best hyperparams from part 1 of problem 3\n",
    "lr = 0.1\n",
    "size = 100\n",
    "hidden = 100\n",
    "\n",
    "softmax = torch.nn.Softmax() # softmax to compute output probabilities \n",
    "loss_function = torch.nn.CrossEntropyLoss() # cross entropy loss function\n",
    "train_loader = torch.utils.data.DataLoader(dataset = train, batch_size = size, shuffle = True) # create train batches\n",
    "\n",
    "num_epochs = 35\n",
    "lambdas = [0.1, 0.01, 0.001, 0.0001, 0] # values of lambda to try\n",
    "for lam in lambdas:\n",
    "    \n",
    "    # model architecture\n",
    "    multi_perceptron = torch.nn.Linear(in_features = 28*28, out_features = hidden, bias = True) # linear layer\n",
    "    multi_perceptron.add_module(name = 'tanh', module = torch.nn.Tanh()) # tanh function for hidden layer\n",
    "    multi_perceptron.add_module(name = '2nd linear', module = torch.nn.Linear(in_features = hidden, out_features = 10, bias = True)) # 2nd linear layer\n",
    "    optimizer = torch.optim.SGD(multi_perceptron.parameters(), lr = lr, weight_decay = lam) # SGD optimizer\n",
    "    \n",
    "    for epoch in range(num_epochs):\n",
    "\n",
    "        for batch in train_loader:\n",
    "            model_output = multi_perceptron(Variable(torch.squeeze(batch[0], 1).view(len(batch[0]), 28*28))) # model predictions\n",
    "            targets = Variable(batch[1]) # true digit values\n",
    "\n",
    "            optimizer.zero_grad() # zero gradient\n",
    "            loss_batch = loss_function(model_output, targets) # compute loss\n",
    "            loss_batch.backward() # take the gradient wrt parameters\n",
    "            optimizer.step() # update parameters\n",
    "\n",
    "    print('Validation accuracy for lambda=' + str(lam) + ', learning rate=' + str(lr) + ', batch size='\\\n",
    "          + str(size) + ', hidden units=' + str(hidden) + ': ' + str(compute_accuracy(validation_loader, multi_perceptron))) # compute validation acc"
   ]
  },
  {
   "cell_type": "markdown",
   "metadata": {},
   "source": [
    "I obtained the highest validation accuracy (0.9284) when $\\lambda=0$."
   ]
  },
  {
   "cell_type": "code",
   "execution_count": 100,
   "metadata": {},
   "outputs": [
    {
     "name": "stdout",
     "output_type": "stream",
     "text": [
      "Test accuracy for lambda=0, learning rate=0.1, batch size=100, hidden units=100: 0.9233\n"
     ]
    }
   ],
   "source": [
    "print('Test accuracy for lambda=' + str(lam) + ', learning rate=' + str(lr) + ', batch size='\\\n",
    "      + str(size) + ', hidden units=' + str(hidden) + ': ' + str(compute_accuracy(test_loader, multi_perceptron))) # compute validation acc"
   ]
  },
  {
   "cell_type": "markdown",
   "metadata": {},
   "source": [
    "The test set accuracy (0.9233) improved when I set $\\lambda=0$ and is slightly higher than the test accuracy obtained in problem 2 (0.9224)."
   ]
  }
 ],
 "metadata": {
  "anaconda-cloud": {},
  "kernelspec": {
   "display_name": "Python 3.5.3",
   "language": "python",
   "name": "py35"
  },
  "language_info": {
   "codemirror_mode": {
    "name": "ipython",
    "version": 3
   },
   "file_extension": ".py",
   "mimetype": "text/x-python",
   "name": "python",
   "nbconvert_exporter": "python",
   "pygments_lexer": "ipython3",
   "version": "3.5.4"
  },
  "nteract": {
   "version": "0.7.1"
  }
 },
 "nbformat": 4,
 "nbformat_minor": 1
}
