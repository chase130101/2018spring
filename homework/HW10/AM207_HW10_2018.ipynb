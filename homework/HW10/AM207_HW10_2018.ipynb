{
 "cells": [
  {
   "cell_type": "markdown",
   "metadata": {},
   "source": [
    "# APMTH 207: Advanced Scientific Computing: \n",
    "## Stochastic Methods for Data Analysis, Inference and Optimization\n",
    "## Homework 10\n",
    "**Harvard University**<br>\n",
    "**Spring 2018**<br>\n",
    "**Instructors: Rahul Dave**<br>\n",
    "**Due Date: ** Friday, April 13th, 2018 at 10:59am\n",
    "\n",
    "**Instructions:**\n",
    "\n",
    "- Upload your final answers as an iPython notebook containing all work to Canvas.\n",
    "\n",
    "- Structure your notebook and your work to maximize readability."
   ]
  },
  {
   "cell_type": "markdown",
   "metadata": {},
   "source": [
    "### Name: Christopher Hase"
   ]
  },
  {
   "cell_type": "code",
   "execution_count": 502,
   "metadata": {
    "collapsed": true
   },
   "outputs": [],
   "source": [
    "import numpy as np\n",
    "import pymc3 as pm\n",
    "from pymc3 import summary, sample_ppc\n",
    "import sklearn.model_selection\n",
    "import pandas as pd\n",
    "import scipy\n",
    "from matplotlib import pyplot as plt"
   ]
  },
  {
   "cell_type": "markdown",
   "metadata": {},
   "source": [
    "## Problem #1: Iris Eyes Are Smiling\n",
    "\n",
    "This Homework problem is a continuation of Problem #4 from Homework 8.  We'll be using the same iris dataset. The iris data can be obtained [here](./iris.csv).\n",
    "\n",
    "Now that we have from Homework 8 Problem #4 a train-test split as well as point estimate(s) and a posterior distribution on the probability of a data point being virginica, we can use these to make predictions on both the training set and test set.\n",
    "\n",
    "** *Note this next section is just guidance and doesn't contain any work for you to do* **\n",
    "\n",
    "*There are two ways to make these predictions, given an estimate of $p(y=1\\ \\vert\\ x)$:* \n",
    "\n",
    "(A) You can sample from the Bernoulli likelihood at the data point $x$ to decide if that particular data points classification $y(x)$ should be a 1 or a 0.\n",
    "\n",
    "(B) Or you could do the intuitive \"machine-learning-decision-theoretic\" (MLDT) thing, where you assign a data  point $x$ a classification 1 if $p(y=1 \\vert x) > 0.5$.\n",
    "\n",
    "*There are multiple ways in which you can do these probability estimates at a sample $x$:*\n",
    "\n",
    "(A) You can just use a point estimate like the MAP value, ($p_{MAP}$), or the posterior mean ($p_{MEAN}$)\n",
    "\n",
    "(B) You can see what fraction of your posterior samples have values above 0.5 (ie you are calculating 1-cdf(0.5)) on the posterior ($p_{CDF}$))\n",
    "\n",
    "Both these above methods miss the combined smearing of the posterior and sampling distributions. In other words they dont sample from the posterior predictive. If we draw a large number of samples from the posterior predictive distribution at a data point $x$, the fraction of 1s will give an estimate for the probability to use, $p_{PP}$, which is different from the MAP estimate, or the CDF estimate.\n",
    "\n",
    "** *Note this next section contains the tasks we expect you to complete* **\n",
    "\n",
    "\n",
    "1. Plot the distribution of $p_{MEAN}$, $p_{CDF}$, and $p_{PP}$ over all the data points in the training set. How are these different?\n",
    "2. Plot the posterior-predictive distribution of the misclassification rate with respect to the true class identities $y(x)$ of the data points $x$ (in other words you are plotting a histogram with the misclassification rate for the $n_{trace}$ posterior-predictive samples) on the training set.\n",
    "3. Make the same plot from the posterior, rather than the posterior predictive, by using the MLDT defined above. Overlay this plot on the previous one. That is, for every posterior sample, consider whether the data point ought to be classified as a 1 or 0 from the $p>0.5 \\implies y=1$ decision theoretic prespective. Compare with your previous diagram. Which case (from posterior-predictive or from-posterior) has a wider mis-classification distribution? \n",
    "4. Is the classification at the true training data points (you can think of this as a bitstring '100101...' 90 characters long) represented in the posterior predictive trace? If so, how many times? Is it the most frequent string in the traces? Explain your conclusions.\n",
    "5. Repeat 2 and 3 for the test set, i.e. make predictions. Describe and interpret the widths of the distributions?\n"
   ]
  },
  {
   "cell_type": "code",
   "execution_count": 3,
   "metadata": {},
   "outputs": [
    {
     "data": {
      "text/html": [
       "<div>\n",
       "<style>\n",
       "    .dataframe thead tr:only-child th {\n",
       "        text-align: right;\n",
       "    }\n",
       "\n",
       "    .dataframe thead th {\n",
       "        text-align: left;\n",
       "    }\n",
       "\n",
       "    .dataframe tbody tr th {\n",
       "        vertical-align: top;\n",
       "    }\n",
       "</style>\n",
       "<table border=\"1\" class=\"dataframe\">\n",
       "  <thead>\n",
       "    <tr style=\"text-align: right;\">\n",
       "      <th></th>\n",
       "      <th>sepal_length</th>\n",
       "      <th>sepal_width</th>\n",
       "      <th>petal_length</th>\n",
       "      <th>petal_width</th>\n",
       "      <th>virginica</th>\n",
       "    </tr>\n",
       "  </thead>\n",
       "  <tbody>\n",
       "    <tr>\n",
       "      <th>0</th>\n",
       "      <td>5.1</td>\n",
       "      <td>3.5</td>\n",
       "      <td>1.4</td>\n",
       "      <td>0.2</td>\n",
       "      <td>0</td>\n",
       "    </tr>\n",
       "    <tr>\n",
       "      <th>1</th>\n",
       "      <td>4.9</td>\n",
       "      <td>3.0</td>\n",
       "      <td>1.4</td>\n",
       "      <td>0.2</td>\n",
       "      <td>0</td>\n",
       "    </tr>\n",
       "    <tr>\n",
       "      <th>2</th>\n",
       "      <td>4.7</td>\n",
       "      <td>3.2</td>\n",
       "      <td>1.3</td>\n",
       "      <td>0.2</td>\n",
       "      <td>0</td>\n",
       "    </tr>\n",
       "    <tr>\n",
       "      <th>3</th>\n",
       "      <td>4.6</td>\n",
       "      <td>3.1</td>\n",
       "      <td>1.5</td>\n",
       "      <td>0.2</td>\n",
       "      <td>0</td>\n",
       "    </tr>\n",
       "    <tr>\n",
       "      <th>4</th>\n",
       "      <td>5.0</td>\n",
       "      <td>3.6</td>\n",
       "      <td>1.4</td>\n",
       "      <td>0.2</td>\n",
       "      <td>0</td>\n",
       "    </tr>\n",
       "  </tbody>\n",
       "</table>\n",
       "</div>"
      ],
      "text/plain": [
       "   sepal_length  sepal_width  petal_length  petal_width  virginica\n",
       "0           5.1          3.5           1.4          0.2          0\n",
       "1           4.9          3.0           1.4          0.2          0\n",
       "2           4.7          3.2           1.3          0.2          0\n",
       "3           4.6          3.1           1.5          0.2          0\n",
       "4           5.0          3.6           1.4          0.2          0"
      ]
     },
     "execution_count": 3,
     "metadata": {},
     "output_type": "execute_result"
    }
   ],
   "source": [
    "# read in data, format, and view\n",
    "iris = pd.read_csv('iris.csv')\n",
    "iris = pd.get_dummies(iris).iloc[:, [0,1,2,3,6]]\n",
    "iris.columns = ['sepal_length', 'sepal_width', 'petal_length', 'petal_width', 'virginica']\n",
    "iris.head()"
   ]
  },
  {
   "cell_type": "code",
   "execution_count": 4,
   "metadata": {
    "collapsed": true
   },
   "outputs": [],
   "source": [
    "# get train, test split\n",
    "train, test = sklearn.model_selection.train_test_split(iris, test_size = 0.4, train_size=0.6, \n",
    "                                                       random_state=1, \n",
    "                                                       stratify=iris['virginica'])"
   ]
  },
  {
   "cell_type": "code",
   "execution_count": 5,
   "metadata": {},
   "outputs": [
    {
     "name": "stderr",
     "output_type": "stream",
     "text": [
      "Sequential sampling (1 chains in 1 job)\n",
      "NUTS: [petal_width, petal_length, sepal_width, sepal_length, Intercept]\n",
      "100%|██████████| 20500/20500 [08:04<00:00, 42.31it/s]\n",
      "There were 5 divergences after tuning. Increase `target_accept` or reparameterize.\n"
     ]
    }
   ],
   "source": [
    "# bayesian logit\n",
    "with pm.Model() as bayes_logit:\n",
    "    \n",
    "    priors = {'Intercept': pm.Normal.dist(mu=0, sd=10),\n",
    "              'sepal_length': pm.Normal.dist(mu=0, sd = 10),\n",
    "              'sepal_width': pm.Normal.dist(mu=0, sd = 10),\n",
    "              'petal_length': pm.Normal.dist(mu=0, sd = 10),\n",
    "              'petal_width': pm.Normal.dist(mu=0, sd = 10)}\n",
    "    \n",
    "    pm.glm.GLM.from_formula('virginica ~ sepal_length + sepal_width + petal_length + petal_width', \n",
    "                            train, family = pm.glm.families.Binomial(), priors = priors)\n",
    "    \n",
    "    step = pm.step_methods.hmc.nuts.NUTS()\n",
    "    \n",
    "    bayes_logit_trace = pm.sampling.sample(draws = 20000, step = step, init = 'advi',\n",
    "                                           compute_convergence_checks = False, chains = 1, tuning = 10000,\n",
    "                                           target_accept=0.95)"
   ]
  },
  {
   "cell_type": "code",
   "execution_count": 9,
   "metadata": {},
   "outputs": [
    {
     "name": "stderr",
     "output_type": "stream",
     "text": [
      "100%|██████████| 20000/20000 [00:15<00:00, 1320.19it/s]\n"
     ]
    }
   ],
   "source": [
    "# posterior predictive for training points\n",
    "with bayes_logit:\n",
    "    pp_samples = pm.sample_ppc(bayes_logit_trace, samples = 20000)"
   ]
  },
  {
   "cell_type": "markdown",
   "metadata": {},
   "source": [
    "### Part 1"
   ]
  },
  {
   "cell_type": "code",
   "execution_count": 211,
   "metadata": {},
   "outputs": [
    {
     "data": {
      "image/png": "[encoded data removed]",
      "text/plain": [
       "<matplotlib.figure.Figure at 0x7f0f8fc66908>"
      ]
     },
     "metadata": {},
     "output_type": "display_data"
    },
    {
     "data": {
      "image/png": "[encoded data removed]",
      "text/plain": [
       "<matplotlib.figure.Figure at 0x7f0f8fc66588>"
      ]
     },
     "metadata": {},
     "output_type": "display_data"
    },
    {
     "data": {
      "image/png": "[encoded data removed]",
      "text/plain": [
       "<matplotlib.figure.Figure at 0x7f0f94381eb8>"
      ]
     },
     "metadata": {},
     "output_type": "display_data"
    }
   ],
   "source": [
    "# compute pmean, pcdf, and Ppp values and create histograms\n",
    "pmean_train = scipy.special.expit(np.dot(np.concatenate([np.ones((len(train), 1)),train.iloc[:, :-1].values], axis=1),\\\n",
    "              summary(bayes_logit_trace)['mean'].values))\n",
    "\n",
    "var_names = ['Intercept', 'sepal_length', 'sepal_width', 'petal_length', 'petal_width']\n",
    "beta_arrays = []\n",
    "for var in var_names:\n",
    "    beta_arrays.append(bayes_logit_trace[var].reshape(len(bayes_logit_trace[var]), -1))\n",
    "beta_matrix = np.concatenate(beta_arrays, axis=1)\n",
    "pcdf_invlogit_train = scipy.special.expit(np.dot(beta_matrix,\\\n",
    "                    np.concatenate([np.ones((len(train), 1)),train.iloc[:, :-1].values], axis=1).T))\n",
    "pcdf_train = np.mean(pcdf_invlogit_train > 0.5, axis = 0)\n",
    "\n",
    "Ppp_train = np.mean(pp_samples['y'], axis=0)\n",
    "\n",
    "plt.hist(pmean_train, color ='blue', density=False)\n",
    "plt.title('Histogram of P_means for Training Data')\n",
    "plt.xlabel('P_mean')\n",
    "plt.ylabel('Frequency')\n",
    "plt.show()\n",
    "\n",
    "plt.hist(pcdf_train, color ='blue', density=False)\n",
    "plt.title('Histogram of P_CDFs for Training Data')\n",
    "plt.xlabel('P_CDF')\n",
    "plt.ylabel('Frequency')\n",
    "plt.show()\n",
    "\n",
    "plt.hist(Ppp_train, color ='blue', density=False)\n",
    "plt.title('Histogram of P_pp for Training Data')\n",
    "plt.xlabel('P_pp')\n",
    "plt.ylabel('Frequency')\n",
    "plt.show()"
   ]
  },
  {
   "cell_type": "markdown",
   "metadata": {},
   "source": [
    "The plots of the distributions of $p_{MEAN}$, $p_{CDF}$, and $p_{PP}$ over all the data points in the training set are quite similar."
   ]
  },
  {
   "cell_type": "markdown",
   "metadata": {},
   "source": [
    "### Parts 2 and 3"
   ]
  },
  {
   "cell_type": "code",
   "execution_count": 491,
   "metadata": {},
   "outputs": [
    {
     "data": {
      "image/png": "[encoded data removed]",
      "text/plain": [
       "<matplotlib.figure.Figure at 0x7f0f9b7d0c50>"
      ]
     },
     "metadata": {},
     "output_type": "display_data"
    }
   ],
   "source": [
    "# plotting misclassification rates for posterior predicitive and MLDT (train)\n",
    "plt.hist(np.mean((train['virginica'].values - pp_samples['y'])**2, axis=1), color='blue', bins = 15)\n",
    "plt.hist(np.mean((train['virginica'].values - pcdf_invlogit_train)**2, axis=1), color='pink', bins = 4, alpha=0.7)\n",
    "plt.title('Histograms of Misclassification Rates\\nfor Training Points')\n",
    "plt.xlabel('Misclassification Rate')\n",
    "plt.ylabel('Frequency')\n",
    "plt.legend(loc = 'upper right', labels = ['Posterior Predictive', 'MLDT'])\n",
    "plt.show()"
   ]
  },
  {
   "cell_type": "markdown",
   "metadata": {},
   "source": [
    "The misclassification distribution from the posterior predictive is wider."
   ]
  },
  {
   "cell_type": "markdown",
   "metadata": {},
   "source": [
    "### Part 4"
   ]
  },
  {
   "cell_type": "code",
   "execution_count": 467,
   "metadata": {},
   "outputs": [
    {
     "name": "stdout",
     "output_type": "stream",
     "text": [
      "Number of perfect bitstrings in posterior predictive trace: 54\n",
      "Proportion of perfect bitstrings in posterior predictive trace: 0.0027\n",
      "Number of times most frequent bitstring occurs: 1093\n"
     ]
    }
   ],
   "source": [
    "# counting number and proportion of perfect bitstrings in terms of train classifications\n",
    "print('Number of perfect bitstrings in posterior predictive trace: ' + str(np.sum(np.mean((train['virginica'].values - pp_samples['y'])**2, axis=1) == 0)))\n",
    "print('Proportion of perfect bitstrings in posterior predictive trace: ' + str(np.sum(np.mean((train['virginica'].values - pp_samples['y'])**2, axis=1) == 0)/20000))\n",
    "rows_str_list = []\n",
    "for row in pp_samples['y']:\n",
    "    rows_str_list.append(str(row))\n",
    "print('Number of times most frequent bitstring occurs: ' + str(np.max(np.unique(rows_str_list, return_counts=True)[1])))"
   ]
  },
  {
   "cell_type": "markdown",
   "metadata": {},
   "source": [
    "The training points are all predicted correctly 0.27% of the time. There are other training point prediction configurations that occur more frequently than the one that is perfectly accurate. The probability that a particular sample of predictions for the training points from the posterior predictive will have perfect accuracy is low even if the model is well specified."
   ]
  },
  {
   "cell_type": "markdown",
   "metadata": {},
   "source": [
    "### Part 5"
   ]
  },
  {
   "cell_type": "code",
   "execution_count": 484,
   "metadata": {},
   "outputs": [
    {
     "data": {
      "image/png": "[encoded data removed]",
      "text/plain": [
       "<matplotlib.figure.Figure at 0x7f0f99846470>"
      ]
     },
     "metadata": {},
     "output_type": "display_data"
    }
   ],
   "source": [
    "# plotting misclassification rates for posterior predicitive and MLDT (test)\n",
    "var_names = ['Intercept', 'sepal_length', 'sepal_width', 'petal_length', 'petal_width']\n",
    "beta_arrays = []\n",
    "for var in var_names:\n",
    "    beta_arrays.append(bayes_logit_trace[var].reshape(len(bayes_logit_trace[var]), -1))\n",
    "beta_matrix = np.concatenate(beta_arrays, axis=1)\n",
    "pcdf_invlogit_test = scipy.special.expit(np.dot(beta_matrix,\\\n",
    "                    np.concatenate([np.ones((len(test), 1)),test.iloc[:, :-1].values], axis=1).T))\n",
    "pcdf_test = np.mean(pcdf_invlogit_test > 0.5, axis = 0)\n",
    "\n",
    "plt.hist(np.mean((test['virginica'].values - np.random.binomial(1, pcdf_invlogit_test, size = pcdf_invlogit_test.shape))**2, axis=1), color='blue', bins=11)\n",
    "plt.hist(np.mean((test['virginica'].values - pcdf_invlogit_test)**2, axis=1), color='pink', alpha=0.7, bins = 6)\n",
    "plt.title('Histograms of Misclassification Rates\\nfor Test Points')\n",
    "plt.xlabel('Misclassification Rate')\n",
    "plt.ylabel('Frequency')\n",
    "plt.legend(loc = 'upper right', labels = ['Posterior Predictive', 'MLDT'])\n",
    "plt.show()"
   ]
  },
  {
   "cell_type": "markdown",
   "metadata": {},
   "source": [
    "The misclassification distribution from the posterior predictive is wider once again. This is because the variance of the samples being drawn from the posterior predictive will be greater than the variance of the indicators of probabililties computed by drawing betas from the posterior and applying them to the test points being greater than 0.5."
   ]
  },
  {
   "cell_type": "markdown",
   "metadata": {},
   "source": [
    "## Problem 2: From the Ritz to the Rubble\n",
    "\n",
    "In this problem, much like in Long Homework 9, you will explore how to recast data, tasks and research questions from a variety of different contexts so that an existing model can be applied for analysis.\n",
    "\n",
    "Example 10.1.3 in \"Statistical Rethinking\", the excerpt of which is included in the data directory for this assignment, illustrates a study of the effect of an applicant's gender on graduate school admissions to six U.C. Berkeley departments through a comparison of four models. \n",
    "\n",
    "In this problem, you are given the data for the 1994 U.S. Census. The data has been processed so that only a subset of the features are present (for full dataset as well as the description see the [UCI Machine Learning Repository](http://archive.ics.uci.edu/ml/datasets/Census+Income)). You will be investigate the effect of gender on a person's yearly income in the dataset. In particular, we want to know how a person's gender effect the likelihood of their yearly salary being above or below \\$50k. \n",
    "\n",
    "First we want to aggregate the dataset by seven different categories. The categories we wish to consider are: \n",
    "- 4 year college degree\n",
    "- Some-college or two year academic college degree\n",
    "- High school\n",
    "- Professional, vocational school\n",
    "- Masters \n",
    "- Doctorate\n",
    "- Some or no high school\n",
    "Note that you might have to combine some of the existing education categories in your dataframe. For each category, we suggest that you only keep track of a count of the number of males and females who make above (and resp. below) $50k (see the dataset in Example 10.1.3). \n",
    "\n",
    "Following Example 10.1.3, build two models for the classification of an individual's yearly income (1 being above \\$50k and 0 being below), one of these models should include the effect of gender while the other should not. \n",
    "\n",
    "Replicate the analysis in 10.1.3 using your models; specifically, compute= wAIC scores and make a plot like Figure 10.5 (posterior check) to see how well your models fits the data. Using your analysis, discuss the effect of gender on income.\n",
    "\n",
    "Following Example 10.1.3, build two models for the classification of an individual's yearly income taking into account education. \n",
    "\n",
    "Replicate the analysis in 10.1.3 using your models; specifically, compute WAIC scores and make a plot like Figure 10.6 (posterior check) to see how well your model fits the data. Using your analysis, discuss the effect of gender on income, taking into account an individual's education."
   ]
  },
  {
   "cell_type": "code",
   "execution_count": 359,
   "metadata": {},
   "outputs": [
    {
     "data": {
      "text/html": [
       "<div>\n",
       "<style>\n",
       "    .dataframe thead tr:only-child th {\n",
       "        text-align: right;\n",
       "    }\n",
       "\n",
       "    .dataframe thead th {\n",
       "        text-align: left;\n",
       "    }\n",
       "\n",
       "    .dataframe tbody tr th {\n",
       "        vertical-align: top;\n",
       "    }\n",
       "</style>\n",
       "<table border=\"1\" class=\"dataframe\">\n",
       "  <thead>\n",
       "    <tr style=\"text-align: right;\">\n",
       "      <th></th>\n",
       "      <th>less_hs</th>\n",
       "      <th>someColl_assocAcad</th>\n",
       "      <th>prof_voc</th>\n",
       "      <th>edu_Bachelors</th>\n",
       "      <th>edu_Doctorate</th>\n",
       "      <th>edu_HS</th>\n",
       "      <th>edu_Masters</th>\n",
       "      <th>sex_Female</th>\n",
       "      <th>earn50K</th>\n",
       "    </tr>\n",
       "  </thead>\n",
       "  <tbody>\n",
       "    <tr>\n",
       "      <th>0</th>\n",
       "      <td>0</td>\n",
       "      <td>0</td>\n",
       "      <td>0</td>\n",
       "      <td>1</td>\n",
       "      <td>0</td>\n",
       "      <td>0</td>\n",
       "      <td>0</td>\n",
       "      <td>0</td>\n",
       "      <td>0</td>\n",
       "    </tr>\n",
       "    <tr>\n",
       "      <th>1</th>\n",
       "      <td>0</td>\n",
       "      <td>0</td>\n",
       "      <td>0</td>\n",
       "      <td>1</td>\n",
       "      <td>0</td>\n",
       "      <td>0</td>\n",
       "      <td>0</td>\n",
       "      <td>0</td>\n",
       "      <td>0</td>\n",
       "    </tr>\n",
       "    <tr>\n",
       "      <th>2</th>\n",
       "      <td>0</td>\n",
       "      <td>0</td>\n",
       "      <td>0</td>\n",
       "      <td>0</td>\n",
       "      <td>0</td>\n",
       "      <td>1</td>\n",
       "      <td>0</td>\n",
       "      <td>0</td>\n",
       "      <td>0</td>\n",
       "    </tr>\n",
       "    <tr>\n",
       "      <th>3</th>\n",
       "      <td>1</td>\n",
       "      <td>0</td>\n",
       "      <td>0</td>\n",
       "      <td>0</td>\n",
       "      <td>0</td>\n",
       "      <td>0</td>\n",
       "      <td>0</td>\n",
       "      <td>0</td>\n",
       "      <td>0</td>\n",
       "    </tr>\n",
       "    <tr>\n",
       "      <th>4</th>\n",
       "      <td>0</td>\n",
       "      <td>0</td>\n",
       "      <td>0</td>\n",
       "      <td>1</td>\n",
       "      <td>0</td>\n",
       "      <td>0</td>\n",
       "      <td>0</td>\n",
       "      <td>1</td>\n",
       "      <td>0</td>\n",
       "    </tr>\n",
       "  </tbody>\n",
       "</table>\n",
       "</div>"
      ],
      "text/plain": [
       "   less_hs  someColl_assocAcad  prof_voc  edu_Bachelors  edu_Doctorate  \\\n",
       "0        0                   0         0              1              0   \n",
       "1        0                   0         0              1              0   \n",
       "2        0                   0         0              0              0   \n",
       "3        1                   0         0              0              0   \n",
       "4        0                   0         0              1              0   \n",
       "\n",
       "   edu_HS  edu_Masters  sex_Female  earn50K  \n",
       "0       0            0           0        0  \n",
       "1       0            0           0        0  \n",
       "2       1            0           0        0  \n",
       "3       0            0           0        0  \n",
       "4       0            0           1        0  "
      ]
     },
     "execution_count": 359,
     "metadata": {},
     "output_type": "execute_result"
    }
   ],
   "source": [
    "# read in, format, and view data\n",
    "census = pd.read_csv('census_data.csv')\n",
    "census = census.loc[:, ('edu', 'sex', 'earning')]\n",
    "census_dum = pd.get_dummies(census)\n",
    "less_hs = np.sum(census_dum.loc[:, ('edu_10th', 'edu_11th', 'edu_12th', 'edu_1st-4th','edu_5th-6th', 'edu_7th-8th',\\\n",
    "                                    'edu_9th', 'edu_Preschool')].values, axis=1).reshape(len(census), -1)\n",
    "someColl_assocAcad = np.sum(census_dum.loc[:, ('edu_Assoc-acdm', 'edu_Some-college')].values, axis=1).reshape(len(census), -1)\n",
    "prof_voc = np.sum(census_dum.loc[:, ('edu_Assoc-voc', 'edu_Prof-school')].values, axis=1).reshape(len(census), -1)\n",
    "census_mat = np.concatenate([less_hs, someColl_assocAcad, prof_voc, census_dum.loc[:, ('edu_Bachelors','edu_Doctorate',\\\n",
    "                                                                          'edu_HS-grad', 'edu_Masters',\\\n",
    "                                                                          'sex_Female', 'earning_>50K')]], axis = 1)\n",
    "census = pd.DataFrame(census_mat)\n",
    "census.columns = ['less_hs', 'someColl_assocAcad', 'prof_voc', 'edu_Bachelors','edu_Doctorate', 'edu_HS',\\\n",
    "                  'edu_Masters', 'sex_Female', 'earn50K']\n",
    "census_logit = census.iloc[:, 1:]\n",
    "census.head()"
   ]
  },
  {
   "cell_type": "code",
   "execution_count": 295,
   "metadata": {},
   "outputs": [
    {
     "name": "stderr",
     "output_type": "stream",
     "text": [
      "Sequential sampling (1 chains in 1 job)\n",
      "NUTS: [Intercept]\n",
      "100%|██████████| 2500/2500 [01:17<00:00, 32.15it/s]\n"
     ]
    }
   ],
   "source": [
    "# bayesian logit; no education, no gender\n",
    "with pm.Model() as logit_noEduc_noGender:\n",
    "    \n",
    "    priors = {'Intercept': pm.Normal.dist(mu=0, sd=10)}\n",
    "    \n",
    "    pm.glm.GLM.from_formula('earn50K ~ 1', census, family = pm.glm.families.Binomial(), priors = priors)\n",
    "    \n",
    "    step = pm.step_methods.hmc.nuts.NUTS()\n",
    "    \n",
    "    noEduc_noGender_trace = pm.sampling.sample(draws = 2000, step = step, init = 'advi',\n",
    "                                           compute_convergence_checks = False, chains = 1, tuning = 10000,\n",
    "                                           target_accept=0.9)"
   ]
  },
  {
   "cell_type": "code",
   "execution_count": 293,
   "metadata": {},
   "outputs": [
    {
     "name": "stderr",
     "output_type": "stream",
     "text": [
      "Sequential sampling (1 chains in 1 job)\n",
      "NUTS: [sex_Female, Intercept]\n",
      "100%|██████████| 2500/2500 [02:17<00:00, 18.15it/s]\n"
     ]
    }
   ],
   "source": [
    "# bayesian logit; no education, gender\n",
    "with pm.Model() as logit_noEduc_gender:\n",
    "    \n",
    "    priors = {'Intercept': pm.Normal.dist(mu=0, sd=10),\n",
    "              'sex_Female': pm.Normal.dist(mu=0, sd=10)}\n",
    "    \n",
    "    pm.glm.GLM.from_formula('earn50K ~ sex_Female', census, family = pm.glm.families.Binomial(), priors = priors)\n",
    "    \n",
    "    step = pm.step_methods.hmc.nuts.NUTS()\n",
    "    \n",
    "    noEduc_gender_trace = pm.sampling.sample(draws = 2000, step = step, init = 'advi',\n",
    "                                           compute_convergence_checks = False, chains = 1, tuning = 10000,\n",
    "                                           target_accept=0.90)"
   ]
  },
  {
   "cell_type": "code",
   "execution_count": 380,
   "metadata": {},
   "outputs": [
    {
     "data": {
      "text/html": [
       "<div>\n",
       "<style>\n",
       "    .dataframe thead tr:only-child th {\n",
       "        text-align: right;\n",
       "    }\n",
       "\n",
       "    .dataframe thead th {\n",
       "        text-align: left;\n",
       "    }\n",
       "\n",
       "    .dataframe tbody tr th {\n",
       "        vertical-align: top;\n",
       "    }\n",
       "</style>\n",
       "<table border=\"1\" class=\"dataframe\">\n",
       "  <thead>\n",
       "    <tr style=\"text-align: right;\">\n",
       "      <th></th>\n",
       "      <th>WAIC</th>\n",
       "      <th>pWAIC</th>\n",
       "      <th>dWAIC</th>\n",
       "      <th>weight</th>\n",
       "      <th>SE</th>\n",
       "      <th>dSE</th>\n",
       "      <th>warning</th>\n",
       "    </tr>\n",
       "    <tr>\n",
       "      <th>Model</th>\n",
       "      <th></th>\n",
       "      <th></th>\n",
       "      <th></th>\n",
       "      <th></th>\n",
       "      <th></th>\n",
       "      <th></th>\n",
       "      <th></th>\n",
       "    </tr>\n",
       "  </thead>\n",
       "  <tbody>\n",
       "    <tr>\n",
       "      <th>Gender</th>\n",
       "      <td>34274.1</td>\n",
       "      <td>1.95</td>\n",
       "      <td>0</td>\n",
       "      <td>1</td>\n",
       "      <td>181.78</td>\n",
       "      <td>0</td>\n",
       "      <td>0</td>\n",
       "    </tr>\n",
       "    <tr>\n",
       "      <th>Intercept only</th>\n",
       "      <td>35949.9</td>\n",
       "      <td>0.91</td>\n",
       "      <td>1675.8</td>\n",
       "      <td>0</td>\n",
       "      <td>177.2</td>\n",
       "      <td>76.35</td>\n",
       "      <td>0</td>\n",
       "    </tr>\n",
       "  </tbody>\n",
       "</table>\n",
       "</div>"
      ],
      "text/plain": [
       "                   WAIC pWAIC   dWAIC weight      SE    dSE warning\n",
       "Model                                                              \n",
       "Gender          34274.1  1.95       0      1  181.78      0       0\n",
       "Intercept only  35949.9  0.91  1675.8      0   177.2  76.35       0"
      ]
     },
     "execution_count": 380,
     "metadata": {},
     "output_type": "execute_result"
    }
   ],
   "source": [
    "# get WAIC\n",
    "def make_compare(names, traces, models, ic='WAIC'):\n",
    "    comparedf = pm.compare(traces, models, method='pseudo-BMA')\n",
    "    temp = comparedf.sort_index()\n",
    "    temp['Model'] = names\n",
    "    comparedf = temp.sort_values(ic).set_index('Model')\n",
    "    return comparedf\n",
    " \n",
    "names = ['Intercept only', 'Gender']\n",
    "dfc = make_compare(names, [noEduc_noGender_trace, noEduc_gender_trace],[logit_noEduc_noGender, logit_noEduc_gender])\n",
    "dfc"
   ]
  },
  {
   "cell_type": "code",
   "execution_count": 506,
   "metadata": {},
   "outputs": [
    {
     "name": "stderr",
     "output_type": "stream",
     "text": [
      "100%|██████████| 10000/10000 [01:50<00:00, 90.30it/s]\n"
     ]
    }
   ],
   "source": [
    "# sample from posterior for no educ, gender model\n",
    "with logit_noEduc_gender:\n",
    "    noEduc_gender_pp = sample_ppc(noEduc_gender_trace, samples = 10000)"
   ]
  },
  {
   "cell_type": "code",
   "execution_count": 509,
   "metadata": {},
   "outputs": [
    {
     "data": {
      "image/png": "[encoded data removed]",
      "text/plain": [
       "<matplotlib.figure.Figure at 0x7f0f8f9d2048>"
      ]
     },
     "metadata": {},
     "output_type": "display_data"
    }
   ],
   "source": [
    "# produce plot like figure 10.5\n",
    "edu_names_ordered = ['less_hs', 'edu_HS', 'someColl_assocAcad', 'prof_voc', 'edu_Bachelors', 'edu_Masters',\\\n",
    "                     'edu_Doctorate']\n",
    "male_props_by_edu = []\n",
    "female_props_by_edu = []\n",
    "pred_male_props_by_edu = []\n",
    "pred_female_props_by_edu = []\n",
    "std_pred_male_props_by_edu = []\n",
    "std_pred_female_props_by_edu = []\n",
    "for col in edu_names_ordered:\n",
    "    for gender in [0, 1]:\n",
    "        census_current = census[(census[col] == 1) & (census['sex_Female'] == gender)]\n",
    "        if gender == 0:\n",
    "            male_props_by_edu.append(census_current['earn50K'].mean())\n",
    "            pred_matrix = noEduc_gender_pp['y'].T[census_current.index]\n",
    "            pred_male_props_by_edu.append(np.mean(pred_matrix))\n",
    "            std_pred_male_props_by_edu.append(np.std(np.mean(pred_matrix, axis=0), ddof=1))\n",
    "        elif gender == 1:\n",
    "            female_props_by_edu.append(census_current['earn50K'].mean())\n",
    "            pred_matrix = noEduc_gender_pp['y'].T[census_current.index]\n",
    "            pred_female_props_by_edu.append(np.mean(pred_matrix))\n",
    "            std_pred_female_props_by_edu.append(np.std(np.mean(pred_matrix, axis=0), ddof=1))\n",
    "            \n",
    "for i in range(len(edu_names_ordered)):\n",
    "    plt.plot(np.arange(2*i, 2+2*i), [male_props_by_edu[i], female_props_by_edu[i]], 'r')\n",
    "    plt.plot(np.arange(2*i, 2+2*i), [pred_male_props_by_edu[i], pred_female_props_by_edu[i]], marker='o', color='blue', linestyle='None')\n",
    "    plt.plot(np.arange(2*i, 2+2*i), [pred_male_props_by_edu[i]+2*std_pred_male_props_by_edu[i], pred_female_props_by_edu[i]+2*std_pred_female_props_by_edu[i]], linestyle = 'None', marker='+', color='blue')\n",
    "    plt.plot(np.arange(2*i, 2+2*i), [pred_male_props_by_edu[i]-2*std_pred_male_props_by_edu[i], pred_female_props_by_edu[i]-2*std_pred_female_props_by_edu[i]], linestyle = 'None', marker='+', color='blue')\n",
    "plt.title('Model: Gender, No Education')\n",
    "plt.ylabel('Proportion Earning over $50,000')\n",
    "plt.xlabel('Case')\n",
    "plt.show()"
   ]
  },
  {
   "cell_type": "markdown",
   "metadata": {},
   "source": [
    "Case 0: Male, some HS or less\n",
    "\n",
    "Case 1: Female, some HS or less\n",
    "\n",
    "Case 2: Male, HS\n",
    "\n",
    "Case 3: Female, HS\n",
    "\n",
    "Case 4: Male, some college or academic associates degree\n",
    "\n",
    "Case 5: Female, some college or academic associates degree\n",
    "\n",
    "Case 6: Male, professional or vocational school\n",
    "\n",
    "Case 7: Female, professional or vocational school\n",
    "\n",
    "Case 8: Male, Bachelor's degree\n",
    "\n",
    "Case 9: Female, Bachelor's\n",
    "\n",
    "Case 10: Male, Master's degree\n",
    "\n",
    "Case 11: Female, Master's degree\n",
    "\n",
    "Case 12: Male, Doctorate\n",
    "\n",
    "Case 13: Female, Doctorate\n",
    "\n",
    "Red lines: Observed proportions of those earning over $50,000\n",
    "\n",
    "Blue dots: Sample means of posterior predictive samples\n",
    "\n",
    "Blue pluses: 2-sigma bounds for sample means of posterior predictive samples"
   ]
  },
  {
   "cell_type": "markdown",
   "metadata": {},
   "source": [
    "The WAIC values indicate that gender is an important variable in predicting earnings over \\$50,000. The model fit indicates that males are more likely to earn over \\$50,000 than females and that the difference in the probability that a male earns over \\$50,000 and the probability that a female earns over \\$50,000 is the same for each level of education. However, the plot shows that this difference varies by education level in the observed data, implying that the model is not well specified."
   ]
  },
  {
   "cell_type": "code",
   "execution_count": 298,
   "metadata": {},
   "outputs": [
    {
     "name": "stderr",
     "output_type": "stream",
     "text": [
      "Sequential sampling (1 chains in 1 job)\n",
      "NUTS: [edu_Masters, edu_HS, edu_Doctorate, edu_Bachelors, prof_voc, someColl_assocAcad, Intercept]\n",
      "100%|██████████| 2500/2500 [05:14<00:00,  7.95it/s]\n"
     ]
    }
   ],
   "source": [
    "# bayesian logit; education, no gender\n",
    "with pm.Model() as logit_educ_noGender:\n",
    "    \n",
    "    priors = {'Intercept': pm.Normal.dist(mu=0, sd=10),\n",
    "              'someColl_assocAcad': pm.Normal.dist(mu=0, sd=10),\n",
    "              'prof_voc': pm.Normal.dist(mu=0, sd=10),\n",
    "              'edu_Bachelors': pm.Normal.dist(mu=0, sd=10),\n",
    "              'edu_Doctorate': pm.Normal.dist(mu=0, sd=10),\n",
    "              'edu_HS': pm.Normal.dist(mu=0, sd=10),\n",
    "              'edu_Masters': pm.Normal.dist(mu=0, sd=10)}\n",
    "    \n",
    "    pm.glm.GLM.from_formula('earn50K ~ someColl_assocAcad+prof_voc+edu_Bachelors+edu_Doctorate+edu_HS+edu_Masters',\\\n",
    "                            census, family = pm.glm.families.Binomial(), priors = priors)\n",
    "    \n",
    "    step = pm.step_methods.hmc.nuts.NUTS()\n",
    "    \n",
    "    educ_noGender_trace = pm.sampling.sample(draws = 2000, step = step, init = 'advi',\n",
    "                                           compute_convergence_checks = False, chains = 1, tuning = 10000,\n",
    "                                           target_accept=0.90)"
   ]
  },
  {
   "cell_type": "code",
   "execution_count": 314,
   "metadata": {},
   "outputs": [
    {
     "name": "stderr",
     "output_type": "stream",
     "text": [
      "Sequential sampling (1 chains in 1 job)\n",
      "NUTS: [sex_Female, edu_Masters, edu_HS, edu_Doctorate, edu_Bachelors, prof_voc, someColl_assocAcad, Intercept]\n",
      "100%|██████████| 2500/2500 [04:03<00:00, 10.28it/s]\n",
      "The acceptance probability does not match the target. It is 0.879089710495, but should be close to 0.8. Try to increase the number of tuning steps.\n"
     ]
    }
   ],
   "source": [
    "# bayesian logit; education, gender\n",
    "with pm.Model() as logit_educ_gender:\n",
    "    \n",
    "    priors = {'Intercept': pm.Normal.dist(mu=0, sd=10),\n",
    "              'someColl_assocAcad': pm.Normal.dist(mu=0, sd=10),\n",
    "              'prof_voc': pm.Normal.dist(mu=0, sd=10),\n",
    "              'edu_Bachelors': pm.Normal.dist(mu=0, sd=10),\n",
    "              'edu_Doctorate': pm.Normal.dist(mu=0, sd=10),\n",
    "              'edu_HS': pm.Normal.dist(mu=0, sd=10),\n",
    "              'edu_Masters': pm.Normal.dist(mu=0, sd=10),\n",
    "              'sex_Female': pm.Normal.dist(mu=0, sd=10)}\n",
    "    \n",
    "    pm.glm.GLM.from_formula('earn50K ~ someColl_assocAcad+prof_voc+edu_Bachelors+edu_Doctorate+edu_HS+edu_Masters+sex_Female',\n",
    "                            census, family = pm.glm.families.Binomial(), priors = priors)\n",
    "    \n",
    "    step = pm.step_methods.hmc.nuts.NUTS()\n",
    "    \n",
    "    educ_gender_trace = pm.sampling.sample(draws = 2000, step = step, init = 'advi',\n",
    "                                           compute_convergence_checks = False, chains = 1, tuning = 10000,\n",
    "                                           target_accept=0.90)"
   ]
  },
  {
   "cell_type": "code",
   "execution_count": 315,
   "metadata": {},
   "outputs": [
    {
     "data": {
      "text/html": [
       "<div>\n",
       "<style>\n",
       "    .dataframe thead tr:only-child th {\n",
       "        text-align: right;\n",
       "    }\n",
       "\n",
       "    .dataframe thead th {\n",
       "        text-align: left;\n",
       "    }\n",
       "\n",
       "    .dataframe tbody tr th {\n",
       "        vertical-align: top;\n",
       "    }\n",
       "</style>\n",
       "<table border=\"1\" class=\"dataframe\">\n",
       "  <thead>\n",
       "    <tr style=\"text-align: right;\">\n",
       "      <th></th>\n",
       "      <th>WAIC</th>\n",
       "      <th>pWAIC</th>\n",
       "      <th>dWAIC</th>\n",
       "      <th>weight</th>\n",
       "      <th>SE</th>\n",
       "      <th>dSE</th>\n",
       "      <th>warning</th>\n",
       "    </tr>\n",
       "    <tr>\n",
       "      <th>Model</th>\n",
       "      <th></th>\n",
       "      <th></th>\n",
       "      <th></th>\n",
       "      <th></th>\n",
       "      <th></th>\n",
       "      <th></th>\n",
       "      <th></th>\n",
       "    </tr>\n",
       "  </thead>\n",
       "  <tbody>\n",
       "    <tr>\n",
       "      <th>educ and gender</th>\n",
       "      <td>30428.6</td>\n",
       "      <td>8.05</td>\n",
       "      <td>0</td>\n",
       "      <td>1</td>\n",
       "      <td>196.08</td>\n",
       "      <td>0</td>\n",
       "      <td>0</td>\n",
       "    </tr>\n",
       "    <tr>\n",
       "      <th>educ</th>\n",
       "      <td>32151.5</td>\n",
       "      <td>6.85</td>\n",
       "      <td>1722.92</td>\n",
       "      <td>0</td>\n",
       "      <td>193.03</td>\n",
       "      <td>77.93</td>\n",
       "      <td>0</td>\n",
       "    </tr>\n",
       "  </tbody>\n",
       "</table>\n",
       "</div>"
      ],
      "text/plain": [
       "                    WAIC pWAIC    dWAIC weight      SE    dSE warning\n",
       "Model                                                                \n",
       "educ and gender  30428.6  8.05        0      1  196.08      0       0\n",
       "educ             32151.5  6.85  1722.92      0  193.03  77.93       0"
      ]
     },
     "execution_count": 315,
     "metadata": {},
     "output_type": "execute_result"
    }
   ],
   "source": [
    "# get WAIC\n",
    "names = ['educ', 'educ and gender']\n",
    "dfc = make_compare(names, [educ_noGender_trace, educ_gender_trace],[logit_educ_noGender, logit_educ_gender])\n",
    "dfc"
   ]
  },
  {
   "cell_type": "code",
   "execution_count": 507,
   "metadata": {},
   "outputs": [
    {
     "name": "stderr",
     "output_type": "stream",
     "text": [
      "100%|██████████| 10000/10000 [02:16<00:00, 73.34it/s]\n"
     ]
    }
   ],
   "source": [
    "# sample from posterior for educ, gender model\n",
    "with logit_educ_gender:\n",
    "    educ_gender_pp = sample_ppc(educ_gender_trace, samples = 10000)"
   ]
  },
  {
   "cell_type": "code",
   "execution_count": 516,
   "metadata": {},
   "outputs": [
    {
     "data": {
      "image/png": "[encoded data removed]",
      "text/plain": [
       "<matplotlib.figure.Figure at 0x7f0f940d1518>"
      ]
     },
     "metadata": {},
     "output_type": "display_data"
    }
   ],
   "source": [
    "# produce plot like figure 10.6\n",
    "edu_names_ordered = ['less_hs', 'edu_HS', 'someColl_assocAcad', 'prof_voc', 'edu_Bachelors', 'edu_Masters',\\\n",
    "                     'edu_Doctorate']\n",
    "male_props_by_edu = []\n",
    "female_props_by_edu = []\n",
    "pred_male_props_by_edu = []\n",
    "pred_female_props_by_edu = []\n",
    "std_pred_male_props_by_edu = []\n",
    "std_pred_female_props_by_edu = []\n",
    "for col in edu_names_ordered:\n",
    "    for gender in [0, 1]:\n",
    "        census_current = census[(census[col] == 1) & (census['sex_Female'] == gender)]\n",
    "        if gender == 0:\n",
    "            male_props_by_edu.append(census_current['earn50K'].mean())\n",
    "            pred_matrix = educ_gender_pp['y'].T[census_current.index]\n",
    "            pred_male_props_by_edu.append(np.mean(np.mean(pred_matrix, axis=0)))\n",
    "            std_pred_male_props_by_edu.append(np.std(np.mean(pred_matrix, axis=0), ddof=1))\n",
    "        elif gender == 1:\n",
    "            female_props_by_edu.append(census_current['earn50K'].mean())\n",
    "            pred_matrix = educ_gender_pp['y'].T[census_current.index]\n",
    "            pred_female_props_by_edu.append(np.mean(np.mean(pred_matrix, axis=0)))\n",
    "            std_pred_female_props_by_edu.append(np.std(np.mean(pred_matrix, axis=0), ddof=1))\n",
    "            \n",
    "for i in range(len(edu_names_ordered)):\n",
    "    plt.plot(np.arange(2*i, 2+2*i), [male_props_by_edu[i], female_props_by_edu[i]], 'r')\n",
    "    plt.plot(np.arange(2*i, 2+2*i), [pred_male_props_by_edu[i], pred_female_props_by_edu[i]], marker='o', color='blue', linestyle='None')\n",
    "    plt.plot(np.arange(2*i, 2+2*i), [pred_male_props_by_edu[i]+2*std_pred_male_props_by_edu[i], pred_female_props_by_edu[i]+2*std_pred_female_props_by_edu[i]], linestyle = 'None', marker='+', color='blue')\n",
    "    plt.plot(np.arange(2*i, 2+2*i), [pred_male_props_by_edu[i]-2*std_pred_male_props_by_edu[i], pred_female_props_by_edu[i]-2*std_pred_female_props_by_edu[i]], linestyle = 'None', marker='+', color='blue')\n",
    "plt.title('Model: Gender and Education')\n",
    "plt.ylabel('Proportion Earning over $50,000')\n",
    "plt.xlabel('Case')\n",
    "plt.show()"
   ]
  },
  {
   "cell_type": "markdown",
   "metadata": {},
   "source": [
    "Case 0: Male, some HS or less\n",
    "\n",
    "Case 1: Female, some HS or less\n",
    "\n",
    "Case 2: Male, HS\n",
    "\n",
    "Case 3: Female, HS\n",
    "\n",
    "Case 4: Male, some college or academic associates degree\n",
    "\n",
    "Case 5: Female, some college or academic associates degree\n",
    "\n",
    "Case 6: Male, professional or vocational school\n",
    "\n",
    "Case 7: Female, professional or vocational school\n",
    "\n",
    "Case 8: Male, Bachelor's degree\n",
    "\n",
    "Case 9: Female, Bachelor's\n",
    "\n",
    "Case 10: Male, Master's degree\n",
    "\n",
    "Case 11: Female, Master's degree\n",
    "\n",
    "Case 12: Male, Doctorate\n",
    "\n",
    "Case 13: Female, Doctorate\n",
    "\n",
    "Red lines: Observed proportions of those earning over $50,000\n",
    "\n",
    "Blue dots: Sample means of posterior predictive samples\n",
    "\n",
    "Blue pluses: 2-sigma bounds for sample means of posterior predictive samples"
   ]
  },
  {
   "cell_type": "markdown",
   "metadata": {},
   "source": [
    "The WAIC values indicate that gender is an important variable in predicting earnings over \\$50,000, even after controlling for education level. The model fit indicates that males are more likely to earn over \\$50,000 than females and that the difference in the probability that a male earns over \\$50,000 and the probability that a female earns over \\$50,000 varies by level of education. The plot shows that this difference varies by education level in the observed data and that the model is much more well specified than when not accounting for education level."
   ]
  }
 ],
 "metadata": {
  "anaconda-cloud": {},
  "kernel_info": {
   "name": "python3"
  },
  "kernelspec": {
   "display_name": "Python 3",
   "language": "python",
   "name": "python3"
  },
  "language_info": {
   "codemirror_mode": {
    "name": "ipython",
    "version": 3
   },
   "file_extension": ".py",
   "mimetype": "text/x-python",
   "name": "python",
   "nbconvert_exporter": "python",
   "pygments_lexer": "ipython3",
   "version": "3.6.3"
  },
  "nteract": {
   "version": "0.8.4"
  }
 },
 "nbformat": 4,
 "nbformat_minor": 2
}
